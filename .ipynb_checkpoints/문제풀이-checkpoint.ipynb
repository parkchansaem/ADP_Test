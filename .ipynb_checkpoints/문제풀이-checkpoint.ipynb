{
 "cells": [
  {
   "cell_type": "markdown",
   "metadata": {},
   "source": [
    "추정과 가설검정 문제풀이"
   ]
  },
  {
   "cell_type": "markdown",
   "metadata": {},
   "source": [
    "1. 다음 데이터의 모분산 정보가 없을 때, 다음 데이터의 모평균에 대한 95% 신뢰수준의 신뢰구간을 구하시오. 또한, 다음 데이터의 모표준판차가 3이라는 것을 알고 있을때,\n",
    "다음 데이터의 모평균에 대한 95% 신뢰수준의 신뢰구간을구하시오\n",
    "\n",
    "[10,19,15,11,13,14,18]"
   ]
  },
  {
   "cell_type": "code",
   "execution_count": 33,
   "metadata": {},
   "outputs": [
    {
     "name": "stdout",
     "output_type": "stream",
     "text": [
      "1번에 대한 신뢰구간은 11.185329061331894 ~ 17.386099510096678 \n",
      "2번에 대한 신뢰구간은 12.063324022113047 ~ 16.508104549315526\n"
     ]
    }
   ],
   "source": [
    "# 1. 모분산을 모를때 \n",
    "import numpy as np \n",
    "import pandas as pd\n",
    "data = [10,19,15,11,13,14,18]\n",
    "df = pd.DataFrame(data)\n",
    "\n",
    "x = df.mean().item() # 표본 평균\n",
    "n = len(df)\n",
    "s = np.std(df, ddof=1).item()\n",
    "conf_a = 0.05\n",
    "df = n-1\n",
    "\n",
    "from scipy.stats import t\n",
    "SE = s / np.sqrt(n)\n",
    "conf_t = t.ppf(1-conf_a/2,df)\n",
    "ME = conf_t * SE\n",
    "\n",
    "print(f\"1번에 대한 신뢰구간은 {x-ME} ~ {x+ME} \")\n",
    "\n",
    "# 2. 모표준편차를 알때\n",
    "sigma = 3\n",
    "\n",
    "from scipy.stats import norm\n",
    "SE = sigma / np.sqrt(n)\n",
    "conf_z = norm.ppf(1-conf_a/2)\n",
    "ME = conf_z * SE\n",
    "\n",
    "print(f\"2번에 대한 신뢰구간은 {x-ME} ~ {x+ME}\")"
   ]
  },
  {
   "cell_type": "markdown",
   "metadata": {},
   "source": [
    "2. 어느 제조회사의 불량률이 5%로 알려져 있다면, 95% 신뢰수준에서 오차의 한계가 3%가 되도록 하는 최소 표본 사이즈를 구하시오"
   ]
  },
  {
   "cell_type": "code",
   "execution_count": 34,
   "metadata": {},
   "outputs": [
    {
     "name": "stdout",
     "output_type": "stream",
     "text": [
      "최소 표본 사이즈는 202.74365998107885\n"
     ]
    }
   ],
   "source": [
    "# 불량률이 5% 모비율\n",
    "\n",
    "conf_a = 0.05\n",
    "p = 0.05\n",
    "ME2 = 0.03\n",
    "conf_z = norm.ppf(1-conf_a/2)\n",
    "ssize = conf_z **2 * p * (1-p) / ME2 ** 2\n",
    "\n",
    "print(f\"최소 표본 사이즈는 {ssize}\")\n",
    "\n"
   ]
  },
  {
   "cell_type": "markdown",
   "metadata": {},
   "source": [
    "3. 임의로 추출한 표본 30개의 분산을 계산했더니 50일 때, 신뢰도 95%로 모분산의 신뢰구간을 추정하시오(소수 둘째자리 반올림)"
   ]
  },
  {
   "cell_type": "code",
   "execution_count": 37,
   "metadata": {},
   "outputs": [
    {
     "name": "stdout",
     "output_type": "stream",
     "text": [
      " 신뢰 구간은 31.713 ~ 90.359\n"
     ]
    }
   ],
   "source": [
    "# 임의 추출 30개 분산  = 50 , 모분산 문제\n",
    "n = 30 #표본 크기\n",
    "v = 50 # 표본 분산\n",
    "df = n-1\n",
    "conf_a = 0.05\n",
    "\n",
    "from scipy.stats import chi2\n",
    "conf_c1 = chi2.ppf(1-conf_a/2,df)\n",
    "conf_c2 = chi2.ppf(conf_a/2,df)\n",
    "CR1 = df * v /conf_c1\n",
    "CR2 = df * v/ conf_c2\n",
    "\n",
    "print(f\" 신뢰 구간은 {CR1:.3f} ~ {CR2:.3f}\")"
   ]
  },
  {
   "cell_type": "markdown",
   "metadata": {},
   "source": [
    "4. 어느 뽑기 기계에서 20번 뽑기를 했더니 그 중 5개는 미니카였다. 해당 뽑기 기계에 있는 장난감들 중 미니카의 비율을 P라고 한다면, 모비율 P에 대한 95% 신뢰구구간을 구하시오"
   ]
  },
  {
   "cell_type": "code",
   "execution_count": 38,
   "metadata": {},
   "outputs": [
    {
     "name": "stdout",
     "output_type": "stream",
     "text": [
      "모비율의 신뢰구간은 0.060227303217750994 ~ 0.439772696782249\n"
     ]
    }
   ],
   "source": [
    "# 20번 추출 5개 , 미니카 비율 p -> 모비율에 대한 신뢰구간\n",
    "n = 20\n",
    "p = 5/20\n",
    "conf_a = 0.05\n",
    "\n",
    "from scipy.stats import norm\n",
    "SE = np.sqrt(p*(1-p)/n)\n",
    "conf_z = norm.ppf(1-conf_a/2)\n",
    "ME = SE * conf_z\n",
    "\n",
    "print( f\"모비율의 신뢰구간은 {p-ME} ~ {p+ME}\")"
   ]
  },
  {
   "cell_type": "markdown",
   "metadata": {},
   "source": [
    "5. A 국가의 성인 남성의 흡연율이 35%라고 발표하였으나 B는 그것보다 더 높은 수치를 예상했다. 이에 성인 남성 중 450명을 임의 추출하여 조사한 결과 180명이 흡연자인 것을 확인하였다. 이에 대하여 귀무가설과 대립가설을 세우고, 검정통계량을 계산하여 검정결과를 서술하시오."
   ]
  },
  {
   "cell_type": "code",
   "execution_count": 45,
   "metadata": {},
   "outputs": [
    {
     "name": "stdout",
     "output_type": "stream",
     "text": [
      "정정 - 귀무가설은 두비율의 차이가 없다. 대립가설: B가 더 높다.\n",
      "검정 통계량 2.2237479499833053, 검정결과 0.013 으로 귀무가설을 기각한다 (모비율이 0.35보다 높다) \n"
     ]
    }
   ],
   "source": [
    "# a : 흡연율 35% b: a<b | 표본 450 -> x 180\n",
    "#  모비율 추정\n",
    "# 유의 수준 : 0.05\n",
    "# 귀무가설 : 모비율이 0.35보다 높다 / 대립가설 : 모비율이 0.35보다 낮다. 표본 P < 귀무가설 모비율 P0\n",
    "n = 450 # 표본 크기\n",
    "p = 180/450 # 표본 비율\n",
    "p0 = 0.35\n",
    "test_a =0.05\n",
    "SE = np.sqrt(p0 * (1-p0)/n) #귀무가설의 모비율\n",
    "zstat = (p-p0)/SE\n",
    "\n",
    "sp = 1-norm.cdf(zstat)\n",
    "cv = norm.ppf(1-test_a)\n",
    "\n",
    "# print(f\"검정 통계량 {zstat}, 검정결과 {sp:.3f} 으로 귀무가설을 기각하지 않는다. (모비율이 0.35보다 높다) \")\n",
    "print(f\"정정 - 귀무가설은 두비율의 차이가 없다. 대립가설: B가 더 높다.\\n\\\n",
    "검정 통계량 {zstat}, 검정결과 {sp:.3f} 으로 귀무가설을 기각한다 (모비율이 0.35보다 높다) \")\n",
    "\n"
   ]
  },
  {
   "cell_type": "markdown",
   "metadata": {},
   "source": [
    "6. 모평균을 모르는 상황에서 표본의 정보를 통해 모분산이 10인지 아닌지 여부를 검정하고자 한다. 50개의 표본을 임의로 추출하여 계산한 결과 표본의 분산은 8.8로 나타났다. 이에 대해 귀무가설과 대립가설을 세우고, 검정통계량을 계산하여 검정 결과를 서술하시오(유의수준 0.05)"
   ]
  },
  {
   "cell_type": "code",
   "execution_count": 47,
   "metadata": {},
   "outputs": [
    {
     "name": "stdout",
     "output_type": "stream",
     "text": [
      "임계값 1.6448536269514722, 유의수준 0.05,유의확률 0.5813325364312475, 귀무가설을 기각하지 못하여 모분산은 10과 차이나지 않는다..\n"
     ]
    }
   ],
   "source": [
    "# 모평균 모름/ 모분산 검정 / 표본 50 -> 표본의 분산8.8 / \n",
    "#  귀무가설 : 모분산(10)과 표본분산은 동일하다. 대립가설 : 동일하지 않다.\n",
    "n = 50\n",
    "v = 8.8\n",
    "df = n-1\n",
    "test_a = 0.05\n",
    "v0 = 10\n",
    "\n",
    "cstat = df * v /v0 # 카이제곱 통계량\n",
    "\n",
    "if chi2.cdf(cstat,df) <0.5:\n",
    "    sp = (chi2.cdf(cstat, df))*2\n",
    "else: \n",
    "    sp = (1- chi2.cdf(cstat,df))*2\n",
    "cv1 = chi2.ppf(test_a/2,df)\n",
    "cv2 = chi2.ppf(1-test_a/2,df)\n",
    "\n",
    "print(f\"임계값 {cv}, 유의수준 {test_a},유의확률 {sp}, 귀무가설을 기각하지 못하여 모분산은 10과 차이나지 않는다..\")\n",
    "\n",
    "\n"
   ]
  },
  {
   "cell_type": "markdown",
   "metadata": {},
   "source": [
    "7. 50명의 당뇨환자에 대해 신약 투약 이전과 이후의 평균 혈당 차이가 15, 표준편차 4 일때 투약 전후 평균 혈당의 차이가 존재하는지 확인하고자 한다. 이에 대해 귀무가설과 대립가설을 제시하고, 검정통계량과 유의확률을 구하여 검정 결과를 서술하시오.(유의수준 0.05)"
   ]
  },
  {
   "cell_type": "code",
   "execution_count": 51,
   "metadata": {},
   "outputs": [
    {
     "name": "stdout",
     "output_type": "stream",
     "text": [
      "귀무가설은 전후의 차이가 없다 / 대립가설은 전후의 차이가 존재한다.\n",
      "임계값 2.0095752371292397,검정통계량 26.516504294495533, 유의수준 0.05, 유의확률 0.0\n",
      "귀무가설을 기각하여 전후 차이가 존재한다.\n"
     ]
    }
   ],
   "source": [
    "# 50명 당뇨 환자 전후 비교 t 테스트 \n",
    "n = 50\n",
    "a = 4\n",
    "#평균차이는 15\n",
    "d_mean = 15\n",
    "d_std = 4\n",
    "SE = d_std / np.sqrt(n)\n",
    "test_a = 0.05\n",
    "tstat = (d_mean - 0)/ SE\n",
    "df = n-1\n",
    "\n",
    "sp = (1-t.cdf(np.abs(tstat),df))*2\n",
    "cv = t.ppf(1-test_a/2,df)\n",
    "print(\"귀무가설은 전후의 차이가 없다 / 대립가설은 전후의 차이가 존재한다.\")\n",
    "print(f\"임계값 {cv},검정통계량 {tstat}, 유의수준 {test_a}, 유의확률 {sp}\")\n",
    "print(\"귀무가설을 기각하여 전후 차이가 존재한다.\")"
   ]
  },
  {
   "cell_type": "markdown",
   "metadata": {},
   "source": [
    "8. 가수 A에 대한 호감도가 남녀별로 다른지 알아보고자 다음과 같은 데이터를 얻었다. 남녀 별로 지지율에 차이가 있는지 검정하시오 (유의수준 0.05)  \n",
    "   남성(총 100명) 30% 호감 | 여성(총 180명) 35% 호감"
   ]
  },
  {
   "cell_type": "code",
   "execution_count": 55,
   "metadata": {},
   "outputs": [
    {
     "name": "stdout",
     "output_type": "stream",
     "text": [
      "귀무가설은 남녀별로 지지율 차이가 없다 / 대립가설은 남녀별로 차이가 있다.\n",
      "임계값 1.959963984540054, 검정통계량-0.8511831054314234, 유의확률 0.3946676461708256\n"
     ]
    }
   ],
   "source": [
    "# 가수 A에 대한 호감도 / 성별 차이\n",
    "n1 = 100\n",
    "p1 = 0.3\n",
    "n2 = 180 \n",
    "p2 = 0.35\n",
    "conf_a = 0.05\n",
    "\n",
    "d = p1 - p2\n",
    "d0 = 0\n",
    "test_a = 0.05\n",
    "\n",
    "pe = (n1*p1 + n2*p2) / (n1+n2) # 합동 표본 비율\n",
    "SE2 = np.sqrt( pe * (1-pe) * (1/n1 + 1/n2))\n",
    "zstat = (d-d0) / SE2  \n",
    "\n",
    "sp = (1-norm.cdf(np.abs(zstat)))*2\n",
    "cv = norm.ppf(1-test_a/2)\n",
    "\n",
    "print(\"귀무가설은 남녀별로 지지율 차이가 없다 / 대립가설은 남녀별로 차이가 있다.\")\n",
    "print(f\"임계값 {cv}, 검정통계량{zstat }, 유의확률 {sp}\" )\n",
    "print(\"귀무가설을 기각하지 못해 남녀별로 차이가 있다.\")"
   ]
  },
  {
   "cell_type": "markdown",
   "metadata": {},
   "source": [
    "9. A브랜드의 제품 14개를 추출하여 구한 평균과 표준편차는 각각 100g, 5g이고,B 브랜드의 제품 12개를 추출하여 구한 평균과 표준편차는 각각 110g, 6g이라면, 두 제품의 평균이 차이가 있는지 여부를 검정하시오(유의수준 0.05)"
   ]
  },
  {
   "cell_type": "code",
   "execution_count": 59,
   "metadata": {},
   "outputs": [
    {
     "name": "stdout",
     "output_type": "stream",
     "text": [
      "0.526024289174073\n",
      "귀무가설은 두제품의 차이가 없다/ 대립가설은 두품의 차이가 있다. \n",
      "유의확률이 0.526024289174073로 귀무가설을 기각하지 못하고 대립가설인 두 제품의 차이가 있다가 채택되었다.\n"
     ]
    }
   ],
   "source": [
    "# 14개 추출  / \n",
    "from scipy.stats import f\n",
    "n1 = 14\n",
    "mu1 = 100\n",
    "s1 = 5\n",
    "n2 = 12\n",
    "mu2 = 110\n",
    "s2 = 6\n",
    "df1 = n1 - 1\n",
    "df2 = n2 - 1\n",
    "test_a = 0.05\n",
    "v1 = s1**2\n",
    "v2 = s2 **2\n",
    "fstat =v1/v2\n",
    "\n",
    "if f.cdf(fstat,df1,df2)< 0.5:\n",
    "    sp = (f.cdf(fstat,df1,df2))*2\n",
    "else: \n",
    "    sp =(1-f.cdf(fstat,df1,df2))*2\n",
    "print(sp)\n",
    "print(\"귀무가설은 두제품의 차이가 없다/ 대립가설은 두품의 차이가 있다. \")\n",
    "print(f\"유의확률이 {sp}로 귀무가설을 기각하지 못하고 대립가설인 두 제품의 차이가 있다가 채택되었다.\")"
   ]
  },
  {
   "cell_type": "markdown",
   "metadata": {},
   "source": [
    "10. iris target별로 sepal length의 평균에 차이가 있는지 가설검정하시오. 차이가 있다면 어느 target들 사이에 평균 차이가 있는지 사후 검정하시오 "
   ]
  },
  {
   "cell_type": "code",
   "execution_count": 60,
   "metadata": {},
   "outputs": [
    {
     "name": "stdout",
     "output_type": "stream",
     "text": [
      "     sepallength  sepalwidth  petallength  petalwidth     target\n",
      "0            5.1         3.5          1.4         0.2     setosa\n",
      "1            4.9         3.0          1.4         0.2     setosa\n",
      "2            4.7         3.2          1.3         0.2     setosa\n",
      "3            4.6         3.1          1.5         0.2     setosa\n",
      "4            5.0         3.6          1.4         0.2     setosa\n",
      "..           ...         ...          ...         ...        ...\n",
      "145          6.7         3.0          5.2         2.3  virginica\n",
      "146          6.3         2.5          5.0         1.9  virginica\n",
      "147          6.5         3.0          5.2         2.0  virginica\n",
      "148          6.2         3.4          5.4         2.3  virginica\n",
      "149          5.9         3.0          5.1         1.8  virginica\n",
      "\n",
      "[150 rows x 5 columns]\n"
     ]
    }
   ],
   "source": [
    "from sklearn.datasets import load_iris\n",
    "import pandas as pd\n",
    "import numpy as np\n",
    "load = load_iris()\n",
    "feature_names = list(map(lambda x : x.replace(\"(cm)\",\"\").replace(' ',''), load[\"feature_names\"]))\n",
    "data = pd.DataFrame(np.c_[load['data'],load['target']], columns = feature_names+['target'])\n",
    "data['target'] = data['target'].map({0:load['target_names'][0], 1:load['target_names'][1], 2:load['target_names'][2]})\n",
    "print(data)"
   ]
  },
  {
   "cell_type": "code",
   "execution_count": 61,
   "metadata": {},
   "outputs": [
    {
     "data": {
      "text/html": [
       "<div>\n",
       "<style scoped>\n",
       "    .dataframe tbody tr th:only-of-type {\n",
       "        vertical-align: middle;\n",
       "    }\n",
       "\n",
       "    .dataframe tbody tr th {\n",
       "        vertical-align: top;\n",
       "    }\n",
       "\n",
       "    .dataframe thead th {\n",
       "        text-align: right;\n",
       "    }\n",
       "</style>\n",
       "<table border=\"1\" class=\"dataframe\">\n",
       "  <thead>\n",
       "    <tr style=\"text-align: right;\">\n",
       "      <th></th>\n",
       "      <th>sepallength</th>\n",
       "      <th>sepalwidth</th>\n",
       "      <th>petallength</th>\n",
       "      <th>petalwidth</th>\n",
       "      <th>target</th>\n",
       "    </tr>\n",
       "  </thead>\n",
       "  <tbody>\n",
       "    <tr>\n",
       "      <th>0</th>\n",
       "      <td>5.1</td>\n",
       "      <td>3.5</td>\n",
       "      <td>1.4</td>\n",
       "      <td>0.2</td>\n",
       "      <td>setosa</td>\n",
       "    </tr>\n",
       "    <tr>\n",
       "      <th>1</th>\n",
       "      <td>4.9</td>\n",
       "      <td>3.0</td>\n",
       "      <td>1.4</td>\n",
       "      <td>0.2</td>\n",
       "      <td>setosa</td>\n",
       "    </tr>\n",
       "    <tr>\n",
       "      <th>2</th>\n",
       "      <td>4.7</td>\n",
       "      <td>3.2</td>\n",
       "      <td>1.3</td>\n",
       "      <td>0.2</td>\n",
       "      <td>setosa</td>\n",
       "    </tr>\n",
       "    <tr>\n",
       "      <th>3</th>\n",
       "      <td>4.6</td>\n",
       "      <td>3.1</td>\n",
       "      <td>1.5</td>\n",
       "      <td>0.2</td>\n",
       "      <td>setosa</td>\n",
       "    </tr>\n",
       "    <tr>\n",
       "      <th>4</th>\n",
       "      <td>5.0</td>\n",
       "      <td>3.6</td>\n",
       "      <td>1.4</td>\n",
       "      <td>0.2</td>\n",
       "      <td>setosa</td>\n",
       "    </tr>\n",
       "    <tr>\n",
       "      <th>...</th>\n",
       "      <td>...</td>\n",
       "      <td>...</td>\n",
       "      <td>...</td>\n",
       "      <td>...</td>\n",
       "      <td>...</td>\n",
       "    </tr>\n",
       "    <tr>\n",
       "      <th>145</th>\n",
       "      <td>6.7</td>\n",
       "      <td>3.0</td>\n",
       "      <td>5.2</td>\n",
       "      <td>2.3</td>\n",
       "      <td>virginica</td>\n",
       "    </tr>\n",
       "    <tr>\n",
       "      <th>146</th>\n",
       "      <td>6.3</td>\n",
       "      <td>2.5</td>\n",
       "      <td>5.0</td>\n",
       "      <td>1.9</td>\n",
       "      <td>virginica</td>\n",
       "    </tr>\n",
       "    <tr>\n",
       "      <th>147</th>\n",
       "      <td>6.5</td>\n",
       "      <td>3.0</td>\n",
       "      <td>5.2</td>\n",
       "      <td>2.0</td>\n",
       "      <td>virginica</td>\n",
       "    </tr>\n",
       "    <tr>\n",
       "      <th>148</th>\n",
       "      <td>6.2</td>\n",
       "      <td>3.4</td>\n",
       "      <td>5.4</td>\n",
       "      <td>2.3</td>\n",
       "      <td>virginica</td>\n",
       "    </tr>\n",
       "    <tr>\n",
       "      <th>149</th>\n",
       "      <td>5.9</td>\n",
       "      <td>3.0</td>\n",
       "      <td>5.1</td>\n",
       "      <td>1.8</td>\n",
       "      <td>virginica</td>\n",
       "    </tr>\n",
       "  </tbody>\n",
       "</table>\n",
       "<p>150 rows × 5 columns</p>\n",
       "</div>"
      ],
      "text/plain": [
       "     sepallength  sepalwidth  petallength  petalwidth     target\n",
       "0            5.1         3.5          1.4         0.2     setosa\n",
       "1            4.9         3.0          1.4         0.2     setosa\n",
       "2            4.7         3.2          1.3         0.2     setosa\n",
       "3            4.6         3.1          1.5         0.2     setosa\n",
       "4            5.0         3.6          1.4         0.2     setosa\n",
       "..           ...         ...          ...         ...        ...\n",
       "145          6.7         3.0          5.2         2.3  virginica\n",
       "146          6.3         2.5          5.0         1.9  virginica\n",
       "147          6.5         3.0          5.2         2.0  virginica\n",
       "148          6.2         3.4          5.4         2.3  virginica\n",
       "149          5.9         3.0          5.1         1.8  virginica\n",
       "\n",
       "[150 rows x 5 columns]"
      ]
     },
     "execution_count": 61,
     "metadata": {},
     "output_type": "execute_result"
    }
   ],
   "source": [
    "data"
   ]
  },
  {
   "cell_type": "code",
   "execution_count": 78,
   "metadata": {},
   "outputs": [
    {
     "name": "stdout",
     "output_type": "stream",
     "text": [
      "0.9760902723490532 0.010181161454691156\n"
     ]
    },
    {
     "data": {
      "text/html": [
       "<div>\n",
       "<style scoped>\n",
       "    .dataframe tbody tr th:only-of-type {\n",
       "        vertical-align: middle;\n",
       "    }\n",
       "\n",
       "    .dataframe tbody tr th {\n",
       "        vertical-align: top;\n",
       "    }\n",
       "\n",
       "    .dataframe thead th {\n",
       "        text-align: right;\n",
       "    }\n",
       "</style>\n",
       "<table border=\"1\" class=\"dataframe\">\n",
       "  <thead>\n",
       "    <tr style=\"text-align: right;\">\n",
       "      <th></th>\n",
       "      <th>variable</th>\n",
       "      <th>value</th>\n",
       "    </tr>\n",
       "  </thead>\n",
       "  <tbody>\n",
       "    <tr>\n",
       "      <th>0</th>\n",
       "      <td>sepallength</td>\n",
       "      <td>5.1</td>\n",
       "    </tr>\n",
       "    <tr>\n",
       "      <th>1</th>\n",
       "      <td>sepallength</td>\n",
       "      <td>4.9</td>\n",
       "    </tr>\n",
       "    <tr>\n",
       "      <th>2</th>\n",
       "      <td>sepallength</td>\n",
       "      <td>4.7</td>\n",
       "    </tr>\n",
       "    <tr>\n",
       "      <th>3</th>\n",
       "      <td>sepallength</td>\n",
       "      <td>4.6</td>\n",
       "    </tr>\n",
       "    <tr>\n",
       "      <th>4</th>\n",
       "      <td>sepallength</td>\n",
       "      <td>5.0</td>\n",
       "    </tr>\n",
       "    <tr>\n",
       "      <th>...</th>\n",
       "      <td>...</td>\n",
       "      <td>...</td>\n",
       "    </tr>\n",
       "    <tr>\n",
       "      <th>745</th>\n",
       "      <td>target</td>\n",
       "      <td>virginica</td>\n",
       "    </tr>\n",
       "    <tr>\n",
       "      <th>746</th>\n",
       "      <td>target</td>\n",
       "      <td>virginica</td>\n",
       "    </tr>\n",
       "    <tr>\n",
       "      <th>747</th>\n",
       "      <td>target</td>\n",
       "      <td>virginica</td>\n",
       "    </tr>\n",
       "    <tr>\n",
       "      <th>748</th>\n",
       "      <td>target</td>\n",
       "      <td>virginica</td>\n",
       "    </tr>\n",
       "    <tr>\n",
       "      <th>749</th>\n",
       "      <td>target</td>\n",
       "      <td>virginica</td>\n",
       "    </tr>\n",
       "  </tbody>\n",
       "</table>\n",
       "<p>750 rows × 2 columns</p>\n",
       "</div>"
      ],
      "text/plain": [
       "        variable      value\n",
       "0    sepallength        5.1\n",
       "1    sepallength        4.9\n",
       "2    sepallength        4.7\n",
       "3    sepallength        4.6\n",
       "4    sepallength        5.0\n",
       "..           ...        ...\n",
       "745       target  virginica\n",
       "746       target  virginica\n",
       "747       target  virginica\n",
       "748       target  virginica\n",
       "749       target  virginica\n",
       "\n",
       "[750 rows x 2 columns]"
      ]
     },
     "execution_count": 78,
     "metadata": {},
     "output_type": "execute_result"
    }
   ],
   "source": [
    "# 세가지 이상의 독립변수 평균 차이 검정은 anova로 검정\n",
    "# 정규성과 등분산성 검정 진행\n",
    "# 정규성 검정\n",
    "from scipy.stats import shapiro, levene\n",
    "# for i in range(len(data.columns)-1):\n",
    "#     print(f\"{i}번째 컬럼 정규성 검정 : {shapiro(data.iloc[:,i])}\") # 1번째 컬럼 정규성 검정 x\n",
    "# lstat , p  = levene(data.iloc[:,0],data.iloc[:,1],data.iloc[:,2],data.iloc[:,3])\n",
    "# print(f\"{p:.3f}\") # 귀무가설 기각x -> 등분산성 o\n",
    "stat,p = shapiro(data.iloc[:,0])\n",
    "print(stat,p)\n"
   ]
  },
  {
   "cell_type": "code",
   "execution_count": 87,
   "metadata": {},
   "outputs": [
    {
     "data": {
      "text/html": [
       "<div>\n",
       "<style scoped>\n",
       "    .dataframe tbody tr th:only-of-type {\n",
       "        vertical-align: middle;\n",
       "    }\n",
       "\n",
       "    .dataframe tbody tr th {\n",
       "        vertical-align: top;\n",
       "    }\n",
       "\n",
       "    .dataframe thead th {\n",
       "        text-align: right;\n",
       "    }\n",
       "</style>\n",
       "<table border=\"1\" class=\"dataframe\">\n",
       "  <thead>\n",
       "    <tr style=\"text-align: right;\">\n",
       "      <th></th>\n",
       "      <th>sepallength</th>\n",
       "      <th>target</th>\n",
       "    </tr>\n",
       "  </thead>\n",
       "  <tbody>\n",
       "    <tr>\n",
       "      <th>0</th>\n",
       "      <td>5.1</td>\n",
       "      <td>setosa</td>\n",
       "    </tr>\n",
       "    <tr>\n",
       "      <th>1</th>\n",
       "      <td>4.9</td>\n",
       "      <td>setosa</td>\n",
       "    </tr>\n",
       "    <tr>\n",
       "      <th>2</th>\n",
       "      <td>4.7</td>\n",
       "      <td>setosa</td>\n",
       "    </tr>\n",
       "    <tr>\n",
       "      <th>3</th>\n",
       "      <td>4.6</td>\n",
       "      <td>setosa</td>\n",
       "    </tr>\n",
       "    <tr>\n",
       "      <th>4</th>\n",
       "      <td>5.0</td>\n",
       "      <td>setosa</td>\n",
       "    </tr>\n",
       "    <tr>\n",
       "      <th>...</th>\n",
       "      <td>...</td>\n",
       "      <td>...</td>\n",
       "    </tr>\n",
       "    <tr>\n",
       "      <th>145</th>\n",
       "      <td>6.7</td>\n",
       "      <td>virginica</td>\n",
       "    </tr>\n",
       "    <tr>\n",
       "      <th>146</th>\n",
       "      <td>6.3</td>\n",
       "      <td>virginica</td>\n",
       "    </tr>\n",
       "    <tr>\n",
       "      <th>147</th>\n",
       "      <td>6.5</td>\n",
       "      <td>virginica</td>\n",
       "    </tr>\n",
       "    <tr>\n",
       "      <th>148</th>\n",
       "      <td>6.2</td>\n",
       "      <td>virginica</td>\n",
       "    </tr>\n",
       "    <tr>\n",
       "      <th>149</th>\n",
       "      <td>5.9</td>\n",
       "      <td>virginica</td>\n",
       "    </tr>\n",
       "  </tbody>\n",
       "</table>\n",
       "<p>150 rows × 2 columns</p>\n",
       "</div>"
      ],
      "text/plain": [
       "     sepallength     target\n",
       "0            5.1     setosa\n",
       "1            4.9     setosa\n",
       "2            4.7     setosa\n",
       "3            4.6     setosa\n",
       "4            5.0     setosa\n",
       "..           ...        ...\n",
       "145          6.7  virginica\n",
       "146          6.3  virginica\n",
       "147          6.5  virginica\n",
       "148          6.2  virginica\n",
       "149          5.9  virginica\n",
       "\n",
       "[150 rows x 2 columns]"
      ]
     },
     "execution_count": 87,
     "metadata": {},
     "output_type": "execute_result"
    }
   ],
   "source": [
    "data[['sepallength','target']]"
   ]
  },
  {
   "cell_type": "code",
   "execution_count": 88,
   "metadata": {},
   "outputs": [
    {
     "data": {
      "text/plain": [
       "setosa        50\n",
       "versicolor    50\n",
       "virginica     50\n",
       "Name: target, dtype: int64"
      ]
     },
     "execution_count": 88,
     "metadata": {},
     "output_type": "execute_result"
    }
   ],
   "source": [
    "data['target'].value_counts()"
   ]
  },
  {
   "cell_type": "code",
   "execution_count": 93,
   "metadata": {},
   "outputs": [],
   "source": [
    "df1 = data[data['target'] == 'setosa'][['sepallength']]\n",
    "df2 = data[data['target'] == 'versicolor'][['sepallength']]\n",
    "df3 = data[data['target'] == 'virginica'][['sepallength']]"
   ]
  },
  {
   "cell_type": "code",
   "execution_count": 95,
   "metadata": {},
   "outputs": [
    {
     "name": "stdout",
     "output_type": "stream",
     "text": [
      "0.977698549796646 0.4595131499174534\n",
      "0.9778356785897521 0.4647370359250263\n",
      "0.971179397111026 0.25831474614079086\n",
      "합산\n",
      "0.9760902723490532 0.010181161454691156\n"
     ]
    }
   ],
   "source": [
    "stat,p = shapiro(df1)\n",
    "print(stat,p)\n",
    "stat,p = shapiro(df2)\n",
    "print(stat,p)\n",
    "stat,p = shapiro(df3)\n",
    "print(stat,p)\n",
    "print('합산')\n",
    "stat,p = shapiro(data[['sepallength']])\n",
    "print(stat,p)"
   ]
  },
  {
   "cell_type": "code",
   "execution_count": 97,
   "metadata": {},
   "outputs": [
    {
     "name": "stdout",
     "output_type": "stream",
     "text": [
      "[0.00225853]\n"
     ]
    }
   ],
   "source": [
    "lstat , p  = levene(df1,df2,df3)\n",
    "print(f\"{p}\") # 귀무가설 기각x -> 등분산성 o"
   ]
  },
  {
   "cell_type": "code",
   "execution_count": 106,
   "metadata": {},
   "outputs": [
    {
     "name": "stdout",
     "output_type": "stream",
     "text": [
      "stat : 119.26450218450434, p-value : 0.000\n",
      "귀무가설을 기각한다./ 차이가 있다.\n"
     ]
    }
   ],
   "source": [
    "from statsmodels.stats.oneway import anova_oneway\n",
    "oa = anova_oneway(data = data['sepallength'], groups= data['target'],use_var = 'equal')\n",
    "print(f\"stat : {oa.statistic}, p-value : {oa.pvalue:0.3f}\")\n",
    "print(\"귀무가설을 기각한다./ 차이가 있다.\")"
   ]
  },
  {
   "cell_type": "code",
   "execution_count": 102,
   "metadata": {},
   "outputs": [
    {
     "name": "stdout",
     "output_type": "stream",
     "text": [
      "   Multiple Comparison of Means - Tukey HSD, FWER=0.05   \n",
      "=========================================================\n",
      "  group1     group2   meandiff p-adj lower  upper  reject\n",
      "---------------------------------------------------------\n",
      "    setosa versicolor     0.93   0.0 0.6862 1.1738   True\n",
      "    setosa  virginica    1.582   0.0 1.3382 1.8258   True\n",
      "versicolor  virginica    0.652   0.0 0.4082 0.8958   True\n",
      "---------------------------------------------------------\n"
     ]
    }
   ],
   "source": [
    "# 사후 검정\n",
    "from statsmodels.sandbox.stats.multicomp import MultiComparison\n",
    "from scipy.stats import ttest_ind\n",
    "\n",
    "mc = MultiComparison(data=data['sepallength'], groups = data['target']).tukeyhsd(alpha=0.05)\n",
    "print(mc)"
   ]
  },
  {
   "cell_type": "code",
   "execution_count": 103,
   "metadata": {},
   "outputs": [],
   "source": [
    "# 사후검정 귀무가설 차이가 없다. \n",
    "# 사후검정 결과 - 모든 그룹에 대해 귀무가설을 기각한다.\n",
    "# 차이가 있다."
   ]
  },
  {
   "cell_type": "code",
   "execution_count": 105,
   "metadata": {},
   "outputs": [
    {
     "data": {
      "image/png": "[encoded data removed]",
      "text/plain": [
       "<Figure size 1000x600 with 1 Axes>"
      ]
     },
     "metadata": {},
     "output_type": "display_data"
    }
   ],
   "source": [
    "import matplotlib.pyplot as plt\n",
    "mc.plot_simultaneous()\n",
    "plt.show()"
   ]
  },
  {
   "cell_type": "markdown",
   "metadata": {},
   "source": [
    "----"
   ]
  },
  {
   "cell_type": "markdown",
   "metadata": {},
   "source": [
    "## 비모수 검정 :  문제풀이"
   ]
  },
  {
   "cell_type": "markdown",
   "metadata": {},
   "source": [
    "1. 아래 그래프 A,B,C 동별 입주민의 주민대표 찬반 투표 결과를 나타낸다. 동별 찬반 비율이 동일한지 귀무가설과 대립가설을 설정하고 검정통계량을 계산하여 검정하시오 (유의수준 0.0.5)"
   ]
  },
  {
   "cell_type": "markdown",
   "metadata": {},
   "source": [
    "       A B C\n",
    "찬성 : 50 60 65     \n",
    "반대 : 45 32 55     "
   ]
  },
  {
   "cell_type": "code",
   "execution_count": 118,
   "metadata": {},
   "outputs": [
    {
     "name": "stdout",
     "output_type": "stream",
     "text": [
      "3.6673765482546967\n",
      "0.1598230083055444\n",
      "2\n",
      "[[54.15309446 52.44299674 68.40390879]\n",
      " [40.84690554 39.55700326 51.59609121]]\n"
     ]
    }
   ],
   "source": [
    "data = pd.DataFrame([[50,60,65],[45,32,55]])\n",
    "# 동질성 검정\n",
    "from scipy.stats import chi2_contingency\n",
    "chi2 , p ,df, expec = chi2_contingency(data, correction=False)\n",
    "print(chi2 )\n",
    "print( p )\n",
    "print(df )\n",
    "print(expec)\n",
    "# H0 : 모든 집단의 분포가 차이가 없다.\n",
    "# H1 : 적어도 한 집단은 분포상 서로 차이가 있다.\n",
    "# 검정 결과 귀무가설을 기각하지 못하여 동별 찬반 비율은 동일하다는 결론을 얻었다."
   ]
  },
  {
   "cell_type": "markdown",
   "metadata": {},
   "source": [
    "2. 특정 캠페인에 노출되기 전과 후의 캠페인 주제에 대한 지지 여부를 기록한 데이터이다. 캠페인 전후의 지지 비율이 차이가 있는지 귀무가설과 대립가설을 설정하고, 검정통계량을 계산하여 검정하시오 (유의수준 0.05)"
   ]
  },
  {
   "cell_type": "code",
   "execution_count": 123,
   "metadata": {},
   "outputs": [
    {
     "name": "stdout",
     "output_type": "stream",
     "text": [
      "   before  after\n",
      "0       1      0\n",
      "1       1      1\n",
      "2       1      1\n",
      "3       0      1\n",
      "4       1      0\n"
     ]
    }
   ],
   "source": [
    "import pandas as pd\n",
    "data =pd.read_csv('https://raw.githubusercontent.com/algoboni/pythoncodebook1-1/main/practice6_ba.csv', index_col=0)\n",
    "print(data.head(5))"
   ]
  },
  {
   "cell_type": "code",
   "execution_count": 127,
   "metadata": {},
   "outputs": [
    {
     "name": "stdout",
     "output_type": "stream",
     "text": [
      "99.0 0.5126907602619233\n"
     ]
    }
   ],
   "source": [
    "# 캠페인 전/후 -> 대응표본 paired \n",
    "from scipy.stats import wilcoxon\n",
    "stats , p = wilcoxon(data['before'],data['after'])\n",
    "print(stats,p)\n",
    "# H0 :  지지 비율이 동일하다.\n",
    "# H1 :  지지 비율이 다르다.\n",
    "# 검정 결론 , 캠페인 전후 지지 비율은 동일하다는 결론을 얻었다."
   ]
  },
  {
   "cell_type": "markdown",
   "metadata": {},
   "source": [
    "3. 다음의 T와 F가 무작위로 나열되어 있다고 볼 수 있는지 귀무가설과 대립가설을 설정하고, 검정통계량을 계산하여 검정하시오 "
   ]
  },
  {
   "cell_type": "code",
   "execution_count": 128,
   "metadata": {},
   "outputs": [],
   "source": [
    "data = ['T','F','F','T','F','T','F','T','T','F','F','T','F','T','F','T','F','T']"
   ]
  },
  {
   "cell_type": "code",
   "execution_count": 132,
   "metadata": {},
   "outputs": [
    {
     "name": "stdout",
     "output_type": "stream",
     "text": [
      "2.1866069605669876 0.028771228782561286\n"
     ]
    }
   ],
   "source": [
    "# run 테스트 \n",
    "# H0 : 무작위와 차이가 없다 (랜덤)\n",
    "# H1 : 무작위와 차이가 있다 (랜덤 x)\n",
    "\n",
    "from statsmodels.sandbox.stats.runs import runstest_1samp\n",
    "data2 = list(map(lambda x: 1 if x=='T' else 0,data))\n",
    "zstat,pval = runstest_1samp(data2)\n",
    "print(zstat,pval)\n",
    "# 검정 결과, 귀무가설을 기각하여 무작위와 차이가 있다는 결론을 얻었다. "
   ]
  },
  {
   "cell_type": "markdown",
   "metadata": {},
   "source": [
    "4. 20대보다 30대가 기대하는 연봉상승률이 더 높다는 주장이 있다. 이 주장이 타당한지를 확인해보기 위해서 20대 10명과 30대 8명을 임의로 추출하여 기대하는 연봉상승률을 다음과 같이 정리하였다. 이 주장을 검정하기 위한 귀무가설과 대립가설을 설정하고, 검정통계량을 계산하여 검정하시오"
   ]
  },
  {
   "cell_type": "code",
   "execution_count": 159,
   "metadata": {
    "scrolled": true
   },
   "outputs": [
    {
     "name": "stdout",
     "output_type": "stream",
     "text": [
      "zstats -2.068838464596159\n",
      "p 0.0192806237987123\n"
     ]
    }
   ],
   "source": [
    "# 20대 -10 30 8 \n",
    "data = pd.DataFrame([[3.0,3.5,2.0,2.8,5.0,2.3,2.8,3.3,3.5],[3.5,5.5,5.0,5.0,10.0,8.0,2.5,3.0]],index=['20','30']).T\n",
    "# dat\n",
    "from scipy.stats import ranksums\n",
    "zstats , p = ranksums(list(data['20']),list(data['30'].dropna()), alternative='less')\n",
    "print('zstats',zstats)\n",
    "print('p',p)\n",
    "# H0 : 20대와 30대가 동일하다.\n",
    "# H1 : 20대가 30대보다 연봉상승률이 더 낮다. \n",
    "# 검정 결과, 귀무가설을 기각하지 않으므로 20대가 30대 보다 더 낮다."
   ]
  },
  {
   "cell_type": "code",
   "execution_count": 142,
   "metadata": {},
   "outputs": [
    {
     "name": "stdout",
     "output_type": "stream",
     "text": [
      "Help on function ranksums in module scipy.stats._stats_py:\n",
      "\n",
      "ranksums(x, y, alternative='two-sided', *, axis=0, nan_policy='propagate', keepdims=False)\n",
      "    Compute the Wilcoxon rank-sum statistic for two samples.\n",
      "    \n",
      "    The Wilcoxon rank-sum test tests the null hypothesis that two sets\n",
      "    of measurements are drawn from the same distribution.  The alternative\n",
      "    hypothesis is that values in one sample are more likely to be\n",
      "    larger than the values in the other sample.\n",
      "    \n",
      "    This test should be used to compare two samples from continuous\n",
      "    distributions.  It does not handle ties between measurements\n",
      "    in x and y.  For tie-handling and an optional continuity correction\n",
      "    see `scipy.stats.mannwhitneyu`.\n",
      "    \n",
      "    Parameters\n",
      "    ----------\n",
      "    x,y : array_like\n",
      "        The data from the two samples.\n",
      "    alternative : {'two-sided', 'less', 'greater'}, optional\n",
      "        Defines the alternative hypothesis. Default is 'two-sided'.\n",
      "        The following options are available:\n",
      "        \n",
      "        * 'two-sided': one of the distributions (underlying `x` or `y`) is\n",
      "          stochastically greater than the other.\n",
      "        * 'less': the distribution underlying `x` is stochastically less\n",
      "          than the distribution underlying `y`.\n",
      "        * 'greater': the distribution underlying `x` is stochastically greater\n",
      "          than the distribution underlying `y`.\n",
      "        \n",
      "        .. versionadded:: 1.7.0\n",
      "    axis : int or None, default: 0\n",
      "        If an int, the axis of the input along which to compute the statistic.\n",
      "        The statistic of each axis-slice (e.g. row) of the input will appear in a\n",
      "        corresponding element of the output.\n",
      "        If ``None``, the input will be raveled before computing the statistic.\n",
      "    nan_policy : {'propagate', 'omit', 'raise'}\n",
      "        Defines how to handle input NaNs.\n",
      "        \n",
      "        - ``propagate``: if a NaN is present in the axis slice (e.g. row) along\n",
      "          which the  statistic is computed, the corresponding entry of the output\n",
      "          will be NaN.\n",
      "        - ``omit``: NaNs will be omitted when performing the calculation.\n",
      "          If insufficient data remains in the axis slice along which the\n",
      "          statistic is computed, the corresponding entry of the output will be\n",
      "          NaN.\n",
      "        - ``raise``: if a NaN is present, a ``ValueError`` will be raised.\n",
      "    keepdims : bool, default: False\n",
      "        If this is set to True, the axes which are reduced are left\n",
      "        in the result as dimensions with size one. With this option,\n",
      "        the result will broadcast correctly against the input array.\n",
      "    \n",
      "    Returns\n",
      "    -------\n",
      "    statistic : float\n",
      "        The test statistic under the large-sample approximation that the\n",
      "        rank sum statistic is normally distributed.\n",
      "    pvalue : float\n",
      "        The p-value of the test.\n",
      "    \n",
      "    Notes\n",
      "    -----\n",
      "    \n",
      "    Beginning in SciPy 1.9, ``np.matrix`` inputs (not recommended for new\n",
      "    code) are converted to ``np.ndarray`` before the calculation is performed. In\n",
      "    this case, the output will be a scalar or ``np.ndarray`` of appropriate shape\n",
      "    rather than a 2D ``np.matrix``. Similarly, while masked elements of masked\n",
      "    arrays are ignored, the output will be a scalar or ``np.ndarray`` rather than a\n",
      "    masked array with ``mask=False``.\n",
      "    \n",
      "    References\n",
      "    ----------\n",
      "    .. [1] https://en.wikipedia.org/wiki/Wilcoxon_rank-sum_test\n",
      "    \n",
      "    Examples\n",
      "    --------\n",
      "    We can test the hypothesis that two independent unequal-sized samples are\n",
      "    drawn from the same distribution with computing the Wilcoxon rank-sum\n",
      "    statistic.\n",
      "    \n",
      "    >>> import numpy as np\n",
      "    >>> from scipy.stats import ranksums\n",
      "    >>> rng = np.random.default_rng()\n",
      "    >>> sample1 = rng.uniform(-1, 1, 200)\n",
      "    >>> sample2 = rng.uniform(-0.5, 1.5, 300) # a shifted distribution\n",
      "    >>> ranksums(sample1, sample2)\n",
      "    RanksumsResult(statistic=-7.887059,\n",
      "                   pvalue=3.09390448e-15) # may vary\n",
      "    >>> ranksums(sample1, sample2, alternative='less')\n",
      "    RanksumsResult(statistic=-7.750585297581713,\n",
      "                   pvalue=4.573497606342543e-15) # may vary\n",
      "    >>> ranksums(sample1, sample2, alternative='greater')\n",
      "    RanksumsResult(statistic=-7.750585297581713,\n",
      "                   pvalue=0.9999999999999954) # may vary\n",
      "    \n",
      "    The p-value of less than ``0.05`` indicates that this test rejects the\n",
      "    hypothesis at the 5% significance level.\n",
      "\n"
     ]
    }
   ],
   "source": [
    "help(ranksums)"
   ]
  },
  {
   "cell_type": "markdown",
   "metadata": {},
   "source": [
    "5. 양식, 한식, 중식에 대해 5명의 선호도를 나타내는 표이다. '선호하지 않는다'를 1, '보통이다'를 2, '선호한다'를 3으로 응답하였다. 음식 종류에 따라 선호도 차이가 있는지 귀무가설과 대립가설을 설정하고, 검정통계량을 계산하여 검정하시오 "
   ]
  },
  {
   "cell_type": "code",
   "execution_count": 166,
   "metadata": {},
   "outputs": [
    {
     "name": "stdout",
     "output_type": "stream",
     "text": [
      "2.666666666666673 0.2635971381157259\n"
     ]
    }
   ],
   "source": [
    "data = pd.DataFrame({\"A\":[1,1,2],\"B\":[3,3,3],\"C\":[1,3,3],\"D\":[3,1,3],\"E\":[1,1,1]}, index=['양식','한식','중식'])\n",
    "data\n",
    "data = data.T\n",
    "data\n",
    "from scipy.stats import friedmanchisquare\n",
    "stat, p = friedmanchisquare(data['양식'].values,data['한식'].values, data['중식'].values)\n",
    "print(stat, p)\n",
    "# H0 : 음식 종류에 따라 선호도 차이가 없다.\n",
    "# H1 : 음식 종류에 따라 선호도 차이가 있다.\n",
    "# 검정결론 ,  귀무가설을 기각시키지 못해 음식 종류에 따라 선호도 차이가 없다는 결론을 얻었다."
   ]
  },
  {
   "cell_type": "code",
   "execution_count": null,
   "metadata": {},
   "outputs": [],
   "source": []
  },
  {
   "cell_type": "markdown",
   "metadata": {},
   "source": [
    "6. 임의로 추출한 A,B,C 지역 학생들의 키가 다음과 같다. 지역별 학생들의 키가 차이가 있는지 검정하기 위한 귀무가설과 대립가설을 설장하고, 검정통계량을 계산하여 검정하시오 "
   ]
  },
  {
   "cell_type": "markdown",
   "metadata": {},
   "source": []
  }
 ],
 "metadata": {
  "kernelspec": {
   "display_name": "Python 3 (ipykernel)",
   "language": "python",
   "name": "python3"
  },
  "language_info": {
   "codemirror_mode": {
    "name": "ipython",
    "version": 3
   },
   "file_extension": ".py",
   "mimetype": "text/x-python",
   "name": "python",
   "nbconvert_exporter": "python",
   "pygments_lexer": "ipython3",
   "version": "3.11.5"
  }
 },
 "nbformat": 4,
 "nbformat_minor": 4
}
