{
 "cells": [
  {
   "cell_type": "markdown",
   "metadata": {},
   "source": [
    "### 베르누이 분포"
   ]
  },
  {
   "cell_type": "markdown",
   "metadata": {},
   "source": [
    "$X \\sim B(1,p)$\n",
    "\n",
    "- $f(x) = p^x(1-p)^{1-x}, x = 0,1, 0\\leq p\\leq 1$\n",
    "- $E(X)=p$\n",
    "- $Var(X)=p(1-p)$"
   ]
  },
  {
   "cell_type": "code",
   "execution_count": 2,
   "metadata": {
    "scrolled": true
   },
   "outputs": [
    {
     "name": "stdout",
     "output_type": "stream",
     "text": [
      "해당 분포의 기대값은 0.3, 분산은 0.21\n",
      "라이브러리- 해당 분포의 기대값은 0.3, 분산은 0.21\n"
     ]
    }
   ],
   "source": [
    "#베르누이 분포 \n",
    "p = 0.3 # 성공할 확률\n",
    "q = 1-p # 실패할 확률\n",
    "E = p # 기대값\n",
    "V = p * q #분산\n",
    "print(f\"해당 분포의 기대값은 {E}, 분산은 {V}\")\n",
    "from scipy.stats import bernoulli\n",
    "E2, V2 = bernoulli.stats(p)\n",
    "print(f\"라이브러리- 해당 분포의 기대값은 {E2}, 분산은 {V2}\")\n"
   ]
  },
  {
   "cell_type": "markdown",
   "metadata": {},
   "source": [
    "### 이항분포"
   ]
  },
  {
   "cell_type": "markdown",
   "metadata": {},
   "source": [
    "$X \\sim B(n,p)$\n",
    "- $f(x) = {}_{n}C_x p^x(1-p)^{n-x}, x=0,1, ...,n$\n",
    "- $E(X) = np$\n",
    "- $Var(X) = np(1-p)$"
   ]
  },
  {
   "cell_type": "markdown",
   "metadata": {},
   "source": [
    "${}_{n}C_r = \\frac{n!}{(n-r)!r!}$"
   ]
  },
  {
   "cell_type": "code",
   "execution_count": 22,
   "metadata": {},
   "outputs": [
    {
     "name": "stdout",
     "output_type": "stream",
     "text": [
      "해당 분포의 기대값은 0.300, 분산은 0.270\n",
      "라이브러리- 해당 분포의 기대값은 0.300, 분산은 0.270\n"
     ]
    }
   ],
   "source": [
    "# 이항분포 \n",
    "from scipy.stats import binom\n",
    "import numpy as np\n",
    "import math\n",
    "\n",
    "def combi(a,b): # combination 함수 정의\n",
    "    result= math.comb(a, b)  # Python 3.8 이상에서 사용 가능\n",
    "    return result\n",
    "# 근로자가 내년에 회사를 떠날 확률이 0.1이라고 추정한 경우, \n",
    "# 근로자 3명을 무작위로 뽑은 상황\n",
    "n = 3 #근로자 샘플 개수\n",
    "p = 0.1 # 떠날 확률\n",
    "\n",
    "# 근로자가 떠날 확률에 대해 기대값과 분산 계산하기\n",
    "E = n * p\n",
    "V = n * p*(1-p)\n",
    "print(f\"해당 분포의 기대값은 {E:0.3f}, 분산은 {V:0.3f}\")\n",
    "E2,V2 = binom.stats(n,p)\n",
    "print(f\"라이브러리- 해당 분포의 기대값은 {E2:0.3f}, 분산은 {V2:0.3f}\")\n"
   ]
  },
  {
   "cell_type": "code",
   "execution_count": 27,
   "metadata": {},
   "outputs": [
    {
     "name": "stdout",
     "output_type": "stream",
     "text": [
      "해당 분포의 확률질량함수(pmf) : 0.243\n",
      "라이브러리 - 해당 분포의 확률질량함수(pmf) : 0.243 \n"
     ]
    }
   ],
   "source": [
    "# 확률 질량 함수 계산 \n",
    "# 문제 : 1명이 금년에 회사를 떠날 확률은?\n",
    "x = 1 # 떠날 샘플 개수 **확률변수 X\n",
    "pmf = combi(n,x) * (p**x) * ((1-p)**(n-x))\n",
    "print(f\"해당 분포의 확률질량함수(pmf) : {pmf:0.3f}\")\n",
    "print(f\"라이브러리 - 해당 분포의 확률질량함수(pmf) : {binom.pmf(x,n,p)} \")"
   ]
  },
  {
   "cell_type": "code",
   "execution_count": 28,
   "metadata": {},
   "outputs": [
    {
     "name": "stdout",
     "output_type": "stream",
     "text": [
      "해당 분포의 누적확률질량함수(cdf) : 0.972\n",
      "라이브러리 - 해당 분포의 누적확률질량함수(cdf) : 0.972\n"
     ]
    }
   ],
   "source": [
    "# 누적확률질량함수 계산 \n",
    "# 문제 : 1명 이하로 떠날 확률은?\n",
    "cdf = 0\n",
    "for i in range(0,x+1): # 확률변수의 확률값들을 합함 # 0명 떠날 확률 +1명 떠날 확률\n",
    "    cdf += binom.pmf(i,n,p)\n",
    "print(f\"해당 분포의 누적확률질량함수(cdf) : {cdf}\")\n",
    "print(f\"라이브러리 - 해당 분포의 누적확률질량함수(cdf) : {binom.cdf(x,n,p)}\")"
   ]
  },
  {
   "cell_type": "code",
   "execution_count": 30,
   "metadata": {},
   "outputs": [
    {
     "name": "stdout",
     "output_type": "stream",
     "text": [
      "이항분포로 계산하면 0.02798이고 정규분포로 근사계산하면 0.02787\n"
     ]
    }
   ],
   "source": [
    "# 이항분포의 정규분포 근사\n",
    "from scipy.stats import norm\n",
    "x,n,p = 10, 30, 0.5\n",
    "b_result = binom.pmf(x,n,p)\n",
    "E = n*p\n",
    "sigma = np.sqrt(E*(1-p))\n",
    "zstat1 = (x-0.5-E)/sigma # 이항분포의 x에서 -0.5\n",
    "zstat2 = (x+0.5-E)/sigma # 이항분포의 x에서 +0.5\n",
    "n_result = norm.cdf(zstat2) - norm.cdf(zstat1)\n",
    "\n",
    "print(f\"이항분포로 계산하면 {b_result:0.5f}이고 정규분포로 근사계산하면 {n_result:0.5f}\")"
   ]
  },
  {
   "cell_type": "markdown",
   "metadata": {},
   "source": [
    "### 음이항분포 "
   ]
  },
  {
   "cell_type": "markdown",
   "metadata": {},
   "source": [
    "$X \\sim NB(k,p)$\n",
    "\n",
    "1) 확률변수 X = 시행횟수  \n",
    "- $f(x) = {}_{x-1}C_{k-1}p^k(1-p)^{x-k}, x=k, k+1, ..., k>0$\n",
    "- $E(X) = k/p$\n",
    "- $Var(x) = k(1-p)/p^2$  \n",
    "\n",
    "2) 확률변수 X = 실패횟수  \n",
    "- $f(x) = {}_{x+k-1}C_{k-1}p^k(1-p)^x, x=,0,1,2,..., k>0$\n",
    "- $E(X) = k(1-p)/p$\n",
    "- $Var(X) = k(1-p)/p^2$"
   ]
  },
  {
   "cell_type": "code",
   "execution_count": 2,
   "metadata": {},
   "outputs": [
    {
     "name": "stdout",
     "output_type": "stream",
     "text": [
      "해당 분포의 기대값은 4.666666666666667, 분산은 15.555555555555555\n",
      "라이브러리 - 해당분포의 기대값은 4.666666666666667, 분산은 15.555555555555555\n"
     ]
    }
   ],
   "source": [
    "# 음이항분포 \n",
    "# A가 승리할 확률이 0.3일 때, 5번 경기를 치르는 상황\n",
    "from scipy.stats import nbinom\n",
    "import math\n",
    "\n",
    "def combi(a,b): # combination 함수 정의\n",
    "    result= math.comb(a, b)  # Python 3.8 이상에서 사용 가능\n",
    "    return result\n",
    "\n",
    "n = 5 # 총 시행횟수\n",
    "k = 2 # 총 성공횟수\n",
    "p = 0.3 # 성공확률\n",
    "q = 1-p # 실패 확률\n",
    "case = 2\n",
    "if case ==1 : # 확률변수 x가 k번 성공할때 까지의 시행횟수\n",
    "    x = n # **확률변수\n",
    "    E = k / p\n",
    "    V = k* q / p**2\n",
    "    pmf = combi(x-1, k-1) * q**(x-k)\n",
    "    E2 , V2 = np.nan, np.nan ## 라이브러리 지원 안함\n",
    "    pkg_pmf, pkg_cdf = np.nan,np.nan ## 라이브러리 지원 안함\n",
    "    cdf = 0\n",
    "    for i in range(k, x+1):\n",
    "        cdf += combi(i-1,k-1) * p**k  * q**(i-k) # 확률질량함수\n",
    "if case ==2: # 확률변수 X가 k번 성공할 때까지의 실패횟수 x인 경우\n",
    "    x = n-k # 총 n번을 시행한다고 가정하였을 때 실패횟수는 성공 횟수를 뺀다.\n",
    "    E = k*q / p\n",
    "    V = k *q / p**2\n",
    "    pmf = combi(x+k-1, k-1) * p**k *q**x\n",
    "    E2, V2 = nbinom.stats(k,p)\n",
    "    pkg_pmf, pkf_cdf = nbinom.pmf(x,k,p), nbinom.cdf(x,k,p)\n",
    "    cdf = 0\n",
    "    for i in range(0,x+1): # 확률변수의 확률값들을 합함\n",
    "        cdf += nbinom.pmf(i,k,p)\n",
    "\n",
    "# 기대값과 분산 계산하기\n",
    "print(f\"해당 분포의 기대값은 {E}, 분산은 {V}\")\n",
    "print(f\"라이브러리 - 해당분포의 기대값은 {E2}, 분산은 {V2}\")\n",
    "\n",
    "# 확률질량함수 계산한기 : 5번째 경기에서 2번째로 이길 확률은?\n",
    "print(f\"확률질량함수 {pmf}\")\n",
    "print(f\"학ㄹ\")"
   ]
  },
  {
   "cell_type": "code",
   "execution_count": null,
   "metadata": {},
   "outputs": [],
   "source": [
    "## 7 ##"
   ]
  },
  {
   "cell_type": "code",
   "execution_count": 77,
   "metadata": {},
   "outputs": [
    {
     "data": {
      "text/plain": [
       "0.34375"
      ]
     },
     "execution_count": 77,
     "metadata": {},
     "output_type": "execute_result"
    }
   ],
   "source": [
    "1 - binom.cdf(3,6,0.5)"
   ]
  },
  {
   "cell_type": "code",
   "execution_count": 78,
   "metadata": {},
   "outputs": [
    {
     "data": {
      "text/plain": [
       "1.71875"
      ]
     },
     "execution_count": 78,
     "metadata": {},
     "output_type": "execute_result"
    }
   ],
   "source": [
    "0.34375 * 5"
   ]
  },
  {
   "cell_type": "code",
   "execution_count": null,
   "metadata": {},
   "outputs": [],
   "source": []
  }
 ],
 "metadata": {
  "hide_input": false,
  "kernelspec": {
   "display_name": "Python 3 (ipykernel)",
   "language": "python",
   "name": "python3"
  },
  "language_info": {
   "codemirror_mode": {
    "name": "ipython",
    "version": 3
   },
   "file_extension": ".py",
   "mimetype": "text/x-python",
   "name": "python",
   "nbconvert_exporter": "python",
   "pygments_lexer": "ipython3",
   "version": "3.9.10"
  },
  "toc": {
   "base_numbering": 1,
   "nav_menu": {},
   "number_sections": true,
   "sideBar": true,
   "skip_h1_title": false,
   "title_cell": "Table of Contents",
   "title_sidebar": "Contents",
   "toc_cell": false,
   "toc_position": {},
   "toc_section_display": true,
   "toc_window_display": false
  }
 },
 "nbformat": 4,
 "nbformat_minor": 4
}
