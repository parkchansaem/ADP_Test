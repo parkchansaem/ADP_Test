{
 "cells": [
  {
   "cell_type": "code",
   "execution_count": 1,
   "id": "b9d13987",
   "metadata": {},
   "outputs": [
    {
     "data": {
      "text/html": [
       "<div>\n",
       "<style scoped>\n",
       "    .dataframe tbody tr th:only-of-type {\n",
       "        vertical-align: middle;\n",
       "    }\n",
       "\n",
       "    .dataframe tbody tr th {\n",
       "        vertical-align: top;\n",
       "    }\n",
       "\n",
       "    .dataframe thead th {\n",
       "        text-align: right;\n",
       "    }\n",
       "</style>\n",
       "<table border=\"1\" class=\"dataframe\">\n",
       "  <thead>\n",
       "    <tr style=\"text-align: right;\">\n",
       "      <th></th>\n",
       "      <th>Age</th>\n",
       "      <th>Gender</th>\n",
       "      <th>BMI</th>\n",
       "      <th>DBP</th>\n",
       "      <th>FPG</th>\n",
       "      <th>Chol</th>\n",
       "      <th>Tri</th>\n",
       "      <th>HDL</th>\n",
       "      <th>LDL</th>\n",
       "      <th>ALT</th>\n",
       "      <th>CCR</th>\n",
       "      <th>FFPG</th>\n",
       "    </tr>\n",
       "  </thead>\n",
       "  <tbody>\n",
       "    <tr>\n",
       "      <th>0</th>\n",
       "      <td>26</td>\n",
       "      <td>1</td>\n",
       "      <td>20.1</td>\n",
       "      <td>81</td>\n",
       "      <td>5.80</td>\n",
       "      <td>4.36</td>\n",
       "      <td>0.86</td>\n",
       "      <td>0.90</td>\n",
       "      <td>2.43</td>\n",
       "      <td>12.0</td>\n",
       "      <td>63.8</td>\n",
       "      <td>5.40</td>\n",
       "    </tr>\n",
       "    <tr>\n",
       "      <th>1</th>\n",
       "      <td>40</td>\n",
       "      <td>1</td>\n",
       "      <td>17.7</td>\n",
       "      <td>54</td>\n",
       "      <td>4.60</td>\n",
       "      <td>3.70</td>\n",
       "      <td>1.02</td>\n",
       "      <td>1.50</td>\n",
       "      <td>2.04</td>\n",
       "      <td>9.2</td>\n",
       "      <td>70.3</td>\n",
       "      <td>4.10</td>\n",
       "    </tr>\n",
       "    <tr>\n",
       "      <th>2</th>\n",
       "      <td>40</td>\n",
       "      <td>2</td>\n",
       "      <td>19.7</td>\n",
       "      <td>53</td>\n",
       "      <td>5.30</td>\n",
       "      <td>5.87</td>\n",
       "      <td>1.29</td>\n",
       "      <td>1.75</td>\n",
       "      <td>3.37</td>\n",
       "      <td>10.1</td>\n",
       "      <td>61.1</td>\n",
       "      <td>4.85</td>\n",
       "    </tr>\n",
       "    <tr>\n",
       "      <th>3</th>\n",
       "      <td>43</td>\n",
       "      <td>1</td>\n",
       "      <td>23.1</td>\n",
       "      <td>71</td>\n",
       "      <td>4.50</td>\n",
       "      <td>4.05</td>\n",
       "      <td>0.74</td>\n",
       "      <td>1.27</td>\n",
       "      <td>2.60</td>\n",
       "      <td>36.5</td>\n",
       "      <td>73.4</td>\n",
       "      <td>5.30</td>\n",
       "    </tr>\n",
       "    <tr>\n",
       "      <th>4</th>\n",
       "      <td>36</td>\n",
       "      <td>1</td>\n",
       "      <td>26.5</td>\n",
       "      <td>82</td>\n",
       "      <td>5.54</td>\n",
       "      <td>6.69</td>\n",
       "      <td>3.49</td>\n",
       "      <td>0.91</td>\n",
       "      <td>3.64</td>\n",
       "      <td>69.3</td>\n",
       "      <td>67.5</td>\n",
       "      <td>5.53</td>\n",
       "    </tr>\n",
       "  </tbody>\n",
       "</table>\n",
       "</div>"
      ],
      "text/plain": [
       "   Age  Gender   BMI  DBP   FPG  Chol   Tri   HDL   LDL   ALT   CCR  FFPG\n",
       "0   26       1  20.1   81  5.80  4.36  0.86  0.90  2.43  12.0  63.8  5.40\n",
       "1   40       1  17.7   54  4.60  3.70  1.02  1.50  2.04   9.2  70.3  4.10\n",
       "2   40       2  19.7   53  5.30  5.87  1.29  1.75  3.37  10.1  61.1  4.85\n",
       "3   43       1  23.1   71  4.50  4.05  0.74  1.27  2.60  36.5  73.4  5.30\n",
       "4   36       1  26.5   82  5.54  6.69  3.49  0.91  3.64  69.3  67.5  5.53"
      ]
     },
     "execution_count": 1,
     "metadata": {},
     "output_type": "execute_result"
    }
   ],
   "source": [
    "import pandas as pd\n",
    "df = pd.read_csv('https://raw.githubusercontent.com/Datamanim/datarepo/main/adp/30/p1.csv')\n",
    "df.head()"
   ]
  },
  {
   "cell_type": "code",
   "execution_count": 2,
   "id": "a71fd275",
   "metadata": {},
   "outputs": [
    {
     "name": "stdout",
     "output_type": "stream",
     "text": [
      "<class 'pandas.core.frame.DataFrame'>\n",
      "RangeIndex: 4303 entries, 0 to 4302\n",
      "Data columns (total 12 columns):\n",
      " #   Column  Non-Null Count  Dtype  \n",
      "---  ------  --------------  -----  \n",
      " 0   Age     4303 non-null   int64  \n",
      " 1   Gender  4303 non-null   int64  \n",
      " 2   BMI     4303 non-null   float64\n",
      " 3   DBP     4303 non-null   int64  \n",
      " 4   FPG     4303 non-null   float64\n",
      " 5   Chol    4302 non-null   float64\n",
      " 6   Tri     4303 non-null   float64\n",
      " 7   HDL     4303 non-null   float64\n",
      " 8   LDL     4303 non-null   float64\n",
      " 9   ALT     4303 non-null   float64\n",
      " 10  CCR     4303 non-null   float64\n",
      " 11  FFPG    4303 non-null   float64\n",
      "dtypes: float64(9), int64(3)\n",
      "memory usage: 403.5 KB\n"
     ]
    }
   ],
   "source": [
    "df.info()"
   ]
  },
  {
   "cell_type": "markdown",
   "id": "3232af72",
   "metadata": {},
   "source": []
  },
  {
   "cell_type": "markdown",
   "id": "f3e0ffbd",
   "metadata": {},
   "source": [
    "1-2 데이터 전처리가 필요하다면 수행하고 이유를 작성하라"
   ]
  },
  {
   "cell_type": "markdown",
   "id": "80c04dbe",
   "metadata": {},
   "source": [
    "1-3 train test set을 DBP컬럼 기준으로 7:3 비율로 나누고 잘 나뉘었는지 통계적으로 나타내라"
   ]
  },
  {
   "cell_type": "markdown",
   "id": "fe1bbb2e",
   "metadata": {},
   "source": [
    "2-1 독립변수의 차원축소의 필요성을 논하고, 필요에 따라 차원을 축소하고 불필요하다면 그 근거를 논하시오"
   ]
  },
  {
   "cell_type": "markdown",
   "id": "8e2d6fbf",
   "metadata": {},
   "source": [
    "2-2 작업 후 데이터가 회귀분석의 기본가정 따르는지 설명"
   ]
  },
  {
   "cell_type": "markdown",
   "id": "702fd440",
   "metadata": {},
   "source": [
    "3-1 회귀분석 알고리즘 3개를 선택하고 선정이유와 장단점 비교"
   ]
  },
  {
   "cell_type": "markdown",
   "id": "14821326",
   "metadata": {},
   "source": []
  },
  {
   "cell_type": "markdown",
   "id": "12123c1b",
   "metadata": {},
   "source": [
    "데이터 출처 : https://taas.koroad.or.kr/api/selectOpenApi.do 후처리\n",
    "\n",
    "데이터 링크 : https://raw.githubusercontent.com/Datamanim/datarepo/main/adp/30/p2_v2.csv\n",
    "\n",
    "데이터 설명 : 자전거사고 다발지역 개별사고 정보\n",
    "\n",
    "대상사고 : 해당 1년간 발생한 가해 또는 피해차종이 자전거인 교통사고\n",
    "\n",
    "다발지역 선정조건 : 반경 300m 내 대상사고 4건이상 발생지역\n",
    "\n",
    "종속 변수 : 피해자신체상해정도"
   ]
  },
  {
   "cell_type": "code",
   "execution_count": 4,
   "id": "da981362",
   "metadata": {},
   "outputs": [
    {
     "data": {
      "text/html": [
       "<div>\n",
       "<style scoped>\n",
       "    .dataframe tbody tr th:only-of-type {\n",
       "        vertical-align: middle;\n",
       "    }\n",
       "\n",
       "    .dataframe tbody tr th {\n",
       "        vertical-align: top;\n",
       "    }\n",
       "\n",
       "    .dataframe thead th {\n",
       "        text-align: right;\n",
       "    }\n",
       "</style>\n",
       "<table border=\"1\" class=\"dataframe\">\n",
       "  <thead>\n",
       "    <tr style=\"text-align: right;\">\n",
       "      <th></th>\n",
       "      <th>사고년도</th>\n",
       "      <th>가해자성별</th>\n",
       "      <th>가해자연령</th>\n",
       "      <th>가해차종</th>\n",
       "      <th>가해자신체상해정도</th>\n",
       "      <th>피해자성별</th>\n",
       "      <th>피해자연령</th>\n",
       "      <th>피해차종</th>\n",
       "      <th>피해자신체상해정도</th>\n",
       "      <th>사고유형</th>\n",
       "      <th>가해자법규위반</th>\n",
       "      <th>기상상태</th>\n",
       "      <th>시각</th>\n",
       "      <th>사건번호</th>\n",
       "    </tr>\n",
       "  </thead>\n",
       "  <tbody>\n",
       "    <tr>\n",
       "      <th>0</th>\n",
       "      <td>2015</td>\n",
       "      <td>남</td>\n",
       "      <td>46세</td>\n",
       "      <td>승합차</td>\n",
       "      <td>상해없음</td>\n",
       "      <td>여</td>\n",
       "      <td>64세</td>\n",
       "      <td>자전거</td>\n",
       "      <td>경상</td>\n",
       "      <td>차대차 - 기타</td>\n",
       "      <td>안전운전불이행</td>\n",
       "      <td>맑음</td>\n",
       "      <td>2015-07-03_10시</td>\n",
       "      <td>ID_796</td>\n",
       "    </tr>\n",
       "    <tr>\n",
       "      <th>1</th>\n",
       "      <td>2019</td>\n",
       "      <td>남</td>\n",
       "      <td>53세</td>\n",
       "      <td>승용차</td>\n",
       "      <td>상해없음</td>\n",
       "      <td>여</td>\n",
       "      <td>57세</td>\n",
       "      <td>자전거</td>\n",
       "      <td>경상</td>\n",
       "      <td>차대차 - 후진중충돌</td>\n",
       "      <td>안전운전불이행</td>\n",
       "      <td>맑음</td>\n",
       "      <td>2019-10-12_10시</td>\n",
       "      <td>ID_6697</td>\n",
       "    </tr>\n",
       "    <tr>\n",
       "      <th>2</th>\n",
       "      <td>2015</td>\n",
       "      <td>남</td>\n",
       "      <td>39세</td>\n",
       "      <td>승용차</td>\n",
       "      <td>상해없음</td>\n",
       "      <td>남</td>\n",
       "      <td>63세</td>\n",
       "      <td>자전거</td>\n",
       "      <td>중상</td>\n",
       "      <td>차대차 - 기타</td>\n",
       "      <td>기타</td>\n",
       "      <td>맑음</td>\n",
       "      <td>2015-03-23_20시</td>\n",
       "      <td>ID_919</td>\n",
       "    </tr>\n",
       "    <tr>\n",
       "      <th>3</th>\n",
       "      <td>2016</td>\n",
       "      <td>남</td>\n",
       "      <td>12세</td>\n",
       "      <td>자전거</td>\n",
       "      <td>상해없음</td>\n",
       "      <td>남</td>\n",
       "      <td>52세</td>\n",
       "      <td>보행자</td>\n",
       "      <td>경상</td>\n",
       "      <td>차대사람 - 길가장자리구역통행중</td>\n",
       "      <td>안전운전불이행</td>\n",
       "      <td>맑음</td>\n",
       "      <td>2016-04-10_15시</td>\n",
       "      <td>ID_2512</td>\n",
       "    </tr>\n",
       "    <tr>\n",
       "      <th>4</th>\n",
       "      <td>2015</td>\n",
       "      <td>남</td>\n",
       "      <td>54세</td>\n",
       "      <td>승용차</td>\n",
       "      <td>상해없음</td>\n",
       "      <td>남</td>\n",
       "      <td>63세</td>\n",
       "      <td>자전거</td>\n",
       "      <td>중상</td>\n",
       "      <td>차대차 - 기타</td>\n",
       "      <td>안전운전불이행</td>\n",
       "      <td>맑음</td>\n",
       "      <td>2015-08-04_6시</td>\n",
       "      <td>ID_75</td>\n",
       "    </tr>\n",
       "  </tbody>\n",
       "</table>\n",
       "</div>"
      ],
      "text/plain": [
       "   사고년도 가해자성별 가해자연령 가해차종 가해자신체상해정도 피해자성별 피해자연령 피해차종 피해자신체상해정도  \\\n",
       "0  2015     남   46세  승합차      상해없음     여   64세  자전거        경상   \n",
       "1  2019     남   53세  승용차      상해없음     여   57세  자전거        경상   \n",
       "2  2015     남   39세  승용차      상해없음     남   63세  자전거        중상   \n",
       "3  2016     남   12세  자전거      상해없음     남   52세  보행자        경상   \n",
       "4  2015     남   54세  승용차      상해없음     남   63세  자전거        중상   \n",
       "\n",
       "                사고유형  가해자법규위반 기상상태              시각     사건번호  \n",
       "0           차대차 - 기타  안전운전불이행   맑음  2015-07-03_10시   ID_796  \n",
       "1        차대차 - 후진중충돌  안전운전불이행   맑음  2019-10-12_10시  ID_6697  \n",
       "2           차대차 - 기타       기타   맑음  2015-03-23_20시   ID_919  \n",
       "3  차대사람 - 길가장자리구역통행중  안전운전불이행   맑음  2016-04-10_15시  ID_2512  \n",
       "4           차대차 - 기타  안전운전불이행   맑음   2015-08-04_6시    ID_75  "
      ]
     },
     "execution_count": 4,
     "metadata": {},
     "output_type": "execute_result"
    }
   ],
   "source": [
    "df = pd.read_csv('https://raw.githubusercontent.com/Datamanim/datarepo/main/adp/30/p2_v2.csv')\n",
    "df.head()"
   ]
  },
  {
   "cell_type": "markdown",
   "id": "8d912336",
   "metadata": {},
   "source": [
    "4-1 발생시각을 통해 평일인지 주말인지를 구분하는 ‘주말여부’ 범주형 변수 추가하고 데이터 분포를 확인하라. (월 ~ 금은 평일, 토요일과 일요일을 주말)"
   ]
  },
  {
   "cell_type": "markdown",
   "id": "6ff9a54c",
   "metadata": {},
   "source": [
    "4-2 ‘피해자신체상해정도’에 따라 각 독립변수들이 유의한지 통계적 검정하라"
   ]
  },
  {
   "cell_type": "markdown",
   "id": "51c35efd",
   "metadata": {},
   "source": [
    "4-3 4-2 에서 유의한 변수들만을 가지고 ‘피해자신체상해정도’를 기준으로 SMOTE 오버샘플링을 수행하고 샘플링 데이터와 기존데이터를 합친 전체 데이터에 대해 범주형변수는 변수별 빈도를 나타내고 연속형이면 평균을 나타내시오"
   ]
  },
  {
   "cell_type": "markdown",
   "id": "91334b30",
   "metadata": {},
   "source": [
    "4-4 4-3 데이터를 가지고 ‘피해자신체상해정도’ 을 종속변수로 하여 로지스틱회귀분석, XGB 분류 분류 모델을 만들고 성능 비교를 하고 영향력 있는 변수를 확인하라"
   ]
  },
  {
   "cell_type": "markdown",
   "id": "edbd1625",
   "metadata": {},
   "source": [
    "# 통계 "
   ]
  },
  {
   "cell_type": "markdown",
   "id": "61e4bb12",
   "metadata": {},
   "source": [
    "5 3개의 공장에서 생산한 제품을 3지역으로 가능한 조건에 맞게 최대로 배송한다.\n",
    "각 공장과 각 지역 사이의 1개 제품 배송 비용이 아래와 같을 때, 최소 배송 비용은 얼마인가?"
   ]
  },
  {
   "cell_type": "code",
   "execution_count": 20,
   "id": "14ff7eb0",
   "metadata": {},
   "outputs": [
    {
     "name": "stdout",
     "output_type": "stream",
     "text": [
      "최소 비용: 29\n",
      "배송 경로:\n",
      "공장 1 -> 지역 1: 12만원\n",
      "공장 2 -> 지역 2: 2만원\n",
      "공장 3 -> 지역 3: 15만원\n"
     ]
    }
   ],
   "source": [
    "import numpy as np\n",
    "from scipy.optimize import linear_sum_assignment\n",
    "# 배송 비용 행렬 (단위: 만원)\n",
    "cost_matrix = np.array([\n",
    "    [12, 5, 34],  # 공장 A -> 지역 1, 2, 3\n",
    "    [22, 2, 21],  # 공장 B -> 지역 1, 2, 3\n",
    "    [3, 23, 15]   # 공장 C -> 지역 1, 2, 3\n",
    "])\n",
    "\n",
    "# 각 공장의 공급량 (각 공장 별 생산 가능량)\n",
    "supply = np.array([70, 55, 25])\n",
    "\n",
    "# 각 지역의 수요량\n",
    "demand = np.array([30, 50, 70])\n",
    "\n",
    "# 헝가리안 알고리즘을 이용해 최소 비용 배송 계획 계산\n",
    "row_ind, col_ind = linear_sum_assignment(cost_matrix)\n",
    "\n",
    "# 최소 비용 계산\n",
    "min_cost = cost_matrix[row_ind, col_ind].sum()\n",
    "\n",
    "# 결과 출력\n",
    "print(\"최소 비용:\", min_cost)\n",
    "\n",
    "# 배송 경로 출력 (어떤 공장에서 어떤 지역으로 배송하는지)\n",
    "print(\"배송 경로:\")\n",
    "for i in range(len(row_ind)):\n",
    "    print(f\"공장 {row_ind[i] + 1} -> 지역 {col_ind[i] + 1}: {cost_matrix[row_ind[i], col_ind[i]]}만원\")"
   ]
  },
  {
   "cell_type": "markdown",
   "id": "888f1b65",
   "metadata": {},
   "source": [
    "6 데이터 링크 : https://raw.githubusercontent.com/Datamanim/datarepo/main/adp/30/p6.csv\n",
    "\n",
    "데이터 설명 : 3개 연령층 (청년 장년 노년)의 A 헤드셋의 선호도 (1,2,3/ 범주형) 설문조사"
   ]
  },
  {
   "cell_type": "code",
   "execution_count": 23,
   "id": "444a6037",
   "metadata": {},
   "outputs": [
    {
     "data": {
      "text/html": [
       "<div>\n",
       "<style scoped>\n",
       "    .dataframe tbody tr th:only-of-type {\n",
       "        vertical-align: middle;\n",
       "    }\n",
       "\n",
       "    .dataframe tbody tr th {\n",
       "        vertical-align: top;\n",
       "    }\n",
       "\n",
       "    .dataframe thead th {\n",
       "        text-align: right;\n",
       "    }\n",
       "</style>\n",
       "<table border=\"1\" class=\"dataframe\">\n",
       "  <thead>\n",
       "    <tr style=\"text-align: right;\">\n",
       "      <th></th>\n",
       "      <th>나이</th>\n",
       "      <th>선호도</th>\n",
       "    </tr>\n",
       "  </thead>\n",
       "  <tbody>\n",
       "    <tr>\n",
       "      <th>0</th>\n",
       "      <td>청년</td>\n",
       "      <td>2</td>\n",
       "    </tr>\n",
       "    <tr>\n",
       "      <th>1</th>\n",
       "      <td>장년</td>\n",
       "      <td>2</td>\n",
       "    </tr>\n",
       "    <tr>\n",
       "      <th>2</th>\n",
       "      <td>청년</td>\n",
       "      <td>2</td>\n",
       "    </tr>\n",
       "    <tr>\n",
       "      <th>3</th>\n",
       "      <td>청년</td>\n",
       "      <td>1</td>\n",
       "    </tr>\n",
       "    <tr>\n",
       "      <th>4</th>\n",
       "      <td>장년</td>\n",
       "      <td>1</td>\n",
       "    </tr>\n",
       "  </tbody>\n",
       "</table>\n",
       "</div>"
      ],
      "text/plain": [
       "   나이  선호도\n",
       "0  청년    2\n",
       "1  장년    2\n",
       "2  청년    2\n",
       "3  청년    1\n",
       "4  장년    1"
      ]
     },
     "execution_count": 23,
     "metadata": {},
     "output_type": "execute_result"
    }
   ],
   "source": [
    "df = pd.read_csv('https://raw.githubusercontent.com/Datamanim/datarepo/main/adp/30/p6.csv')\n",
    "df.head()"
   ]
  },
  {
   "cell_type": "code",
   "execution_count": 24,
   "id": "a1635e07",
   "metadata": {},
   "outputs": [
    {
     "name": "stdout",
     "output_type": "stream",
     "text": [
      "<class 'pandas.core.frame.DataFrame'>\n",
      "RangeIndex: 277 entries, 0 to 276\n",
      "Data columns (total 2 columns):\n",
      " #   Column  Non-Null Count  Dtype \n",
      "---  ------  --------------  ----- \n",
      " 0   나이      277 non-null    object\n",
      " 1   선호도     277 non-null    int64 \n",
      "dtypes: int64(1), object(1)\n",
      "memory usage: 4.5+ KB\n"
     ]
    }
   ],
   "source": [
    "df.info()"
   ]
  },
  {
   "cell_type": "code",
   "execution_count": 25,
   "id": "b4f34ac5",
   "metadata": {},
   "outputs": [
    {
     "data": {
      "text/plain": [
       "청년    120\n",
       "노년     92\n",
       "장년     65\n",
       "Name: 나이, dtype: int64"
      ]
     },
     "execution_count": 25,
     "metadata": {},
     "output_type": "execute_result"
    }
   ],
   "source": [
    "df['나이'].value_counts()"
   ]
  },
  {
   "cell_type": "code",
   "execution_count": 26,
   "id": "2c99083f",
   "metadata": {},
   "outputs": [
    {
     "data": {
      "text/plain": [
       "1    107\n",
       "2     99\n",
       "3     71\n",
       "Name: 선호도, dtype: int64"
      ]
     },
     "execution_count": 26,
     "metadata": {},
     "output_type": "execute_result"
    }
   ],
   "source": [
    "df['선호도'].value_counts()"
   ]
  },
  {
   "cell_type": "markdown",
   "id": "b3a0afee",
   "metadata": {},
   "source": [
    "6-1 연령대별로 헤드셋 선호도에 차이가 있는지를 검정하기 위한 귀무가설과 연구가설을 설정해라"
   ]
  },
  {
   "cell_type": "code",
   "execution_count": null,
   "id": "16271eca",
   "metadata": {},
   "outputs": [],
   "source": [
    "# 3가지 연령대의 3가지 선호도 비교 \n",
    "# 귀무가설 : 연령대별로 헤드셋 선호도 차이가 없다\n",
    "# 연구가설 : 연령대별로 헤드셋 선호도 차이가 있다."
   ]
  },
  {
   "cell_type": "markdown",
   "id": "6ed98273",
   "metadata": {},
   "source": [
    "6-2 유의수준 하에서 통계 검정해라"
   ]
  },
  {
   "cell_type": "code",
   "execution_count": 28,
   "id": "fc94d800",
   "metadata": {},
   "outputs": [
    {
     "data": {
      "text/html": [
       "<div>\n",
       "<style scoped>\n",
       "    .dataframe tbody tr th:only-of-type {\n",
       "        vertical-align: middle;\n",
       "    }\n",
       "\n",
       "    .dataframe tbody tr th {\n",
       "        vertical-align: top;\n",
       "    }\n",
       "\n",
       "    .dataframe thead th {\n",
       "        text-align: right;\n",
       "    }\n",
       "</style>\n",
       "<table border=\"1\" class=\"dataframe\">\n",
       "  <thead>\n",
       "    <tr style=\"text-align: right;\">\n",
       "      <th>선호도</th>\n",
       "      <th>1</th>\n",
       "      <th>2</th>\n",
       "      <th>3</th>\n",
       "    </tr>\n",
       "    <tr>\n",
       "      <th>나이</th>\n",
       "      <th></th>\n",
       "      <th></th>\n",
       "      <th></th>\n",
       "    </tr>\n",
       "  </thead>\n",
       "  <tbody>\n",
       "    <tr>\n",
       "      <th>노년</th>\n",
       "      <td>35</td>\n",
       "      <td>32</td>\n",
       "      <td>25</td>\n",
       "    </tr>\n",
       "    <tr>\n",
       "      <th>장년</th>\n",
       "      <td>25</td>\n",
       "      <td>23</td>\n",
       "      <td>17</td>\n",
       "    </tr>\n",
       "    <tr>\n",
       "      <th>청년</th>\n",
       "      <td>47</td>\n",
       "      <td>44</td>\n",
       "      <td>29</td>\n",
       "    </tr>\n",
       "  </tbody>\n",
       "</table>\n",
       "</div>"
      ],
      "text/plain": [
       "선호도   1   2   3\n",
       "나이             \n",
       "노년   35  32  25\n",
       "장년   25  23  17\n",
       "청년   47  44  29"
      ]
     },
     "execution_count": 28,
     "metadata": {},
     "output_type": "execute_result"
    }
   ],
   "source": [
    "import pandas as pd\n",
    "contingency_table = pd.crosstab(df['나이'], df['선호도'])\n",
    "contingency_table"
   ]
  },
  {
   "cell_type": "code",
   "execution_count": 29,
   "id": "eb4d1554",
   "metadata": {},
   "outputs": [
    {
     "name": "stdout",
     "output_type": "stream",
     "text": [
      "카이제곱 통계량: 0.26510760957453305\n",
      "p-value: 0.9919538273457956\n",
      "자유도: 4\n",
      "기대 빈도수: [[35.53790614 32.88086643 23.58122744]\n",
      " [25.10830325 23.23104693 16.66064982]\n",
      " [46.35379061 42.88808664 30.75812274]]\n",
      "귀무가설을 채택합니다. 연령대별 선호도에 차이가 없습니다.\n"
     ]
    }
   ],
   "source": [
    "import numpy as np\n",
    "import scipy.stats as stats\n",
    "\n",
    "# 카이제곱 독립성 검정 수행\n",
    "chi2_stat, p_val, dof, expected = stats.chi2_contingency(contingency_table)\n",
    "\n",
    "# 결과 출력\n",
    "print(\"카이제곱 통계량:\", chi2_stat)\n",
    "print(\"p-value:\", p_val)\n",
    "print(\"자유도:\", dof)\n",
    "print(\"기대 빈도수:\", expected)\n",
    "\n",
    "# p-value가 0.05보다 작으면 귀무가설을 기각 (차이가 있음)\n",
    "if p_val < 0.05:\n",
    "    print(\"귀무가설을 기각합니다. 연령대별 선호도에 차이가 있습니다.\")\n",
    "else:\n",
    "    print(\"귀무가설을 채택합니다. 연령대별 선호도에 차이가 없습니다.\")"
   ]
  },
  {
   "cell_type": "markdown",
   "id": "d9317432",
   "metadata": {},
   "source": [
    "7-1 아이를 6명 가진 가정이 5 가족이고, 아들/딸을 출생할 확률은 0.5이다. 딸이 4명 이상인 가구가 3 가족 이상일 확률을 구하라"
   ]
  },
  {
   "cell_type": "code",
   "execution_count": 10,
   "id": "ddf78c53",
   "metadata": {},
   "outputs": [
    {
     "name": "stdout",
     "output_type": "stream",
     "text": [
      "0.34375\n"
     ]
    }
   ],
   "source": [
    "from scipy.stats import binom\n",
    "\n",
    "print(1-binom.cdf(3,6,0.5))"
   ]
  },
  {
   "cell_type": "markdown",
   "id": "cf470f10",
   "metadata": {},
   "source": [
    "7-2 5가족 중 몇 가족이 4명 이상 딸을 가질 것으로 기대할 수 있는가?"
   ]
  },
  {
   "cell_type": "code",
   "execution_count": 16,
   "id": "58ae0cae",
   "metadata": {},
   "outputs": [
    {
     "data": {
      "text/plain": [
       "1.71875"
      ]
     },
     "execution_count": 16,
     "metadata": {},
     "output_type": "execute_result"
    }
   ],
   "source": [
    "# 기대값 계산 - 이항 분포의 기대값은 E = np\n",
    "(1-binom.cdf(3,6,0.5))*5"
   ]
  },
  {
   "cell_type": "code",
   "execution_count": null,
   "id": "fc535fc4",
   "metadata": {},
   "outputs": [],
   "source": []
  }
 ],
 "metadata": {
  "hide_input": false,
  "kernelspec": {
   "display_name": "Python 3 (ipykernel)",
   "language": "python",
   "name": "python3"
  },
  "language_info": {
   "codemirror_mode": {
    "name": "ipython",
    "version": 3
   },
   "file_extension": ".py",
   "mimetype": "text/x-python",
   "name": "python",
   "nbconvert_exporter": "python",
   "pygments_lexer": "ipython3",
   "version": "3.9.10"
  },
  "toc": {
   "base_numbering": 1,
   "nav_menu": {},
   "number_sections": true,
   "sideBar": true,
   "skip_h1_title": false,
   "title_cell": "Table of Contents",
   "title_sidebar": "Contents",
   "toc_cell": false,
   "toc_position": {},
   "toc_section_display": true,
   "toc_window_display": false
  }
 },
 "nbformat": 4,
 "nbformat_minor": 5
}
