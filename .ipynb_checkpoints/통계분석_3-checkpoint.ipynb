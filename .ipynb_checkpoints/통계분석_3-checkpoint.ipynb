{
 "cells": [
  {
   "cell_type": "markdown",
   "id": "96d9a831-09e5-4dc8-b950-fd2d80fbdee0",
   "metadata": {},
   "source": [
    "# 연속형 확률분포 "
   ]
  },
  {
   "cell_type": "code",
   "execution_count": null,
   "id": "b159af35-2894-4f1e-9b3e-d69e08969d59",
   "metadata": {},
   "outputs": [],
   "source": []
  }
 ],
 "metadata": {
  "kernelspec": {
   "display_name": "Python 3 (ipykernel)",
   "language": "python",
   "name": "python3"
  },
  "language_info": {
   "codemirror_mode": {
    "name": "ipython",
    "version": 3
   },
   "file_extension": ".py",
   "mimetype": "text/x-python",
   "name": "python",
   "nbconvert_exporter": "python",
   "pygments_lexer": "ipython3",
   "version": "3.11.5"
  }
 },
 "nbformat": 4,
 "nbformat_minor": 5
}
