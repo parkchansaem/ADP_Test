{
 "cells": [
  {
   "cell_type": "markdown",
   "id": "96d9a831-09e5-4dc8-b950-fd2d80fbdee0",
   "metadata": {},
   "source": [
    "# 연속형 확률분포 "
   ]
  },
  {
   "cell_type": "markdown",
   "id": "08c1ce77",
   "metadata": {},
   "source": [
    "## 균일분포"
   ]
  },
  {
   "cell_type": "markdown",
   "id": "169b6a58",
   "metadata": {},
   "source": [
    "- $f(x) = 1/(b-a), \\quad a<x<b$\n",
    "- $E(X) = (a+b)/2$\n",
    "- $Var(X) = (b-a)^2/12$"
   ]
  },
  {
   "cell_type": "code",
   "execution_count": 5,
   "id": "9df690b0",
   "metadata": {},
   "outputs": [
    {
     "name": "stdout",
     "output_type": "stream",
     "text": [
      "12 15\n",
      "범위 내 누적확률은 0.30000000000000004\n",
      "해당 분포의 기대값은 10.0, 해당 분포의 분산은 8.333333333333334 \n"
     ]
    }
   ],
   "source": [
    "# 균일분포\n",
    "# 확률변수 X가 (5,15)에서 균일분포를 따를 때 12와 15 사이의 확률은?\n",
    "a = 5 # 확률변수의 범위\n",
    "b = 15 # 확률변수의 범위\n",
    "range_ = [(12,15)]\n",
    "p = 1/(b-a) #확률밀도함수\n",
    "cdf = 0\n",
    "for (x1, x2) in range_:\n",
    "    print(x1,x2)\n",
    "    cdf += (x2-x1) * p #누적분포함수\n",
    "E = (a+b)/2\n",
    "V = (b-a)**2/12\n",
    "print(f\"범위 내 누적확률은 {cdf}\")\n",
    "print(f\"해당 분포의 기대값은 {E}, 해당 분포의 분산은 {V} \")"
   ]
  },
  {
   "cell_type": "code",
   "execution_count": 9,
   "id": "568f9922",
   "metadata": {},
   "outputs": [
    {
     "name": "stdout",
     "output_type": "stream",
     "text": [
      "10 15\n",
      "25 30\n",
      "범위 내 누적확률은 0.3333333333333333\n",
      "해당 분포의 기대값은 15.0, 분산은 75.0\n"
     ]
    }
   ],
   "source": [
    "# 버스가 오전 7시부터 15분 간격으로 정류장을 출발한다. 한 승객이 이 정류장에 도착하는 시간은 7시에서 7시 30분 사이에 \n",
    "# 균등분포를 따른다고 할 때 이 승객이 버스를 5분 미만 기다릴 확률은?\n",
    "a = 0 # 확률변수의 범위\n",
    "b = 30 # 확률변수의 범위\n",
    "\n",
    "# 승객이 버스를 5분 미만으로 기다릴 구간 : 7시 10분 ~ 7시 15분, 7시 25분 ~ 7시 30분\n",
    "range_ = [(10,15),(25,30)] # 구할 범위\n",
    "p = 1/(b-a) #확률밀도함수\n",
    "cdf = 0\n",
    "for (x1,x2) in range_:\n",
    "    print(x1,x2)\n",
    "    cdf += (x2-x1) * p\n",
    "\n",
    "E = (b+a)/2\n",
    "V = (b-a)**2/12\n",
    "\n",
    "print(f\"범위 내 누적확률은 {cdf}\")\n",
    "print(f\"해당 분포의 기대값은 {E}, 분산은 {V}\")"
   ]
  },
  {
   "cell_type": "markdown",
   "id": "fb0a5d57",
   "metadata": {},
   "source": [
    "## 정규분포"
   ]
  },
  {
   "cell_type": "markdown",
   "id": "6fb323a4",
   "metadata": {},
   "source": [
    "- $f{x} = \\frac{1}{\\sqrt{2\\pi\\sigma}}e^{-\\frac{1}{2}(\\frac{x-\\mu}{\\sigma}^2)}, \\quad -\\infty< x< \\infty$\n",
    "- $E(X) = \\mu$\n",
    "- $Var(X) = \\sigma^2$"
   ]
  },
  {
   "cell_type": "code",
   "execution_count": 11,
   "id": "09496b31",
   "metadata": {},
   "outputs": [
    {
     "name": "stdout",
     "output_type": "stream",
     "text": [
      "범위 내 누적확률은 0.6687123293258339\n",
      "해당 분포의 기대값30 분산은 64\n"
     ]
    }
   ],
   "source": [
    "# 정규분포 \n",
    "# 확률변수 X가 정규분포 N(30,64)를 따를 때 26 ~ 46 구간의 확률은?\n",
    "from scipy.stats import norm # 표준정규분포\n",
    "import numpy as np\n",
    "E = 30 # 평균 \n",
    "V = 64 \n",
    "S = np.sqrt(V)\n",
    "x1 = 26\n",
    "x2 = 46\n",
    "zstat1 = (x1 - E)/S #표준화\n",
    "zstat2 = (x2 - E)/S #표준화\n",
    "cdf = norm.cdf(zstat2)- norm.cdf(zstat1)\n",
    "print(f\"범위 내 누적확률은 {cdf}\")\n",
    "print(f\"해당 분포의 기대값{E} 분산은 {V}\")"
   ]
  },
  {
   "cell_type": "markdown",
   "id": "33a854b9",
   "metadata": {},
   "source": [
    "## 표준정규분포"
   ]
  },
  {
   "cell_type": "markdown",
   "id": "d08e1612",
   "metadata": {},
   "source": [
    "- $f(z) = \\frac{1}{\\sqrt{2\\pi}}e^{-\\frac{z^2}{2}}, \\quad -\\infty < z < \\infty$\n",
    "- $E(Z) = 0$\n",
    "- $Var(Z) =1$"
   ]
  },
  {
   "cell_type": "code",
   "execution_count": 12,
   "id": "d385f497",
   "metadata": {},
   "outputs": [
    {
     "name": "stdout",
     "output_type": "stream",
     "text": [
      "범위 내 누적확률은 0.950004209703559\n",
      "해당 분포의 기대값0 분산은 1\n"
     ]
    }
   ],
   "source": [
    "# 표준정규분포\n",
    "# 확률변수 X가 표준정규분포를 따를 때 -1.96 ~ 1.96 구간의 확률은?\n",
    "E = 0 #평균\n",
    "V = 1 \n",
    "S = np.sqrt(V) # 표준편차\n",
    "zstat1 = -1.96\n",
    "zstat2 = 1.96\n",
    "cdf = norm.cdf(zstat2)- norm.cdf(zstat1)\n",
    "print(f\"범위 내 누적확률은 {cdf}\")\n",
    "print(f\"해당 분포의 기대값{E} 분산은 {V}\")"
   ]
  },
  {
   "cell_type": "code",
   "execution_count": null,
   "id": "e9d3b307",
   "metadata": {},
   "outputs": [],
   "source": []
  }
 ],
 "metadata": {
  "hide_input": false,
  "kernelspec": {
   "display_name": "Python 3 (ipykernel)",
   "language": "python",
   "name": "python3"
  },
  "language_info": {
   "codemirror_mode": {
    "name": "ipython",
    "version": 3
   },
   "file_extension": ".py",
   "mimetype": "text/x-python",
   "name": "python",
   "nbconvert_exporter": "python",
   "pygments_lexer": "ipython3",
   "version": "3.9.10"
  },
  "toc": {
   "base_numbering": 1,
   "nav_menu": {},
   "number_sections": true,
   "sideBar": true,
   "skip_h1_title": false,
   "title_cell": "Table of Contents",
   "title_sidebar": "Contents",
   "toc_cell": false,
   "toc_position": {},
   "toc_section_display": true,
   "toc_window_display": false
  }
 },
 "nbformat": 4,
 "nbformat_minor": 5
}
