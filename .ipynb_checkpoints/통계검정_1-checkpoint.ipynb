{
 "cells": [
  {
   "cell_type": "markdown",
   "metadata": {},
   "source": [
    "## 일표본 "
   ]
  },
  {
   "cell_type": "markdown",
   "metadata": {},
   "source": [
    "모평균 추정 : 점추정 과 구간 추정"
   ]
  },
  {
   "cell_type": "code",
   "execution_count": 3,
   "metadata": {},
   "outputs": [
    {
     "name": "stdout",
     "output_type": "stream",
     "text": [
      "추정\n",
      " 점 추정량 : 33100 \n",
      " 구간 추정량 : (31630.02701159496, 34569.97298840504)\n",
      " 오차의 한계 : 1469.9729884050405  \n"
     ]
    }
   ],
   "source": [
    "import numpy as np\n",
    "## 모표준편차를 아는 경우의 추정\n",
    "# 모평균의 추정\n",
    "x = 33100 #표본 평균\n",
    "n = 36 #표본크기\n",
    "sigma = 4500 # 모표준편차\n",
    "conf_a = 0.05 # 신뢰수준(confidence level) 95% 기준\n",
    "\n",
    "from scipy.stats import norm # 표준정규분포 Z를 사용\n",
    "SE = sigma/np.sqrt(n) # 표준오차\n",
    "conf_z = norm.ppf(1-conf_a/2) # 신뢰계수\n",
    "ME = conf_z * SE #오차의 한계ㅐ = 혀용오차(ME: margin of error)\n",
    "\n",
    "print(\"추정\")\n",
    "print(f\" 점 추정량 : {x} \")\n",
    "print(f\" 구간 추정량 : {x-ME, x+ME}\")\n",
    "print(f\" 오차의 한계 : {ME}  \")\n"
   ]
  },
  {
   "cell_type": "markdown",
   "metadata": {},
   "source": [
    "모평균 추정- 모표준편차를 아는경우 : 표본 규모"
   ]
  },
  {
   "cell_type": "code",
   "execution_count": 5,
   "metadata": {},
   "outputs": [
    {
     "name": "stdout",
     "output_type": "stream",
     "text": [
      "표본 규모\n",
      "유의수준 0.050000000000000044에서 오차의 한계를 500 이하로 하려면 : 표본 규모 311.15816447622416 이상\n"
     ]
    }
   ],
   "source": [
    "# 오차의 한계에 따른 표본 규모\n",
    "# (위의 조건에 이어서 ) 오차의 한계가 500 이하일 확률이 0.95가 되도록 모집단 평균의 추정치를 원하는 경우, 표본 규모는 얼마가 되어야 하는가?\n",
    "ME = 500\n",
    "conf_a = 1-0.95 # 신뢰수준(confidence) 95%\n",
    "conf_z = norm.ppf(conf_a/2) #혹은 norm.ppf(1-conf_a/2)\n",
    "ssize = conf_z ** 2 * sigma**2 / ME**2\n",
    "print(\"표본 규모\")\n",
    "print(f\"유의수준 {conf_a}에서 오차의 한계를 {ME} 이하로 하려면 : 표본 규모 {ssize} 이상\")"
   ]
  },
  {
   "cell_type": "code",
   "execution_count": 13,
   "metadata": {},
   "outputs": [
    {
     "name": "stdout",
     "output_type": "stream",
     "text": [
      "검정\n",
      "임계값 : +/-1.959963984540054 검정통계량 1.4666666666666666\n",
      "유의수준 : 0.05, 유의확률 0.14246675482797233\n"
     ]
    }
   ],
   "source": [
    "# 모평균의 가설 검정\n",
    "# H0: mu = mu0, # H1 : mu != mu0\n",
    "x = 31100 #표본 평균\n",
    "n = 36 # 표본 크기\n",
    "sigma = 4500 # 모표본편차\n",
    "mu0 = 30000 #귀무가설의 모평균\n",
    "test_a = 0.05 # 가설검정을 위한 유의수준\n",
    "\n",
    "SE = sigma / np.sqrt(n) # Standard Error\n",
    "zstat = (x - mu0)/SE # 검정 통계량\n",
    "\n",
    "# 단측(one)/ 양측(Two) 검정에 따른 유의확률과 임계값\n",
    "ways = 'two' # 'two', 'one-right', 'one-left' #대립가설 기준\n",
    "if ways == 'two':\n",
    "    sp = (1-norm.cdf(np.abs(zstat)))*2 #significance probability\n",
    "    cv = norm.ppf(1-test_a/2) # critical value\n",
    "    cv = f\"+/-{cv}\"\n",
    "elif ways == 'one-right':\n",
    "    sp= 1-norm.cdf(zstat)\n",
    "    cv = norm.ppf(1-test_a)\n",
    "    cv = f\"cv{cv}\"\n",
    "elif ways == 'one-left':\n",
    "    sp = 1-norm.cdf(zstat)\n",
    "    cv = norm.ppf(test_a)\n",
    "    cv = f\"cv{cv}\"\n",
    "\n",
    "print(\"검정\")\n",
    "print(f\"임계값 : {cv} 검정통계량 {zstat}\")\n",
    "print(f\"유의수준 : {test_a}, 유의확률 {sp}\")"
   ]
  },
  {
   "cell_type": "code",
   "execution_count": 22,
   "metadata": {},
   "outputs": [
    {
     "name": "stdout",
     "output_type": "stream",
     "text": [
      "추정\n",
      "점추정 : 650\n",
      "구간추정 : (620.6925687485593, 679.3074312514407)\n",
      "오차의 한계 : 29.30743125144069\n"
     ]
    }
   ],
   "source": [
    "## 모표준편차를 모르는 경우\n",
    "# 모평균의 추정\n",
    "x = 650 #표본평균\n",
    "n = 16 #표본크기\n",
    "s = 55 #표본표준편차\n",
    "conf_a = 0.05 # 신뢰수준(confidence level) 95%\n",
    "df = n-1 #자유도\n",
    "\n",
    "from scipy.stats import t\n",
    "SE  = s/np.sqrt(n)\n",
    "conf_t = t.ppf(1-conf_a/2,df)\n",
    "ME = conf_t *SE\n",
    "\n",
    "print('추정')\n",
    "print(f\"점추정 : {x}\")\n",
    "print(f\"구간추정 : {x-ME,x+ME}\")\n",
    "print(f\"오차의 한계 : {ME}\")"
   ]
  },
  {
   "cell_type": "code",
   "execution_count": 23,
   "metadata": {},
   "outputs": [
    {
     "name": "stdout",
     "output_type": "stream",
     "text": [
      "표본 규모\n",
      "유의 수준 0.050000000000000044에서 오차의 한계를 20이하로 하려면 : 표본 크기 34.357021062316896이상 필요하다\n"
     ]
    }
   ],
   "source": [
    "# 오차의 한계에 따른 표본 규모\n",
    "# (위의 조건에 이어서 ) 오차의 한계가 20 이하일 확률이 0.95가 되도록 모집단 평균의 추정치를 원하는 경우, 표본 규모는 얼마가 되어야 하는가?\n",
    "ME2 = 20\n",
    "conf_a2 = 1 - 0.95 # 신뢰수준(confidence Level) 95% 기준\n",
    "conf_t2 = t.ppf(conf_a2/2,df)\n",
    "ssize = conf_t2 **2 * s**2 /ME2**2\n",
    "print(\"표본 규모\")\n",
    "print(f\"유의 수준 {conf_a2}에서 오차의 한계를 {ME2}이하로 하려면 : 표본 크기 {ssize}이상 필요하다\")"
   ]
  },
  {
   "cell_type": "code",
   "execution_count": 22,
   "metadata": {},
   "outputs": [
    {
     "name": "stdout",
     "output_type": "stream",
     "text": [
      "검정\n",
      "임계값 : 1.7530503556925547, 검정통계량 3.6363636363636362\n",
      "유의수준: 0.05, 유의확률 0.0012185096017776065\n"
     ]
    }
   ],
   "source": [
    "# 모평균의 가설검정 (=one-sample t-test)\n",
    "# H0 : mu = mu0 # H1: mu > mu0\n",
    "mu0 = 600 #귀무가설의 모평균\n",
    "test_a = 0.05 # 가설검정을 위한 유의수준\n",
    "x = 650 # 표본평균\n",
    "n = 16 # 표본크기\n",
    "s = 55 #표본표준편차\n",
    "df = n-1 #자유도\n",
    "\n",
    "SE = s/np.sqrt(n)\n",
    "tstat = (x-mu0)/SE\n",
    "\n",
    "#단측(one)/양측(two) 검정에 따른 유의확룰과 임계값\n",
    "ways = 'one-right' # 'two', 'one-right', 'one-left'\n",
    "if ways == 'two':\n",
    "    sp = (1-t.cdf(np.abs(tstat),df))* 2\n",
    "    cv = t.ppf(1-test_a/2,df)\n",
    "    cv = f\"+/- {cv}\"\n",
    "elif ways == 'one-right':\n",
    "    sp = 1-t.cdf(tstat,df)\n",
    "    cv = t.ppf(1-test_a,df)\n",
    "    cv = f'{cv}'\n",
    "elif ways == 'one-left':\n",
    "    sp = t.cdf(tstat,df)\n",
    "    cv = t.ppf(tstat,df)\n",
    "    cv = f'{cv}'\n",
    "\n",
    "print('검정')\n",
    "print(f\"임계값 : {cv}, 검정통계량 {tstat}\")\n",
    "print(f\"유의수준: {test_a}, 유의확률 {sp}\")\n"
   ]
  },
  {
   "cell_type": "code",
   "execution_count": 4,
   "metadata": {},
   "outputs": [
    {
     "name": "stdout",
     "output_type": "stream",
     "text": [
      "추정\n",
      "점추정량 : 0.44\n",
      "구간 추정량 (0.3964905653123594, 0.4835094346876406)\n",
      "오차의 한계: 0.043509434687640625\n"
     ]
    }
   ],
   "source": [
    "# 모비율 추정\n",
    "n = 500 #표본 크기\n",
    "p = 220/500 #표본비율\n",
    "conf_a = 0.05\n",
    "from scipy.stats import norm\n",
    "SE = np.sqrt(p*(1-p)/n) #표본비율로 SE계산\n",
    "conf_z = norm.ppf(1-conf_a/2)\n",
    "ME = conf_z * SE\n",
    "\n",
    "print(\"추정\")\n",
    "print(f\"점추정량 : {p}\")\n",
    "print(f\"구간 추정량 {p-ME,p+ME}\")\n",
    "print(f\"오차의 한계: {ME}\")"
   ]
  },
  {
   "cell_type": "code",
   "execution_count": 6,
   "metadata": {},
   "outputs": [
    {
     "name": "stdout",
     "output_type": "stream",
     "text": [
      "표본 규모 계산\n",
      "유의수준 0.010000000000000009에서 오차의 한계를 0.03이하로 하려면 : 표본 크기 1816.4872472129193이상\n"
     ]
    }
   ],
   "source": [
    "# 표본규모 계산 : 모비율 p를 아는 경우에는 p를 사용, 아니면 표본비율 p로 계산, 두 정보 모두 없다면 p=0.5로 계산 \n",
    "# (위의 조건에 이어서 오차의 한계가 0.03 이하일 확률이 0.99가 되도록 모집단 비율의 추정치를 원하는 경우, 표본 규모는 얼막 되어야 하는가?)\n",
    "\n",
    "ME2 = 0.03\n",
    "conf_a2 = 1-0.99\n",
    "conf_z2 = norm.ppf(1-conf_a2/2)\n",
    "ssize = conf_z2 ** 2 *p *(1-p)/ME2**2\n",
    "print(\"표본 규모 계산\")\n",
    "print(f\"유의수준 {conf_a2}에서 오차의 한계를 {ME2}이하로 하려면 : 표본 크기 {ssize}이상\")"
   ]
  },
  {
   "cell_type": "code",
   "execution_count": 12,
   "metadata": {},
   "outputs": [
    {
     "name": "stdout",
     "output_type": "stream",
     "text": [
      "검정\n",
      "임계값 +/- 1.959963984540054, 검정통계량 -2.6832815729997477\n",
      "유의수준 0.05, 유의확률0.007290358091535554\n"
     ]
    }
   ],
   "source": [
    "# 모비율의 가설검정\n",
    "# H0: P = P0, H1: p !=p0\n",
    "n = 500 #표본 크기 \n",
    "p = 220/500 #표본 비율\n",
    "p0 = 0.5 #귀무가설의 모비율\n",
    "test_a = 0.05\n",
    "SE = np.sqrt(p0*(1-p0)/n) # 귀무가설의 모비율로 SE계산\n",
    "zstat = (p - p0)/SE\n",
    "\n",
    "# 단측(one)/ 양측(two) 검정에 따른 유의확률과 임계값\n",
    "ways = 'two' # 'two', 'one-right(P>P0)', 'one-left(P<P0)' # 대립가설 기준\n",
    "if ways == 'two':\n",
    "    sp = (1-norm.cdf(np.abs(zstat)))*2\n",
    "    cv = norm.ppf(1-test_a/2)\n",
    "    cv = f\"+/- {cv}\"\n",
    "elif ways == 'one-right':\n",
    "    sp = 1-norm.cdf(zstat)\n",
    "    cv = norm.ppf(1-test_a)\n",
    "    cv = f\"{cv}\"\n",
    "elif ways == 'one-left':\n",
    "    sp = norm.cdf(zstat)\n",
    "    cv = norm.ppf(test_a)\n",
    "    cv = f\"{cv}\"\n",
    "\n",
    "print(\"검정\")\n",
    "print(f\"임계값 {cv}, 검정통계량 {zstat}\")\n",
    "print(f\"유의수준 {test_a}, 유의확률{sp}\")"
   ]
  },
  {
   "cell_type": "markdown",
   "metadata": {},
   "source": [
    "모분산 추정 - 카이제곱분포"
   ]
  },
  {
   "cell_type": "code",
   "execution_count": 8,
   "metadata": {},
   "outputs": [
    {
     "name": "stdout",
     "output_type": "stream",
     "text": [
      "추정\n",
      "점 추정량 : 3.4\n",
      "구간 추정량 1.609~11.332\n"
     ]
    }
   ],
   "source": [
    "# 모평균을 모르는 겨웅\n",
    "# 모분산의 추정\n",
    "n = 10 #표본 크기\n",
    "v = 3.4 #표본 분산\n",
    "df = n-1 #자유도 (degree of freedom)\n",
    "conf_a = 0.05 #신뢰수준 95%\n",
    "\n",
    "from scipy.stats import chi2\n",
    "conf_c1 = chi2.ppf(1-conf_a/2,df)\n",
    "conf_c2 = chi2.ppf(conf_a/2,df)\n",
    "CR1 = df * v / conf_c1 # confidence range \n",
    "CR2 = df * v / conf_c2 # confidence range\n",
    "\n",
    "print(\"추정\")\n",
    "print(f\"점 추정량 : {v}\")\n",
    "print(f\"구간 추정량 {CR1:.3f}~{CR2:.3f}\")"
   ]
  },
  {
   "cell_type": "code",
   "execution_count": 12,
   "metadata": {},
   "outputs": [
    {
     "name": "stdout",
     "output_type": "stream",
     "text": [
      "가설검정 \n",
      "임계값 3.325112843066815, 검정통계량 8.5\n",
      "유의수준 0.05, 유의확률0.5153541141736069\n"
     ]
    }
   ],
   "source": [
    "# 가설검정\n",
    "# H0 : sigma^2 =v0, H1 : sigma^2 <v0\n",
    "\n",
    "n = 10 #표본크기\n",
    "v = 3.4 #표본 분산\n",
    "df = n-1 # 자유도\n",
    "v0 = 3.6 #귀무가설의 모분산 \n",
    "test_a = 0.05\n",
    "\n",
    "cstat = df * v /v0 # 카이제곱통계량\n",
    "\n",
    "# 단측(one)/ 양측(two) 검정에 따른 유의확률과 임계값\n",
    "ways =\"one-left\" # 'two', one-right','one-left'\n",
    "\n",
    "if ways == \"two\":\n",
    "    if chi2.cdf(cstat,df) < 0.5:\n",
    "        sp = (chi2.cdf(cstat,df))*2\n",
    "    else:\n",
    "        sp = (1-chi2.cdf(cstat,df))*2\n",
    "    cv1 = chi2.ppf(test_a/2 , df)\n",
    "    cv2 = chi2.ppf(1-test_a/2 , df)\n",
    "    cv = f\"{cv1} ~ {cv2}\"\n",
    "    \n",
    "elif ways == \"one-right\":\n",
    "    sp = 1-chi2.cdf(cstat,df)\n",
    "    cv = chi2.ppf(1-test_a,df)\n",
    "    cv = f\"{cv}\"\n",
    "    \n",
    "elif ways == \"one-left\":\n",
    "    sp = chi2.cdf(cstat,df)\n",
    "    cv = chi2.ppf(test_a ,df)\n",
    "    cv = f'{cv}'\n",
    "    \n",
    "print(\"가설검정 \" )\n",
    "print(f\"임계값 {cv}, 검정통계량 {cstat}\")\n",
    "print(f\"유의수준 {test_a}, 유의확률{sp}\")"
   ]
  },
  {
   "cell_type": "markdown",
   "metadata": {},
   "source": [
    "## 이표본 "
   ]
  },
  {
   "cell_type": "markdown",
   "metadata": {},
   "source": [
    "독립표본"
   ]
  },
  {
   "cell_type": "code",
   "execution_count": 18,
   "metadata": {},
   "outputs": [
    {
     "name": "stdout",
     "output_type": "stream",
     "text": [
      "추정\n",
      "구간 추정 5.352669746239741 ~ 10.64733025376026\n",
      "오차의 한계 2.6473302537602597\n"
     ]
    }
   ],
   "source": [
    "## 표본의 크기가 30이상이고 모집단의 분산을 아는 경우 \n",
    "# 독립표본 모평균 차이의 추정\n",
    "from scipy.stats import norm\n",
    "import numpy as np\n",
    "\n",
    "x1 = 78 # 1번 모집단의 표본 평균\n",
    "x2 = 70 # 2번 모집단의 표본 평균\n",
    "sigma1 = 4.8 # 1번 모표준편차\n",
    "sigma2 = 3.1 # 2번 모표준편차\n",
    "n1 = 16 # 1번 표본크기\n",
    "n2 = 25 # 2번 표본크기\n",
    "conf_a = 0.05 # 신뢰수준 \n",
    "\n",
    "d = x1 - x2 # 두 모평균의 차이에 대한 점 추정값\n",
    "SE = np.sqrt(sigma1**2/n1 + sigma2**2/n2)\n",
    "conf_z = norm.ppf(1-conf_a/2)\n",
    "ME = conf_z * SE\n",
    "\n",
    "print(\"추정\" )\n",
    "print(f\"구간 추정 {d-ME} ~ {d+ME}\")\n",
    "print(f\"오차의 한계 {ME}\")\n"
   ]
  },
  {
   "cell_type": "code",
   "execution_count": 20,
   "metadata": {},
   "outputs": [
    {
     "name": "stdout",
     "output_type": "stream",
     "text": [
      "검정\n",
      "임계값 1.959963984540054, 검정통계량 5.922839379049523\n",
      "유의수준 0.05, .유의확률 0.000\n"
     ]
    }
   ],
   "source": [
    "# 독립 표본 모평균 차이의 가설검정\n",
    "# H0 : 모평균의 차  = D0, H1 : 모평균의 차 != D0\n",
    "test_a = 0.05\n",
    "d0 = 0\n",
    "d = x1 - x2\n",
    "df = n1+n2 -2\n",
    "SE = np.sqrt(sigma1**2/n1 + sigma2**2/n2)\n",
    "zstat = (x1 - x2 -d0)/SE\n",
    "\n",
    "# 단측(one)/ 양측(two) 검정에 따른 유의확률과 임계값\n",
    "ways = 'two' # 'two', 'one-right'(H1: 모평균의 차 > D0), 'one-left'(H1: 모평균의 차 <D0)\n",
    "if ways == 'two':\n",
    "    sp = (1-norm.cdf(np.abs(zstat)))*2\n",
    "    cv = norm.ppf(1-test_a/2)\n",
    "    cv = f'{cv}'\n",
    "elif ways == 'one-right':\n",
    "    sp = 1-norm.cdf(zstat)\n",
    "    cv = norm.ppf(1-test_a)\n",
    "    cv = f'{cv}'\n",
    "elif ways == 'one-left':\n",
    "    sp = norm.cdf(zstat)\n",
    "    cv = norm.ppf(test_a)\n",
    "    cv= f'{cv}'\n",
    "\n",
    "print('검정')\n",
    "print(f'임계값 {cv}, 검정통계량 {zstat}')\n",
    "print(f\"유의수준 {test_a}, .유의확률 {sp:.3f}\")"
   ]
  },
  {
   "cell_type": "code",
   "execution_count": 23,
   "metadata": {},
   "outputs": [
    {
     "name": "stdout",
     "output_type": "stream",
     "text": [
      "추정\n",
      "점 추정량 4\n",
      "구간 추정량 (0.0006943213868382259, 7.999305678613162)\n",
      "오차의 한계 3.9993056786131618\n",
      "합동분산 20.05\n"
     ]
    }
   ],
   "source": [
    "### 표본의 크기가 30 미만이고 모집단의 분산을 모르지만 같다는 것을 알고 있을 경우\n",
    "# 독립표본 모평균 차이의 추정\n",
    "x1 = 85 # 1번 모집단의 표본평균\n",
    "x2 = 81 # 2번 모집단의 표본평균\n",
    "s1 = 4 # 1번 표본표준편차\n",
    "s2 = 5 # 2번 표본표준편차\n",
    "n1 = 12 #1번 표본 크기\n",
    "n2 = 10 #2번 표본 크기\n",
    "conf_a = 0.05 # 신뢰수준\n",
    "\n",
    "d = x1 - x2 \n",
    "df = n1 + n2 -2 # 자유도 \n",
    "pv = (s1 **2 *(n1-1) + s2**2*(n2-1))/ df # 합동 분산\n",
    "SE = np.sqrt(pv) * np.sqrt(1/n1 + 1/n2)\n",
    "conf_t = t.ppf(1-conf_a/2,df) # t분포 활용\n",
    "ME = conf_t * SE\n",
    "\n",
    "print(\"추정\")\n",
    "print(f\"점 추정량 {d}\")\n",
    "print(f\"구간 추정량 {d-ME,d+ME}\")\n",
    "print(f\"오차의 한계 {ME}\")\n",
    "print(f\"합동분산 {pv}\")\n"
   ]
  },
  {
   "cell_type": "code",
   "execution_count": 26,
   "metadata": {},
   "outputs": [
    {
     "name": "stdout",
     "output_type": "stream",
     "text": [
      "검정\n",
      "임계값 +/- 2.0859634472658364, 검정통계량 2.0863255923855117\n",
      "유의수준 0.05, 유의확률 0.04996389247171029\n"
     ]
    }
   ],
   "source": [
    "# 독립표본 모평균 차이의 가설검정\n",
    "# H0 : 모평균의 차 = D0, h1 : 모평균의 차 != D0\n",
    "test_a = 0.05\n",
    "d0 = 0\n",
    "d = x1-x2\n",
    "df = n1+n2-2\n",
    "pv = (s1**2*(n1-1) + s2**2*(n2-1)) /  df\n",
    "SE = np.sqrt(pv) * np.sqrt(1/n1 + 1/n2)\n",
    "tstat = (x1 - x2 - d0) / SE \n",
    "\n",
    "# 단측(one) / 양측(two) 검정에 따른 유의확률과 임계값\n",
    "ways = 'two' # \n",
    "if ways == 'two':\n",
    "    sp = (1-t.cdf(np.abs(tstat),df))*2\n",
    "    cv = t.ppf(1- test_a/2,df)\n",
    "    cv = f'+/- {cv}'\n",
    "elif ways == 'one-right':\n",
    "    sp = 1-t.cdf(tstat)\n",
    "    cv = t.ppf(1-test_a)\n",
    "    cv = f'{cv}'\n",
    "elif ways =='one-left':\n",
    "    sp = t.cdf(tstat)\n",
    "    cv = t.ppf(test_a)\n",
    "    cv = f'{cv}'\n",
    "\n",
    "print(\"검정\")\n",
    "print(f\"임계값 {cv}, 검정통계량 {tstat}\")\n",
    "print(f\"유의수준 {test_a}, 유의확률 {sp}\")\n",
    "\n",
    " "
   ]
  },
  {
   "cell_type": "code",
   "execution_count": 28,
   "metadata": {},
   "outputs": [
    {
     "name": "stdout",
     "output_type": "stream",
     "text": [
      "추정\n",
      "점추정4\n",
      "구간 추정량 -0.12776068933965323 ~ 8.127760689339652\n",
      "오차 한계 4.127760689339653\n",
      "자유도 17.16519174041298\n"
     ]
    }
   ],
   "source": [
    "## 표본의 크기가 30 미만이고 모집단의 분산을 모르지만 다르다고 알고 있을 경우\n",
    "# 독립표본 모평균 차이의 추정\n",
    "from scipy.stats import t\n",
    "x1 = 85 # 1번 모집단의 표본 평균\n",
    "x2 = 81 # 2번 모집단으 표본 평균\n",
    "s1 = 4 # 1번 표본표준편차\n",
    "s2 = 5 # 2번 표본표준편차\n",
    "n1 = 12 # 1번 표본 크기\n",
    "n2 = 10 # 2번 표본 크기\n",
    "conf_a = 0.05 # 신뢰구간\n",
    "\n",
    "d = x1 -x2 \n",
    "df = ((s1**2)/n1 + (s2**2)/n2)**2 / (1/(n1-1) * ((s1**2)/n1)**2 + 1/(n2-1)*((s2**2)/n2)**2)\n",
    "SE = np.sqrt(s1**2/n1 + s2**2/n2)\n",
    "conf_t = t.ppf(1-conf_a/2,df)\n",
    "ME = conf_t * SE\n",
    "\n",
    "print(\"추정\")\n",
    "print(f\"점추정{d}\")\n",
    "print(f\"구간 추정량 {d-ME} ~ {d+ME}\")\n",
    "print(f\"오차 한계 {ME}\")\n",
    "print(f\"자유도 {df}\")"
   ]
  },
  {
   "cell_type": "code",
   "execution_count": 35,
   "metadata": {},
   "outputs": [
    {
     "name": "stdout",
     "output_type": "stream",
     "text": [
      "검정\n",
      "임계값 +/- 2.1082699465257684, 검정통계량2.043\n",
      "유의수준 0.05, 유의확률 0.057\n"
     ]
    }
   ],
   "source": [
    "# 독립표본 모평균의 차이의 가설검정\n",
    "# H0 :  모평균의 차  = D0, H1 : 모평균의 차 != D0\n",
    "test_a = 0.05\n",
    "d0 = 0\n",
    "d= x1-x2\n",
    "df = ((s1**2)/n1 + (s2**2)/n2)**2 / (1/(n1-1) * ((s1**2)/n1)**2 + 1/(n2-1) * ((s2**2)/n2)**2)\n",
    "SE = np.sqrt(s1**2/n1 + s2**2/n2)\n",
    "tstat = (x1-x2-d0)/SE\n",
    "\n",
    "# 단측(one)/ 양측(two) 검정에 따른 유의확률과 임계값\n",
    "ways = 'two'\n",
    "if ways == 'two':\n",
    "    sp = (1-t.cdf(np.abs(tstat),df))*2\n",
    "    cv = t.ppf(1-test_a/2,df)\n",
    "    cv = f'+/- {cv}'\n",
    "elif ways == 'one-right':\n",
    "    sp = 1-t.cdf(tstat,df)\n",
    "    cv = t.ppf(1-test_a,df)\n",
    "    cv = f'{cv}'\n",
    "elif ways =='one-left':\n",
    "    sp = t.cdf(tstat,df)\n",
    "    cv = t.ppf(test_a,df)\n",
    "    cv= f'{cv}'\n",
    "print('검정')\n",
    "print(f'임계값 {cv}, 검정통계량{tstat:.3f}')\n",
    "print(f'유의수준 {test_a}, 유의확률 {sp:.3f}')\n"
   ]
  },
  {
   "cell_type": "code",
   "execution_count": 37,
   "metadata": {},
   "outputs": [
    {
     "name": "stdout",
     "output_type": "stream",
     "text": [
      "모집단의 분산이 동일한 경우 t-test : 검정통계량 -3.5642255405212087, 유의확률 0.009167452294336178 \n",
      "모집단의 분산이 동일하지 않는 경우 t-test : 검정통계량 -3.6556307750696546, 유의확률0.008156170828391868\n"
     ]
    }
   ],
   "source": [
    "# 라이브러리를 통한 독립표본 t-test\n",
    "from scipy.stats import ttest_ind\n",
    "x1 = [1,3,5,7,9]\n",
    "x2 = [9,11,13,15]\n",
    "\n",
    "# equal_var : 모집단의 분산이 동일한지 여부 \n",
    "# alternative : 대립가설의 형태 'two-sided', 'less', 'greater'\n",
    "tstat,p = ttest_ind(x1,x2,equal_var = True, alternative = 'two-sided')\n",
    "print(f'모집단의 분산이 동일한 경우 t-test : 검정통계량 {tstat}, 유의확률 {p} ')\n",
    "\n",
    "tstat, p = ttest_ind(x1,x2,equal_var= False, alternative = 'two-sided')\n",
    "print(f\"모집단의 분산이 동일하지 않는 경우 t-test : 검정통계량 {tstat}, 유의확률{p}\")"
   ]
  },
  {
   "cell_type": "markdown",
   "metadata": {},
   "source": [
    "대응표본\n"
   ]
  },
  {
   "cell_type": "code",
   "execution_count": 38,
   "metadata": {},
   "outputs": [
    {
     "name": "stdout",
     "output_type": "stream",
     "text": [
      "추정\n",
      "점추정량 -1.0\n",
      "구간 추정량 -3.892547973562949 ~ 1.892547973562949\n",
      "오차의 한계 2.892547973562949\n"
     ]
    }
   ],
   "source": [
    "### 표본의 크기가 30미만인 경우\n",
    "# 대응표본 모평균의 차이의 추정\n",
    "from scipy.stats import t\n",
    "import numpy as np\n",
    "x1 = np.array([75,83,96,77,81,90,82,67,94,85,78,82,96,80,87,81])\n",
    "x2 = np.array([80,90,92,75,86,90,81,70,89,88,82,79,91,90,78,89])\n",
    "n = len(x1)\n",
    "df = n - 1\n",
    "conf_a = 0.05\n",
    "\n",
    "d = x1 -x2 # 두 데이터의 차이\n",
    "d_mean = np.mean(d) # 두 데이터 차이의 평균\n",
    "d_std = np.sqrt(1/df * sum((d-d_mean)**2)) # 두 데이터 차이의 표준편차\n",
    "SE = d_std/ np.sqrt(n)\n",
    "conf_t = t.ppf(1-conf_a/2,df)\n",
    "ME = conf_t *SE\n",
    "\n",
    "print('추정')\n",
    "print(f'점추정량 {d_mean}')\n",
    "print(f'구간 추정량 {d_mean-ME} ~ {d_mean+ME}')\n",
    "print(f'오차의 한계 {ME}')"
   ]
  },
  {
   "cell_type": "code",
   "execution_count": 40,
   "metadata": {},
   "outputs": [
    {
     "name": "stdout",
     "output_type": "stream",
     "text": [
      "검정\n",
      "임계값 +/- 2.131449545559323 , 검정통계량 -0.7368761261836121\n",
      "유의 수준 0.05, 유의 확률 0.4725666261759254\n"
     ]
    }
   ],
   "source": [
    "# 대응표본 모평균 차이의 가설검정\n",
    "# H0 : 모평균의 차 = D0, H1: 모평균의 차 != D0\n",
    "test_a = 0.05 \n",
    "d0 = 0\n",
    "d= x1 - x2\n",
    "d_mean = np.mean(d)\n",
    "d_std = np.sqrt(1/df * sum((d - d_mean)**2))\n",
    "SE = d_std / np.sqrt(n)\n",
    "tstat = (d_mean - d0) / SE\n",
    "\n",
    "# 단측(one)/ 양측(two) 검정에 따른 유의확률과 임계값\n",
    "ways = 'two' \n",
    "if ways =='two': \n",
    "    sp = (1-t.cdf(np.abs(tstat),df))*2\n",
    "    cv = t.ppf(1-test_a/2, df)\n",
    "    cv = f\"+/- {cv}\"\n",
    "elif ways == 'one-right':\n",
    "    sp = 1-t.cdf(tstat, df)\n",
    "    cv = t.ppf(1-test_a, df)\n",
    "    cv = f'{cv}'\n",
    "elif ways == 'one-left':\n",
    "    sp = t.cdf(tstat,df)\n",
    "    cv = t.ppf(test_a,df)\n",
    "    cv = f'{cv}'\n",
    "\n",
    "print('검정')\n",
    "print(f'임계값 {cv} , 검정통계량 {tstat}')\n",
    "print(f'유의 수준 {test_a}, 유의 확률 {sp}')"
   ]
  },
  {
   "cell_type": "code",
   "execution_count": 41,
   "metadata": {},
   "outputs": [
    {
     "name": "stdout",
     "output_type": "stream",
     "text": [
      "라이브러리\n",
      "검정통계량 -0.7368761261836121, 유의확률0.4725666261759255\n"
     ]
    }
   ],
   "source": [
    "from scipy.stats import ttest_rel\n",
    "tstat, p = ttest_rel(x1,x2,alternative='two-sided')\n",
    "print('라이브러리')\n",
    "print(f'검정통계량 {tstat}, 유의확률{p}')"
   ]
  },
  {
   "cell_type": "code",
   "execution_count": 42,
   "metadata": {},
   "outputs": [
    {
     "name": "stdout",
     "output_type": "stream",
     "text": [
      " 추정 \n",
      " 점추정량 : 2.275\n",
      " 구간 추정량 : (-0.5056663862477926, 5.055666386247792) \n",
      " 오차의 한계 2.7806663862477925\n"
     ]
    }
   ],
   "source": [
    "# 표본의 크기가 30이상인 경우\n",
    "# 대응표본 모평균 차이의 추정\n",
    "from scipy.stats import norm\n",
    "import numpy as np\n",
    "np.random.seed(0) # 랜덤 시드 고정\n",
    "x1 = np.random.randint(80,100,40 ) # 80~ 100 사이의 숫자를 랜덤으로 40개 추출\n",
    "x2 = np.random.randint(80,100,40) # 80 ~ 100 사이의 숫자를 랜덤으로 40개 추출\n",
    "n = len(x1)\n",
    "df = n - 1\n",
    "conf_a = 0.05\n",
    "\n",
    "d = x1 -x2 # 두 데이터의 차이\n",
    "d_mean = np.mean(d) #두 데이터의 차이의 평균\n",
    "d_std = np.sqrt(1/df * sum((d-d_mean)**2)) # 두데이터 차이의 표준편차\n",
    "SE = d_std / np.sqrt(n)\n",
    "conf_z = norm.ppf(1-conf_a/2)\n",
    "ME = conf_z * SE\n",
    "\n",
    "print(\" 추정 \" )\n",
    "print(f\" 점추정량 : {d_mean}\")\n",
    "print(f\" 구간 추정량 : {d_mean-ME, d_mean+ME} \")\n",
    "print(f\" 오차의 한계 {ME}\")\n"
   ]
  },
  {
   "cell_type": "code",
   "execution_count": 44,
   "metadata": {},
   "outputs": [
    {
     "name": "stdout",
     "output_type": "stream",
     "text": [
      "검정\n",
      "임계값 +/-1.959963984540054, 검정 통계량 1.6035429805175043\n",
      "유의 수준 0.05, 유의확률 0.10881482789185948\n"
     ]
    }
   ],
   "source": [
    "# 대응표본 모평균 차이이 가설검정\n",
    "# H0 : 모평균 차이 = D0 H1 : 모평균 차이 != D0\n",
    "test_a = 0.05\n",
    "d0 = 0\n",
    "d= x1 - x2\n",
    "d_mean = np.mean(d)\n",
    "d_std = np.sqrt(1/df * sum((d-d_mean)**2))\n",
    "SE = d_std / np.sqrt(n)\n",
    "zstat = (d_mean - d0) / SE\n",
    "\n",
    "# 단측/ 양측 검정에 따른 유의확률과 임계값\n",
    "ways = 'two'\n",
    "if ways == 'two':\n",
    "    sp = (1-norm.cdf(np.abs(zstat)))*2\n",
    "    cv = norm.ppf(1-test_a/2)\n",
    "    cv = f\"+/-{cv}\"\n",
    "elif ways == 'one-right':\n",
    "    sp = 1-norm.cdf(zstat)\n",
    "    cv = norm.ppf(1-test_a)\n",
    "    cv = f'{cv}'\n",
    "elif ways == 'one-left':\n",
    "    sp = norm.cdf(zstat)\n",
    "    cv = norm.ppf(test_a)\n",
    "    cv = f'{cv}'\n",
    "\n",
    "print('검정')\n",
    "print(f'임계값 {cv}, 검정 통계량 {zstat}')\n",
    "print(f'유의 수준 {test_a}, 유의확률 {sp}')"
   ]
  },
  {
   "cell_type": "code",
   "execution_count": 45,
   "metadata": {},
   "outputs": [
    {
     "name": "stdout",
     "output_type": "stream",
     "text": [
      "라이브러리 검정\n",
      "검정통계량 1.6035429805175043, 유의확률 0.11688395974818801\n"
     ]
    }
   ],
   "source": [
    "from scipy.stats import ttest_rel\n",
    "tstat,p = ttest_rel(x1,x2,alternative='two-sided')\n",
    "print('라이브러리 검정')\n",
    "print(f'검정통계량 {tstat}, 유의확률 {p}')"
   ]
  },
  {
   "cell_type": "markdown",
   "metadata": {},
   "source": [
    "표본 크기가 30이상인 경우에는 z분포와 t분포를 사용할 수 있다. "
   ]
  },
  {
   "cell_type": "markdown",
   "metadata": {},
   "source": [
    "#### 독립표본 모비율"
   ]
  },
  {
   "cell_type": "code",
   "execution_count": 46,
   "metadata": {},
   "outputs": [
    {
     "name": "stdout",
     "output_type": "stream",
     "text": [
      "추정\n",
      "점추정량 0.07999999999999996\n",
      "구간추정량(-0.01990819085386153, 0.17990819085386145)\n",
      "오차의 한계 0.09990819085386149\n"
     ]
    }
   ],
   "source": [
    "# 독립표본 모비율 차이의 추정\n",
    "n1 = 250 #캠페인 후의 인지도 (관심 있는 대상)\n",
    "p1 = 120/250\n",
    "n2 = 150 # 캠페인 전의 인지도 \n",
    "p2 = 60/150\n",
    "conf_a = 0.05\n",
    "\n",
    "from scipy.stats import norm\n",
    "d = p1 - p2\n",
    "conf_z = norm.ppf(1-conf_a/2)\n",
    "SE1 = np.sqrt(p1 * (1-p1)/n1 + p2*(1-p2)/n2) # 대표본 근사 분산을 사용한 SE\n",
    "ME1 = conf_z * SE1\n",
    "\n",
    "print(\"추정\")\n",
    "print(f\"점추정량 {d}\")\n",
    "print(f\"구간추정량{d-ME1,d+ME1}\")\n",
    "print(f\"오차의 한계 {ME1}\")"
   ]
  },
  {
   "cell_type": "code",
   "execution_count": 47,
   "metadata": {},
   "outputs": [
    {
     "name": "stdout",
     "output_type": "stream",
     "text": [
      "검정\n",
      "임계값 1.6448536269514722, 검정통계량 1.556997888323045\n",
      "유의수준 0.05, 유의 확률0.05973549338585049\n"
     ]
    }
   ],
   "source": [
    "# 독립표본 모비율 차이의 가설검정\n",
    "# H0 : 모비율의 차 = D0, H1 : 모비율의 차>D0 *캠페인 후의 인지도가 증가 여부를 검정\n",
    "test_a = 0.05\n",
    "d0 = 0\n",
    "pe = (n1*p1+n2*p2)/(n1+n2 ) # 합동표본비율\n",
    "SE2 = np.sqrt(pe*(1-pe) * (1/n1+1/n2)) # 합동 분산을 사용한 SE\n",
    "zstat = (d-d0 )/ SE2 # 검정통계량\n",
    "\n",
    "# 단측/ 양측 검정에 따른 유의확률과 임계값\n",
    "ways = 'one-right'\n",
    "if ways == 'two' : \n",
    "    sp = (1-norm.cdf(np.abs(zstat)))*2\n",
    "    cv = norm.ppf(1-test_a/2)\n",
    "    cv = f'+/- {cv}'\n",
    "elif ways == 'one-right':\n",
    "    sp = 1-norm.cdf(zstat)\n",
    "    cv = norm.ppf(1-test_a)\n",
    "    cv = f'{cv}'\n",
    "elif ways =='one-left':\n",
    "    sp = norm.cdf(zstat)\n",
    "    cv = norm.ppf(zstat)\n",
    "    cv = f\"{cv}\"\n",
    "print('검정')\n",
    "print(f'임계값 {cv}, 검정통계량 {zstat}')\n",
    "print(f'유의수준 {test_a}, 유의 확률{sp}')\n"
   ]
  },
  {
   "cell_type": "code",
   "execution_count": 52,
   "metadata": {},
   "outputs": [
    {
     "name": "stdout",
     "output_type": "stream",
     "text": [
      "추정\n",
      "점추정량 0.7636634318482576 \n",
      "구간추정량 (0.18968319421853008, 3.074504515515416)\n"
     ]
    }
   ],
   "source": [
    "# 모분산 비의 추정 - f분포\n",
    "import numpy as np\n",
    "from scipy.stats import f\n",
    "sample1 = [272,255,278,282,296,312,356,296,302,312]\n",
    "sample2 = [276,280,369,285,303,317,290,250,313,307]\n",
    "n1 = len(sample1)\n",
    "n2 = len(sample2)\n",
    "df1 = n1-1\n",
    "df2 = n2-1\n",
    "v1 = np.std(sample1,ddof=1)**2 # 표본분산 1\n",
    "v2 = np.std(sample2 ,ddof=1)**2 #표본분산 2\n",
    "conf_a = 0.05\n",
    "fstat = v1/v2\n",
    "f1 = f.ppf(conf_a/2,df2,df1)\n",
    "f2 = f.ppf(1-conf_a/2,df2,df1)\n",
    "CR1 = f1 * fstat\n",
    "CR2 = f2 * fstat\n",
    "\n",
    "print('추정')\n",
    "print(f'점추정량 {fstat} ')\n",
    "print(f'구간추정량 {CR1,CR2}')"
   ]
  },
  {
   "cell_type": "code",
   "execution_count": 53,
   "metadata": {},
   "outputs": [
    {
     "name": "stdout",
     "output_type": "stream",
     "text": [
      "검정\n",
      "임계값0.31457490615130795, 검정통계량 0.7636634318482576\n",
      "유의수준 0.05, 유의확률 0.3472305128853311\n"
     ]
    }
   ],
   "source": [
    "# 모분산 비의 가설 검정\n",
    "v0 = 1\n",
    "test_a = 0.05\n",
    "# H0: 모분산 1 = 모분산 2,  H1 : 모분산 < 모분산2\n",
    "# 단측/양측 검정에 따른 유의확률과 임계값\n",
    "ways = 'one-left' \n",
    "if ways =='two':\n",
    "    if f.cdf(fstat,df1,df2) < 0.5:\n",
    "        sp = (f.cdf(fstat,df1,df2))*2\n",
    "    else:\n",
    "        sp = (1-f.cdf(fstat,df1,df2))*2\n",
    "    cv1 = f.ppf(test_a/2,df1,df2)\n",
    "    cv2 = f.ppf(1-test_a/2,df1,df2)\n",
    "    cv = f'{cv1,cv2}'\n",
    "elif ways =='one-right':\n",
    "    sp = 1-f.cdf(fstat,df1,df2)\n",
    "    cv = f.ppf(1-test_a,df1,df2)\n",
    "    cv = f'{cv}'\n",
    "elif ways == 'one-left':\n",
    "    sp = f.cdf(fstat,df1,df2)\n",
    "    cv = f.ppf(test_a,df1,df2)\n",
    "    cv = f'{cv}'\n",
    "\n",
    "print('검정')\n",
    "print(f\"임계값{cv}, 검정통계량 {fstat}\")\n",
    "print(f\"유의수준 {test_a}, 유의확률 {sp}\")"
   ]
  },
  {
   "cell_type": "markdown",
   "metadata": {},
   "source": [
    "분산 분석\n",
    "\n",
    "가정 \n",
    "1. 정규성\n",
    "2. 등분산성"
   ]
  },
  {
   "cell_type": "code",
   "execution_count": 56,
   "metadata": {},
   "outputs": [
    {
     "name": "stdout",
     "output_type": "stream",
     "text": [
      "[1.76405235 0.40015721 0.97873798 2.2408932  1.86755799]\n",
      "shapiro : 0.992694081874749, p : 0.868936668277495\n",
      "fstest_normal 0.0582486387238324, p : 0.8667717341286251\n",
      "jarque_bera : 0.5969131759547712, p:0.7419624912434116\n"
     ]
    },
    {
     "data": {
      "image/png": "[encoded data removed]",
      "text/plain": [
       "<Figure size 1000x300 with 2 Axes>"
      ]
     },
     "metadata": {},
     "output_type": "display_data"
    }
   ],
   "source": [
    "# 정규성 검정\n",
    "# 정규성 만족하는 데이터 생성\n",
    "from scipy.stats import norm\n",
    "data = norm.rvs(size=100, random_state = 0 ) # 정규성을 만족하는 크기 100의 표본 생성\n",
    "print(data[:5])\n",
    "\n",
    "# 정규성 검정 \n",
    "from scipy.stats import shapiro, anderson, jarque_bera, kstest, zscore, probplot\n",
    "# H0 : 표본 모집단이 정규성을 만족한다, H1 : 표본 모집단이 정규성을 만족하지 않는다.\n",
    "\n",
    "#shapiro : 검정통계량, p-value를 반환\n",
    "sstat,p = shapiro(data)\n",
    "print(f'shapiro : {sstat}, p : {p}')\n",
    "\n",
    "# kstest(콜모고로프 스미르노프) : 검정통계량, p_value를 반환\n",
    "kstat, p = kstest(data, cdf= norm.cdf)\n",
    "print(f'fstest_normal {kstat}, p : {p}')\n",
    "\n",
    "#jarque_bera : 검정통계량, p_value, 왜도, 첨도를 반환\n",
    "jstat,p = jarque_bera(data)\n",
    "print(f'jarque_bera : {jstat}, p:{p}')\n",
    "\n",
    "# QQ plot and histogram\n",
    "import matplotlib.pyplot as plt\n",
    "zdata = zscore(data)\n",
    "fig, ax = plt.subplots(1,2,figsize=(10,3))\n",
    "\n",
    "# QQ plot : 데이터들이 대각선에 붙어 있을 수록 정규성을 만족하는 것으로 본다.\n",
    "(osm,odr),(slope,intercept,r) = probplot(zdata, plot=ax[0])\n",
    "ax[0].set_title('QQ plot')\n",
    "\n",
    "# histogram\n",
    "ax[1].hist(data)\n",
    "ax[1].set_title('histogram')\n",
    "plt.show()\n",
    "\n"
   ]
  },
  {
   "cell_type": "markdown",
   "metadata": {},
   "source": [
    "k 표본 등분산 검정(Levene)"
   ]
  },
  {
   "cell_type": "code",
   "execution_count": 76,
   "metadata": {},
   "outputs": [
    {
     "name": "stdout",
     "output_type": "stream",
     "text": [
      "수기검정\n",
      "오른쪽 검정의 임계값 5.096, 검정통계량 0.145\n",
      "유의수준 0.05,유의확률 0.867\n"
     ]
    }
   ],
   "source": [
    "# 표본 수가 동일한 levene 검정\n",
    "from pandas import DataFrame\n",
    "data = DataFrame({\"fac1\":[48,54,57,54,62],\"fac2\":[73,63,66,64,74],\"fac3\":[51,63,61,54,56]})\n",
    "test_a = 0.05\n",
    "\n",
    "# H0: 모든 그룹들의 모분산은 동일하다. H1 : 그룹들 중 적어도 한 그룹의 모분산이 동일하지 않다. \n",
    "\n",
    "# 수기 검정\n",
    "n1 = len(data['fac1'])\n",
    "n2 = len(data['fac2'])\n",
    "n3 = len(data['fac3'])\n",
    "N = n1+ n2+ n3 # 총 표본수\n",
    "k = data.shape[1] # 사료 그룹의 수(수준수)\n",
    "df1 = k-1 #모집단 자유도\n",
    "df2 = N-k # 오차 자유도\n",
    "df3 = N-1 # 전체 자유도\n",
    "\n",
    "means = np.array(data.mean(axis=0)) #모집단별 평균, 각 수준의 평균\n",
    "zij1 = np.abs(data['fac1']-means[0])\n",
    "zij2 = np.abs(data['fac2']-means[1])\n",
    "zij3 = np.abs(data['fac3']-means[2])\n",
    "zi1 = zij1.mean()\n",
    "zi2 = zij2.mean()\n",
    "zi3 = zij3.mean()\n",
    "# z = 전체 zij의 평균\n",
    "z = (zij1.sum() + zij2.sum() + zij3.sum() )/ ((len(zij1) +len(zij2) +len(zij3)) )\n",
    "\n",
    "F = (N-k )/ (k-1 ) * (n1 * (zi1-z)**2 + n2 * (zi2-z)**2 + n3 * (zi3-z)**2 ) / sum((zij1 - zi1)**2 + (zij2 - zi2)**2 + (zij3 - zi3 )**2)\n",
    "\n",
    "from scipy.stats import f\n",
    "cv = f.ppf(1-test_a/2,df1,df2) #cv보다 크면 기각\n",
    "sp = 1-f.cdf(F,df1,df2)\n",
    "\n",
    "print('수기검정')\n",
    "print(f'오른쪽 검정의 임계값 {cv:.3f}, 검정통계량 {F:.3f}')\n",
    "print(f\"유의수준 {test_a},유의확률 {sp:.3f}\")\n"
   ]
  },
  {
   "cell_type": "code",
   "execution_count": 79,
   "metadata": {},
   "outputs": [
    {
     "name": "stdout",
     "output_type": "stream",
     "text": [
      "라이브러리\n",
      "stat :0.1445783132530121, p:0.8668720489464368\n",
      "귀무가설을 기각시키지 않는다 -> 분산이 동일하다.\n"
     ]
    }
   ],
   "source": [
    "# 라이브러리 검정 : 표본 수가 같든지 다르든지 상관없다.\n",
    "from scipy.stats import levene\n",
    "lstat, p = levene(data['fac1'],data['fac2'],data['fac3'], center = 'mean')\n",
    "print(\"라이브러리\")\n",
    "print(f'stat :{lstat}, p:{p}')\n",
    "print(\"귀무가설을 기각시키지 않는다 -> 분산이 동일하다.\")"
   ]
  },
  {
   "cell_type": "code",
   "execution_count": 88,
   "metadata": {},
   "outputs": [
    {
     "name": "stdout",
     "output_type": "stream",
     "text": [
      "수기검정\n",
      "오른쪽 검정의 임계값 3.982 , 검정통계량0.096\n",
      "유의수준 0.05, 유의확률 0.909\n"
     ]
    }
   ],
   "source": [
    "# 표본수가 다른 levene검정 \n",
    "import pandas as pd\n",
    "data = [[36,41,42,49],[40,48,39,45,44],[35,37,42,34,32]]\n",
    "test_a = 0.05\n",
    "\n",
    "means = [] # 모집단별 평균\n",
    "N = 0 #표본 전체 개수\n",
    "k_sample_n = [] #모집단(수준)별 표본개수\n",
    "for d in data : \n",
    "    means.append(np.mean(d))\n",
    "    N += len(d)\n",
    "    k_sample_n.append(len(d))\n",
    "k_sample_n = np.array(k_sample_n)\n",
    "\n",
    "k = len(k_sample_n) #수준의 수\n",
    "n1 = k_sample_n[0]\n",
    "n2 = k_sample_n[1]\n",
    "n3 = k_sample_n[2]\n",
    "df1 = k-1 # 모집단 자유도\n",
    "df2 = N-k # 오차 자유도\n",
    "df3 = N-1 # 전체 자유도\n",
    "zij1 = np.abs(data[0]-means[0])\n",
    "zij2 = np.abs(data[1]-means[1])\n",
    "zij3 = np.abs(data[2]-means[2])\n",
    "zi1 = zij1.mean()\n",
    "zi2 = zij2.mean()\n",
    "zi3 = zij3.mean()\n",
    "# z= 전체 zij의 평균\n",
    "z = (zij1.sum() + zij2.sum() + zij3.sum()) / (len(zij1)+len(zij2)+len(zij3))\n",
    "\n",
    "F = (N-k)/ (k-1) * (n1 * (zi1-z)**2 + n2 * (zi2-z)**2 + n3 * (zi3-z)**2) / (sum((zij1-zi1)**2) + sum((zij2-zi2)**2) +sum((zij3-zi3)**2) )\n",
    "\n",
    "from scipy.stats import f\n",
    "cv = f.ppf(1-test_a , df1,df2) #cv 보다 크면 기각\n",
    "sp = 1-f.cdf(F,df1,df2)\n",
    "\n",
    "print('수기검정')\n",
    "print(f'오른쪽 검정의 임계값 {cv:.3f} , 검정통계량{F:.3f}')\n",
    "print(f\"유의수준 {test_a}, 유의확률 {sp:.3f}\")"
   ]
  },
  {
   "cell_type": "code",
   "execution_count": 90,
   "metadata": {},
   "outputs": [
    {
     "name": "stdout",
     "output_type": "stream",
     "text": [
      "stat 0.0957086391869001, p 0.9094771225962182\n",
      "귀무가설을 기각하지 않으므로 등분산성이 존재한다.\n"
     ]
    }
   ],
   "source": [
    "# 라이브러리 검정\n",
    "from scipy.stats import levene\n",
    "lstat , p = levene(data[0],data[1],data[2], center='mean')\n",
    "print(f\"stat {lstat}, p {p}\")\n",
    "print(\"귀무가설을 기각하지 않으므로 등분산성이 존재한다.\")"
   ]
  },
  {
   "cell_type": "markdown",
   "metadata": {},
   "source": [
    "k표본 등분산 검정(Bartlett)"
   ]
  },
  {
   "cell_type": "code",
   "execution_count": 93,
   "metadata": {},
   "outputs": [
    {
     "name": "stdout",
     "output_type": "stream",
     "text": [
      "라이브러리\n",
      "stat  :1.081646551034038, p: 0.5822686874393461\n"
     ]
    }
   ],
   "source": [
    "from scipy.stats import bartlett\n",
    "#정규성 샘플 생성\n",
    "data1  = norm.rvs(size=50, random_state= 0)\n",
    "data2  = norm.rvs(size=50, random_state= 1)\n",
    "data3  = norm.rvs(size=50, random_state= 2)\n",
    "\n",
    "bstat,p = bartlett(data1,data2,data3)\n",
    "print('라이브러리')\n",
    "print(f'stat  :{bstat}, p: {p}') \n",
    "print(\"등분산성이 존재한다. \")"
   ]
  },
  {
   "cell_type": "markdown",
   "metadata": {},
   "source": [
    "## 분산분석 - ANOVA\n",
    "\n",
    "- 정규성 검정\n",
    "- 등분산성 검정\n",
    "- 독립성 가정\n",
    "\n",
    "위의 가정들을 만족한다면 ANOVA를 적용할 수 있다. 만약 가정들을 만족하지 못한다면 비모수적 방법을 활용해야 한다."
   ]
  },
  {
   "cell_type": "markdown",
   "metadata": {},
   "source": [
    "등분산인 one-way ANOVA "
   ]
  },
  {
   "cell_type": "code",
   "execution_count": 94,
   "metadata": {},
   "outputs": [
    {
     "name": "stdout",
     "output_type": "stream",
     "text": [
      "데이터 확인    A0  A1  A2  A3\n",
      "0  76  82  79  81\n",
      "1  80  75  87  74\n",
      "2  78  83  88  76\n",
      "3  79  78  86  78\n",
      "4  83  85  84  73\n",
      "5  74  80  82  70\n"
     ]
    }
   ],
   "source": [
    "# one-way ANOVA (수준별 샘플 사이즈가 동일한 완적확률화계획법)\n",
    "## 각 수준의 모집단이 정규분포를 따르고 분산이 동일하다고 가정한다.\n",
    "data = DataFrame({\"A0\": [76,80,78,79,83,74],\n",
    "                  \"A1\": [82,75,83,78,85,80],\n",
    "                  \"A2\": [79,87,88,86,84,82],\n",
    "                  \"A3\": [81,74,76,78,73,70]})\n",
    "print(\"데이터 확인\", data)"
   ]
  },
  {
   "cell_type": "code",
   "execution_count": 97,
   "metadata": {},
   "outputs": [
    {
     "name": "stdout",
     "output_type": "stream",
     "text": [
      "수기 검정\n",
      "수준별 평균[78.33333333 80.5        84.33333333 75.33333333]\n",
      "수준별 표본의 분산 [ 9.86666667 13.1        11.46666667 15.06666667]\n",
      "자유도 3, 20\n"
     ]
    }
   ],
   "source": [
    "# H0 :  모든 모집단의 평균이 동일하다.\n",
    "# H1 :  모든 모집단의 평균이 동일한 것은 아니다.\n",
    "test_a = 0.05\n",
    "means = np.array(data.mean(axis=0)) # 모집단(수준)별 평균\n",
    "mu = np.mean(data.values) # 전체 평균\n",
    "Vs = np.array(data.std(axis=0, ddof=1) ** 2 ) # 모집단(수준)별 분산\n",
    "n = len(data.values.flatten()) # 표본 전체 개수\n",
    "k = data.shape[0] #모집단(수준)의 개수\n",
    "level = data.shape[1] # 모집단 별 표본 개수\n",
    "dfr = level -1 # 모집단(수준) 자유도\n",
    "dfe = n - dfr -1 # 오차 자유도 \n",
    "\n",
    "print(\"수기 검정\")\n",
    "print(f\"수준별 평균{means}\")\n",
    "print(f\"수준별 표본의 분산 {Vs}\")\n",
    "print(f\"자유도 {dfr}, {dfe}\")"
   ]
  },
  {
   "cell_type": "code",
   "execution_count": 98,
   "metadata": {},
   "outputs": [
    {
     "name": "stdout",
     "output_type": "stream",
     "text": [
      "SSTR :258.12500000000006 , SSE:247.5, SST : 505.625\n",
      "MSR :86.04166666666669, MSE: 12.375, F:6.952861952861954\n"
     ]
    }
   ],
   "source": [
    "SSTR = (k * (means - mu) **2).sum() # 처리제곱 :  처리 평균들과 전체 평균의 제곱합\n",
    "SSE = ((k-1) * Vs).sum() # 오차제곱 : 처리분산들과 오차 자유도를 곱한 합\n",
    "SST = ((data.values - mu)**2).sum() # SSTR + SSE\n",
    "MSR = SSTR/dfr\n",
    "MSE = SSE/dfe\n",
    "F = MSR / MSE\n",
    "print(f'SSTR :{SSTR} , SSE:{SSE}, SST : {SST}')\n",
    "print(f'MSR :{MSR}, MSE: {MSE}, F:{F}')"
   ]
  },
  {
   "cell_type": "code",
   "execution_count": 99,
   "metadata": {},
   "outputs": [
    {
     "name": "stdout",
     "output_type": "stream",
     "text": [
      "오른쪽 검정의 임계값 3.09839121214078, 검정통계량 6.952861952861954\n",
      "유의수준0.05,유의확률 0.002175486114794456 \n"
     ]
    }
   ],
   "source": [
    "from scipy.stats import f\n",
    "cv = f.ppf(1-test_a, dfr,dfe)\n",
    "sp = 1- f.cdf(F, dfr,dfe)\n",
    "print(f\"오른쪽 검정의 임계값 {cv}, 검정통계량 {F}\")\n",
    "print(f\"유의수준{test_a},유의확률 {sp} \")"
   ]
  },
  {
   "cell_type": "code",
   "execution_count": 104,
   "metadata": {},
   "outputs": [
    {
     "name": "stdout",
     "output_type": "stream",
     "text": [
      "라이브러리 검정\n",
      "stat : 6.952861952861954, p-value : 0.002175486114794491\n"
     ]
    }
   ],
   "source": [
    "print(\"라이브러리 검정\")\n",
    "from statsmodels.stats.oneway import anova_oneway\n",
    "oa = anova_oneway(data = data.melt()['value'], groups = data.melt()['variable'], use_var = 'equal')\n",
    "print(f\"stat : {oa.statistic}, p-value : {oa.pvalue}\")"
   ]
  },
  {
   "cell_type": "code",
   "execution_count": 108,
   "metadata": {},
   "outputs": [
    {
     "name": "stdout",
     "output_type": "stream",
     "text": [
      "data melt    variable  value\n",
      "0       A0     76\n",
      "1       A0     80\n",
      "2       A0     78\n"
     ]
    }
   ],
   "source": [
    "# 사후 검정 (정규성 0, 등분산 0, 샘플 사이즈 동일 0 - Tukey HSD)\n",
    "from statsmodels.sandbox.stats.multicomp import MultiComparison\n",
    "from scipy.stats import ttest_ind\n",
    "org_data = data.melt()\n",
    "print(\"data melt \", org_data.head(3))"
   ]
  },
  {
   "cell_type": "code",
   "execution_count": 114,
   "metadata": {},
   "outputs": [
    {
     "name": "stdout",
     "output_type": "stream",
     "text": [
      " Multiple Comparison of Means - Tukey HSD, FWER=0.05 \n",
      "=====================================================\n",
      "group1 group2 meandiff p-adj   lower    upper  reject\n",
      "-----------------------------------------------------\n",
      "    A0     A1   2.1667  0.713   -3.518  7.8513  False\n",
      "    A0     A2      6.0 0.0363   0.3153 11.6847   True\n",
      "    A0     A3     -3.0  0.469  -8.6847  2.6847  False\n",
      "    A1     A2   3.8333 0.2647  -1.8513   9.518  False\n",
      "    A1     A3  -5.1667 0.0831 -10.8513   0.518  False\n",
      "    A2     A3     -9.0 0.0014 -14.6847 -3.3153   True\n",
      "-----------------------------------------------------\n"
     ]
    },
    {
     "data": {
      "image/png": "[encoded data removed]",
      "text/plain": [
       "<Figure size 1000x600 with 1 Axes>"
      ]
     },
     "metadata": {},
     "output_type": "display_data"
    }
   ],
   "source": [
    "mc = MultiComparison(data = org_data['value'], groups = org_data['variable']).tukeyhsd(alpha=0.05)\n",
    "print(mc)\n",
    "\n",
    "mc.plot_simultaneous()\n",
    "plt.show()\n"
   ]
  },
  {
   "cell_type": "code",
   "execution_count": 121,
   "metadata": {},
   "outputs": [
    {
     "name": "stdout",
     "output_type": "stream",
     "text": [
      "데이터 확인\n",
      "      A0    A1    A2    A3\n",
      "0  81.0  65.0  72.0  89.0\n",
      "1  75.0  80.0  67.0  94.0\n",
      "2  69.0  73.0  62.0  79.0\n",
      "3  90.0  79.0  76.0  88.0\n",
      "4  72.0  81.0  80.0   NaN\n",
      "5  83.0  69.0   NaN   NaN\n"
     ]
    }
   ],
   "source": [
    "# one-way ANOVA (수준 별 샘플 사이즈가 다른 완전확률화계획법)\n",
    "## 각 수준의 모집단이 정규분포를 따르고 분산이 동일하다고 가정한다.\n",
    "data = [[81,75,69,90,72,83],[65,80,73,79,81,69],[72,67,62,76,80],[89,94,79,88]]\n",
    "data_df = DataFrame(data, index=['A%d' %i for i in range(len(data))]).T\n",
    "data_1d = sum(data,[]) # 1d list로 정렬\n",
    "test_a = 0.05\n",
    "print('데이터 확인\\n',data_df)"
   ]
  },
  {
   "cell_type": "code",
   "execution_count": 122,
   "metadata": {},
   "outputs": [
    {
     "name": "stdout",
     "output_type": "stream",
     "text": [
      " 검정 \n",
      "수준별 평균 [78.33333333333333, 74.5, 71.4, 87.5]\n",
      "수준별 표본의 분산 [60.66666667 43.1        50.8        39.        ]\n",
      "자유도 3 , 17\n"
     ]
    }
   ],
   "source": [
    "# H0 :  모든 모집단의 평균이 동일하다.\n",
    "# H1 : 모든 모집단 평균이 동일한 것은 아니다.\n",
    "means = [] # 모집단(수준)별 평균\n",
    "Vs = [] # 모집단(수준)별 분산\n",
    "n = 0 # 표본 전체 개수\n",
    "k = [] # 모집단(수준) 별 표본개수\n",
    "for d in data:\n",
    "    means.append(np.mean(d))\n",
    "    Vs.append(np.std(d,ddof=1)**2)\n",
    "    n+=len(d)\n",
    "    k.append(len(d))\n",
    "mu = np.mean(data_1d) #전체 평균\n",
    "Vs = np.array(Vs)\n",
    "k = np.array(k)\n",
    "dfr = len(k) -1 # 모집단 자유도\n",
    "dfe = n - 1 -dfr # 오차 자유도\n",
    "print(\" 검정 \")\n",
    "print(f\"수준별 평균 {means}\")\n",
    "print(f\"수준별 표본의 분산 {Vs}\")\n",
    "print(f\"자유도 {dfr} , {dfe}\")"
   ]
  },
  {
   "cell_type": "code",
   "execution_count": 124,
   "metadata": {},
   "outputs": [
    {
     "name": "stdout",
     "output_type": "stream",
     "text": [
      "SSTR : 643.633333333333, SSE: 839.0333333333333, SST: 1482.6666666666665\n",
      "MSR: 214.54444444444434, MSE: 49.35490196078431, F : 4.346973368823909\n"
     ]
    }
   ],
   "source": [
    "SSTR = (k * (means - mu)**2).sum() # 처리제곱 : 처리 평균들과 전체 평균의 오차제곱합\n",
    "SSE = ((k-1) * Vs).sum() # 오차 제곱: 처리분산들과 오차 자유도를 곱한 합\n",
    "SST = ((data_1d - mu)**2 ).sum() # SSTR +SSE\n",
    "MSR = SSTR/dfr\n",
    "MSE = SSE/dfe\n",
    "F = MSR/MSE\n",
    "print(f\"SSTR : {SSTR}, SSE: {SSE}, SST: {SST}\") \n",
    "print(f\"MSR: {MSR}, MSE: {MSE}, F : {F}\")"
   ]
  },
  {
   "cell_type": "code",
   "execution_count": 125,
   "metadata": {},
   "outputs": [
    {
     "name": "stdout",
     "output_type": "stream",
     "text": [
      "오른쪽 검정의 임계값 3.1967768409433432, 검정 통계량 4.346973368823909\n",
      "유의수준 0.05, 유의확률0.01905363998349252\n"
     ]
    }
   ],
   "source": [
    "from scipy.stats import f\n",
    "cv = f.ppf(1-test_a, dfr,dfe)\n",
    "sp = 1-f.cdf(F,dfr,dfe)\n",
    "print(f\"오른쪽 검정의 임계값 {cv}, 검정 통계량 {F}\")\n",
    "print(f\"유의수준 {test_a}, 유의확률{sp}\")"
   ]
  },
  {
   "cell_type": "code",
   "execution_count": 127,
   "metadata": {},
   "outputs": [
    {
     "name": "stdout",
     "output_type": "stream",
     "text": [
      "라이브러리 검정\n",
      "stat 4.346973368823913, p-value 0.019053639983492472\n"
     ]
    }
   ],
   "source": [
    "print('라이브러리 검정')\n",
    "from scipy.stats import f_oneway\n",
    "oa = f_oneway(*data)\n",
    "print(f'stat {oa.statistic}, p-value {oa.pvalue}')\n"
   ]
  },
  {
   "cell_type": "code",
   "execution_count": 128,
   "metadata": {},
   "outputs": [
    {
     "name": "stdout",
     "output_type": "stream",
     "text": [
      "라이브러리 검정\n",
      "data_df.melt\n",
      "   variable  value\n",
      "0       A0   81.0\n",
      "1       A0   75.0\n",
      "2       A0   69.0\n"
     ]
    }
   ],
   "source": [
    "# 사후 검정 (정규성 0, 등분산성0, 샘플사이즈 동일 x - bonferroni)\n",
    "print('라이브러리 검정')\n",
    "from statsmodels.sandbox.stats.multicomp import MultiComparison\n",
    "from scipy.stats import ttest_ind\n",
    "org_data = data_df.melt().dropna()\n",
    "print('data_df.melt\\n', org_data.head(3))"
   ]
  },
  {
   "cell_type": "code",
   "execution_count": 129,
   "metadata": {},
   "outputs": [
    {
     "name": "stdout",
     "output_type": "stream",
     "text": [
      "Test Multiple Comparison ttest_ind \n",
      "FWER=0.05 method=bonf\n",
      "alphacSidak=0.01, alphacBonf=0.008\n",
      "=============================================\n",
      "group1 group2   stat   pval  pval_corr reject\n",
      "---------------------------------------------\n",
      "    A0     A1  0.9218 0.3783       1.0  False\n",
      "    A0     A2  1.5262 0.1613    0.9678  False\n",
      "    A0     A3 -1.9591 0.0858    0.5146  False\n",
      "    A1     A2  0.7506 0.4721       1.0  False\n",
      "    A1     A3 -3.1239 0.0141    0.0849  False\n",
      "    A2     A3 -3.5486 0.0094    0.0562  False\n",
      "---------------------------------------------\n"
     ]
    }
   ],
   "source": [
    "mc = MultiComparison(data = org_data['value'], groups = org_data['variable']).allpairtest(testfunc = ttest_ind, method='bonf')\n",
    "print(mc[0])"
   ]
  },
  {
   "cell_type": "markdown",
   "metadata": {},
   "source": [
    "이분산인 one-way ANOVA"
   ]
  },
  {
   "cell_type": "code",
   "execution_count": 130,
   "metadata": {},
   "outputs": [
    {
     "name": "stdout",
     "output_type": "stream",
     "text": [
      "   A1  A2  A3  A4\n",
      "0  76  82  79  81\n",
      "1  80  75  87  74\n",
      "2  78  83  88  76\n",
      "3  79  78  86  78\n",
      "4  83  85  84  73\n",
      "5  74  80  82  70\n"
     ]
    }
   ],
   "source": [
    "# 파라미터 use_var를 다르게 설정함으로써 다양한 분산분석이 가능핟.\n",
    "# 'equal' : standard anova, 'unequal' : Welch anova, 'bf' : brown-forsythe\n",
    "data = DataFrame({\"A1\":[76,80,78,79,83,74], \"A2\":[82,75,83,78,85,80],\"A3\":[79,87,88,86,84,82],\"A4\":[81,74,76,78,73,70] })\n",
    "print(data)"
   ]
  },
  {
   "cell_type": "code",
   "execution_count": 133,
   "metadata": {},
   "outputs": [
    {
     "name": "stdout",
     "output_type": "stream",
     "text": [
      "welch's one-way ANova\n",
      "stat : 6.01934099553306, p : 0.010985900770272991\n"
     ]
    }
   ],
   "source": [
    "# Welch's one-way ANOVA\n",
    "from statsmodels.stats.oneway import anova_oneway\n",
    "print(\"welch's one-way ANova\")\n",
    "welch = anova_oneway(data=data.melt()['value'],groups = data.melt()['variable'], use_var='unequal')\n",
    "print(f\"stat : {welch.statistic}, p : {welch.pvalue}\")"
   ]
  },
  {
   "cell_type": "code",
   "execution_count": 135,
   "metadata": {},
   "outputs": [
    {
     "name": "stdout",
     "output_type": "stream",
     "text": [
      "brown forsythe one way ANOVA\n",
      "stat : 6.952861952861954, p_value :0.002354180403457211\n"
     ]
    }
   ],
   "source": [
    "# Brown -  Forsythe one-way ANOVA\n",
    "print('brown forsythe one way ANOVA')\n",
    "bf = anova_oneway(data=data.melt()['value'], groups=data.melt()['variable'], use_var='bf')\n",
    "print(f\"stat : {bf.statistic}, p_value :{bf.pvalue}\")"
   ]
  },
  {
   "cell_type": "code",
   "execution_count": 142,
   "metadata": {},
   "outputs": [
    {
     "name": "stdout",
     "output_type": "stream",
     "text": [
      "    A   B    mean(A)    mean(B)      diff        se         T        df  \\\n",
      "0  A1  A2  78.333333  80.500000 -2.166667  1.956471 -1.107436  9.805651   \n",
      "1  A1  A3  78.333333  84.333333 -6.000000  1.885618 -3.181981  9.944065   \n",
      "2  A1  A4  78.333333  75.333333  3.000000  2.038518  1.471657  9.583173   \n",
      "3  A2  A3  80.500000  84.333333 -3.833333  2.023473 -1.894432  9.955991   \n",
      "4  A2  A4  80.500000  75.333333  5.166667  2.166667  2.384615  9.951485   \n",
      "5  A3  A4  84.333333  75.333333  9.000000  2.102908  4.279788  9.819241   \n",
      "\n",
      "       pval    hedges  \n",
      "0  0.693488 -0.590196  \n",
      "1  0.041365 -1.695801  \n",
      "2  0.488889  0.784303  \n",
      "3  0.289721 -1.009616  \n",
      "4  0.143511  1.270854  \n",
      "5  0.007620  2.280865  \n"
     ]
    }
   ],
   "source": [
    "# 사후 검정 (정규성 0, 등분산 x - gamesHowell)\n",
    "from pingouin import pairwise_gameshowell\n",
    "org_data = data.melt()\n",
    "gw = pairwise_gameshowell(dv='value', between='variable', data=org_data)\n",
    "print(gw)"
   ]
  },
  {
   "cell_type": "markdown",
   "metadata": {},
   "source": [
    "등분산인 two-way ANOVA (모수인자 - 모수인자)"
   ]
  },
  {
   "cell_type": "code",
   "execution_count": 151,
   "metadata": {},
   "outputs": [
    {
     "name": "stdout",
     "output_type": "stream",
     "text": [
      "B    1    2    3     4\n",
      "A                     \n",
      "1  [4]  [5]  [7]   [8]\n",
      "2  [3]  [7]  [8]  [10]\n",
      "3  [5]  [6]  [9]  [12]\n"
     ]
    }
   ],
   "source": [
    "# 반복이 없는 이원배치 분산분석 : 반복이 없으므로 교호 작용 효과는 검출할 수 없다.\n",
    "# A, B 모두 모수인자\n",
    "import pandas as pd \n",
    "data = pd.DataFrame({\"A\":[1,2,3,1,2,3,1,2,3,1,2,3],\"B\":[1,1,1,2,2,2,3,3,3,4,4,4], \"Y\":[4,3,5,5,7,6,7,8,9,8,10,12]})\n",
    "print(pd.crosstab(data['A'],data['B'], values=data['Y'], aggfunc=list))"
   ]
  },
  {
   "cell_type": "code",
   "execution_count": 157,
   "metadata": {},
   "outputs": [
    {
     "name": "stdout",
     "output_type": "stream",
     "text": [
      "수기 검정\n",
      "ANOVA Table\n",
      "   요인  DF    SS    MS     F        PV\n",
      "0  A   2   8.0   4.0   4.0  0.078717\n",
      "1  B   3  60.0  20.0  20.0  0.001586\n",
      "2  E   6   6.0   1.0    없음        없음\n"
     ]
    }
   ],
   "source": [
    "n = len(data['Y'])\n",
    "a = len(data['A'].value_counts())\n",
    "b = len(data['B'].value_counts())\n",
    "dfa = a-1\n",
    "dfb = b-1\n",
    "dfe = dfa* dfb\n",
    "y_mean = data['Y'].mean() # 전체 데이터의 평균\n",
    "yi_mean = data.groupby('A').mean()['Y'].values  # 열평균, 인자 A별 평균\n",
    "yj_mean = data.groupby('B').mean()['Y'].values # 행평균, 인자 b별 평균\n",
    "SST = sum((data['Y'] - y_mean)**2)\n",
    "SSA = sum((yi_mean - y_mean)**2) * b\n",
    "SSB = sum((yj_mean - y_mean)**2) * a\n",
    "SSE = 0 # 오차 제곱합\n",
    "yij_data = data['Y'].values.reshape(-1,a) # 재배열한 raw_data\n",
    "for i in range(a): # 인자 A\n",
    "    for j in range(b): # 인자 B\n",
    "        SSE += (yij_data[j,i]- yi_mean[i]- yj_mean[j] + y_mean)**2\n",
    "MSA = SSA / dfa\n",
    "MSB = SSB / dfb \n",
    "MSE = SSE / dfe\n",
    "\n",
    "from scipy.stats import f\n",
    "atable1 = pd.DataFrame({\"요인\":['A','B','E'], \"DF\":[dfa,dfb,dfe], \"SS\":[SSA,SSB,SSE],\"MS\":[MSA,MSB,MSE],\"F\":[MSA/MSE,MSB/MSE,'없음'],'PV':[1-f.cdf(MSA/MSE, dfa, dfe),1-f.cdf(MSB/MSE, dfb,dfe),'없음']})\n",
    "\n",
    "print(\"수기 검정\")\n",
    "print(\"ANOVA Table\\n\", atable1)\n"
   ]
  },
  {
   "cell_type": "code",
   "execution_count": 158,
   "metadata": {},
   "outputs": [
    {
     "name": "stdout",
     "output_type": "stream",
     "text": [
      "라이브러리 검정\n",
      "           df  sum_sq  mean_sq     F    PR(>F)\n",
      "C(A)      2.0     8.0      4.0   4.0  0.078717\n",
      "C(B)      3.0    60.0     20.0  20.0  0.001586\n",
      "Residual  6.0     6.0      1.0   NaN       NaN\n"
     ]
    }
   ],
   "source": [
    "print(\"라이브러리 검정\")\n",
    "from statsmodels.formula.api import ols\n",
    "from statsmodels.stats.anova import anova_lm \n",
    "model = ols(\"Y~C(A)+C(B)\", data=data).fit()\n",
    "atable2 = anova_lm(model)\n",
    "print(atable2)\n",
    "##A 그룹간의 차이는 없고, B 그룹간의 차이가 있는 것으로 나타났다."
   ]
  },
  {
   "cell_type": "code",
   "execution_count": 161,
   "metadata": {},
   "outputs": [
    {
     "name": "stdout",
     "output_type": "stream",
     "text": [
      "B             1             2             3             4\n",
      "A                                                        \n",
      "1  [64, 66, 70]  [65, 63, 58]  [59, 68, 65]  [58, 50, 49]\n",
      "2  [72, 81, 64]  [57, 43, 52]  [66, 71, 59]  [57, 61, 53]\n",
      "3  [74, 51, 65]  [47, 58, 67]  [58, 45, 42]  [53, 59, 38]\n"
     ]
    }
   ],
   "source": [
    "# 반복이 있는 이원배치 분산분석\n",
    "## A,B 모두 모수인자\n",
    "data = DataFrame({\"A\":[1,1,1,2,2,2,3,3,3, 1,1,1,2,2,2,3,3,3, 1,1,1,2,2,2,3,3,3, 1,1,1,2,2,2,3,3,3],\n",
    "                  \"B\":[1,1,1,1,1,1,1,1,1, 2,2,2,2,2,2,2,2,2, 3,3,3,3,3,3,3,3,3, 4,4,4,4,4,4,4,4,4],\n",
    "                  \"Y\":[64,66,70,72,81,64,74,51,65,65,63,58,57,43,52,47,58,67,59,68,65,66,71,59,58,45,42,58,50,49,57,61,53,53,59,38]})\n",
    "print(pd.crosstab(data['A'],data['B'],values = data['Y'], aggfunc=list))"
   ]
  },
  {
   "cell_type": "code",
   "execution_count": 163,
   "metadata": {},
   "outputs": [
    {
     "name": "stdout",
     "output_type": "stream",
     "text": [
      "    요인  DF           SS          ME         F        PV\n",
      "0    A   2   342.388889  171.194444    3.0815  0.064393\n",
      "1    B   3  1002.888889  334.296296  6.017333  0.003307\n",
      "2  AxB   6   588.944444   98.157407  1.766833  0.148795\n",
      "3    E  24  1333.333333   55.555556        없음        없음\n"
     ]
    }
   ],
   "source": [
    "n = len(data['Y'])\n",
    "a = len(data['A'].value_counts()) # 인자 A의 수준 개수\n",
    "b = len(data['B'].value_counts()) # 인자 B의 수준 개수\n",
    "r = data.groupby(['A','B']).count().iloc[0,0] # 동일한 인자 A,B 조건 하 반복 실험횟수\n",
    "dfa = a-1 \n",
    "dfab = dfa * dfb\n",
    "dfe = n -a * b\n",
    "\n",
    "y_mean = data['Y'].mean() # 전체 데이터의 평균\n",
    "yi_mean =data.groupby('A').mean()['Y'].values # 열평균, 인자 A별 평균\n",
    "yj_mean = data.groupby('B').mean()['Y'].values # 행평균, 인자 B별 평균 \n",
    "yij_mean = data.groupby(['B','A']).mean().values.flatten().reshape(-1,a) #인자 A-B 조합별 데이터 평균\n",
    "\n",
    "SST = sum((data['Y']- y_mean)**2) #전체 제곱합\n",
    "SSA = sum((yi_mean - y_mean)**2) * b * r # A 처리제곱합\n",
    "SSB = sum((yj_mean - y_mean)**2) * a * r # B 처리 제곱합\n",
    "\n",
    "ssab = 0 \n",
    "for i in range(a): #인자 A(열)\n",
    "    for j in range(b): # 인자 B(god)\n",
    "        ssab += (yij_mean[j,i] - yi_mean[i] - yj_mean[j] + y_mean) ** 2\n",
    "SSAB = ssab *r #교호작용 제곱합\n",
    "SSE = 0 # 오차 제곱합\n",
    "yij_data = data['Y'].values.reshape(-1,a,r) #재배열한 raw data\n",
    "for i in range(a): #인자 A\n",
    "    for j in range(b): #인자 B\n",
    "        SSE += sum((yij_data[j,i] - yij_mean[j,i])**2)\n",
    "\n",
    "MSA = SSA/dfa\n",
    "MSB = SSB/dfb\n",
    "MSAB = SSAB /dfab\n",
    "MSE = SSE /dfe\n",
    "\n",
    "from scipy.stats import f\n",
    "atable1 = DataFrame({\"요인\":['A','B','AxB','E'], \"DF\": [dfa,dfb,dfab,dfe], \"SS\": [SSA,SSB,SSAB,SSE], \"ME\":[MSA,MSB,MSAB,MSE],\"F\":[MSA/MSE, MSB/MSE, MSAB/MSE,'없음'],'PV':[1-f.cdf(MSA/MSE,dfa,dfe),1-f.cdf(MSB/MSE,dfb,dfe),1-f.cdf(MSAB/MSE,dfab,dfe),'없음']})\n",
    "print(atable1)"
   ]
  },
  {
   "cell_type": "code",
   "execution_count": 164,
   "metadata": {},
   "outputs": [
    {
     "name": "stdout",
     "output_type": "stream",
     "text": [
      "  요인  DF           SS          MS         F        PV\n",
      "0  A   2   342.388889  171.194444  2.671744  0.085542\n",
      "1  B   3  1002.888889  334.296296   5.21719  0.005102\n",
      "2  E  30  1922.277778   64.075926        없음        없음\n"
     ]
    }
   ],
   "source": [
    "pooled_SSE = SSAB+SSE\n",
    "pooled_dfe = dfab+ dfe\n",
    "pooled_MSE = pooled_SSE / pooled_dfe\n",
    "atable2 = pd.DataFrame({\"요인\":['A','B','E'], \"DF\":[dfa,dfb,pooled_dfe], \"SS\":[SSA,SSB,pooled_SSE],\n",
    "                       \"MS\":[MSA,MSB,pooled_MSE],\"F\":[MSA/pooled_MSE, MSB/pooled_MSE,'없음'],\n",
    "                       \"PV\":[1-f.cdf(MSA/pooled_MSE,dfa,pooled_dfe), 1-f.cdf(MSB/pooled_MSE,dfb,pooled_dfe),'없음']})\n",
    "print(atable2)"
   ]
  },
  {
   "cell_type": "code",
   "execution_count": 167,
   "metadata": {},
   "outputs": [
    {
     "name": "stdout",
     "output_type": "stream",
     "text": [
      "라이브러리 검정\n",
      "             df       sum_sq     mean_sq         F    PR(>F)\n",
      "C(A)        2.0   342.388889  171.194444  3.081500  0.064393\n",
      "C(B)        3.0  1002.888889  334.296296  6.017333  0.003307\n",
      "C(A):C(B)   6.0   588.944444   98.157407  1.766833  0.148795\n",
      "Residual   24.0  1333.333333   55.555556       NaN       NaN\n"
     ]
    }
   ],
   "source": [
    "print('라이브러리 검정')\n",
    "from statsmodels.formula.api import ols\n",
    "from statsmodels.stats.anova import anova_lm\n",
    "\n",
    "model = ols(\"Y~C(A)+C(B)+C(A):C(B)\", data=data).fit()\n",
    "atable3 = anova_lm(model)\n",
    "print(atable3)\n",
    "# 유의수준 0.05 기준으로 A와 B의 교호작용이 유의하지 않은 것으로 확인함"
   ]
  },
  {
   "cell_type": "code",
   "execution_count": 168,
   "metadata": {},
   "outputs": [
    {
     "name": "stdout",
     "output_type": "stream",
     "text": [
      "            df       sum_sq     mean_sq         F    PR(>F)\n",
      "C(A)       2.0   342.388889  171.194444  2.671744  0.085542\n",
      "C(B)       3.0  1002.888889  334.296296  5.217190  0.005102\n",
      "Residual  30.0  1922.277778   64.075926       NaN       NaN\n"
     ]
    }
   ],
   "source": [
    "model = ols(\"Y~C(A)+C(B)\", data=data).fit()\n",
    "atable4 = anova_lm(model)\n",
    "print(atable4) #풀링 후 주효과 확인\n",
    "## 유의 수준 0.05 기준으로 B는 주효과가 있는 것으로 확인함"
   ]
  },
  {
   "cell_type": "markdown",
   "metadata": {},
   "source": [
    "등분산 two-way anova (모수인자- 변량인자)"
   ]
  },
  {
   "cell_type": "code",
   "execution_count": 170,
   "metadata": {},
   "outputs": [
    {
     "name": "stdout",
     "output_type": "stream",
     "text": [
      "B    1    2    3     4\n",
      "A                     \n",
      "1  [4]  [5]  [7]   [8]\n",
      "2  [3]  [7]  [8]  [10]\n",
      "3  [5]  [6]  [9]  [12]\n"
     ]
    }
   ],
   "source": [
    "# 반복이 없는 경우 : 난괴법 혹은 확률화블럭계획법(RBD, randomized block design)\n",
    "## A가 모수인자, B가 변량인자\n",
    "data = DataFrame({\"A\":[1,2,3,1,2,3,1,2,3,1,2,3],\n",
    "                 \"B\":[1,1,1,2,2,2,3,3,3,4,4,4],\n",
    "                 \"Y\":[4,3,5,5,7,6,7,8,9,8,10,12]})\n",
    "\n",
    "print(pd.crosstab(data['A'],data['B'],values = data['Y'], aggfunc=list))"
   ]
  },
  {
   "cell_type": "code",
   "execution_count": 172,
   "metadata": {},
   "outputs": [
    {
     "name": "stdout",
     "output_type": "stream",
     "text": [
      "검정\n",
      "  요인  DF    SS    MS     F        PV\n",
      "0  A   2   8.0   4.0   4.0  0.078717\n",
      "1  B   3  60.0  20.0  20.0  0.001586\n",
      "2  C   6   6.0   1.0    없음        없음\n",
      "변량의 분산 추정치 6.333333333333333\n"
     ]
    }
   ],
   "source": [
    "n = len(data['Y'])\n",
    "a = len(data['A'].value_counts()) # 모수인자 A의 수준 개수\n",
    "b = len(data['B'].value_counts()) # 모수인자 B의 수준 개수 \n",
    "dfa = a-1\n",
    "dfb = b-1 \n",
    "dfe = dfa*dfb\n",
    "y_mean = data['Y'].mean() # 전체 데이터의 평균\n",
    "yi_mean = data.groupby('A').mean()['Y'].values # 열평균, 인자 A별 평균\n",
    "yj_mean = data.groupby('B').mean()['Y'].values # 행평균, 인자 B별 평균\n",
    "SST = sum((data['Y']-y_mean)**2)\n",
    "SSA = sum((yi_mean - y_mean)**2) * b\n",
    "SSB = sum((yj_mean - y_mean)**2) * a\n",
    "SSE = 0\n",
    "yij_data = data['Y'].values.reshape(-1,a) # 재배열한 raw data\n",
    "for i in range(a): #인자 A\n",
    "    for j in range(b): # 인자 B\n",
    "        SSE += (yij_data[j,i] - yi_mean[i] - yj_mean[j] + y_mean)**2\n",
    "MSA = SSA/dfa\n",
    "MSB = SSB/dfb\n",
    "MSE = SSE/dfe\n",
    "\n",
    "from scipy.stats import f\n",
    "atable1 = DataFrame({\"요인\":[\"A\",\"B\",\"C\"], \"DF\":[dfa,dfb,dfe],\"SS\":[SSA,SSB,SSE],\n",
    "                     \"MS\":[MSA,MSB,MSE], \"F\":[MSA/MSE, MSB/MSE, '없음'],\"PV\":[1-f.cdf(MSA/MSE, dfa,dfe), 1-f.cdf(MSB/MSE,dfb,dfe), '없음']})\n",
    "\n",
    "print(\"검정\")\n",
    "print(atable1)\n",
    "print(f\"변량의 분산 추정치 {(MSB-MSE)/a}\")"
   ]
  },
  {
   "cell_type": "code",
   "execution_count": 173,
   "metadata": {},
   "outputs": [
    {
     "name": "stdout",
     "output_type": "stream",
     "text": [
      "라이브러리 \n",
      "           df  sum_sq  mean_sq     F    PR(>F)\n",
      "C(A)      2.0     8.0      4.0   4.0  0.078717\n",
      "C(B)      3.0    60.0     20.0  20.0  0.001586\n",
      "Residual  6.0     6.0      1.0   NaN       NaN\n"
     ]
    }
   ],
   "source": [
    "print('라이브러리 ')\n",
    "from statsmodels.formula.api import ols\n",
    "from statsmodels.stats.anova import anova_lm\n",
    "model = ols(\"Y~C(A)+C(B)\",data=data).fit()\n",
    "atable2 = anova_lm(model)\n",
    "print(atable2)"
   ]
  },
  {
   "cell_type": "code",
   "execution_count": 174,
   "metadata": {},
   "outputs": [
    {
     "name": "stdout",
     "output_type": "stream",
     "text": [
      "B             1             2             3             4\n",
      "A                                                        \n",
      "1  [64, 66, 70]  [65, 63, 58]  [59, 68, 65]  [58, 50, 49]\n",
      "2  [72, 81, 64]  [57, 43, 52]  [66, 71, 59]  [57, 61, 53]\n",
      "3  [74, 51, 65]  [47, 58, 67]  [58, 45, 42]  [53, 59, 38]\n"
     ]
    }
   ],
   "source": [
    "# 반복이 있는 경우 : 이원배치 혼합모형(mixed model)\n",
    "## A가 모수인자, B가 변량인자\n",
    "data=pd.DataFrame({\"A\":[1,1,1,2,2,2,3,3,3, 1,1,1,2,2,2,3,3,3, 1,1,1,2,2,2,3,3,3, 1,1,1,2,2,2,3,3,3],\n",
    "                   \"B\":[1,1,1,1,1,1,1,1,1, 2,2,2,2,2,2,2,2,2, 3,3,3,3,3,3,3,3,3, 4,4,4,4,4,4,4,4,4],\n",
    "                   \"Y\":[64,66,70,72,81,64,74,51,65,65,63,58,57,43,52,47,58,67,59,68,65,66,71,59,58,45,42,58,50,49,57,61,53,53,59,38] })\n",
    "print(pd.crosstab(data['A'],data['B'],values=data['Y'], aggfunc=list))"
   ]
  },
  {
   "cell_type": "code",
   "execution_count": 177,
   "metadata": {},
   "outputs": [
    {
     "name": "stdout",
     "output_type": "stream",
     "text": [
      "검정\n",
      "    요인  DF           SS          MS         F\n",
      "0    A   2   342.388889  171.194444  1.744081\n",
      "1    B   3  1002.888889  334.296296  6.017333\n",
      "2  AxB   6   588.944444   98.157407  1.766833\n",
      "3    E  24  1333.333333   55.555556        없음\n",
      "A-B 교호작용 검정 1.7668333333333335, p-value: 0.14879491702684822\n",
      "b 변량의 분산 추정 30.971193415637842\n"
     ]
    }
   ],
   "source": [
    "n = len(data['Y'])\n",
    "a = len(data['A'].value_counts())\n",
    "b = len(data['B'].value_counts())\n",
    "r = data.groupby(['A','B']).count().iloc[0,0] # 동일한 인자 a,b 조건 하 반복 횟수\n",
    "dfa = a-1\n",
    "dfb = b-1 \n",
    "dfab = dfa* dfb\n",
    "dfe = n-a*b\n",
    "\n",
    "y_mean = data['Y'].mean()  #전체 데이터의 평균\n",
    "yi_mean = data.groupby('A').mean()['Y'].values \n",
    "yj_mean = data.groupby('B').mean()['Y'].values\n",
    "yij_mean = data.groupby(['B','A']).mean().values.flatten().reshape(-1,a) # 인자 A-B 조합별 데이터 평균\n",
    "\n",
    "SST = sum((data['Y'] - y_mean)**2 ) #전체 데이터의 평균\n",
    "SSA = sum((yi_mean - y_mean)**2)* b *r #A 처리제곱합\n",
    "SSB = sum((yj_mean - y_mean)**2)* a * r #B 처리 제곱합\n",
    "ssab = 0 \n",
    "for i in range(a):\n",
    "    for j in range(b): \n",
    "        ssab += (yij_mean[j,i] - yi_mean[i] - yj_mean[j] + y_mean)**2\n",
    "SSAB = ssab * r # 교호작용 제곱합\n",
    "SSE = 0\n",
    "yij_data = data['Y'].values.reshape(-1,a,r) # 재배열한 raw data\n",
    "for i in range(a): \n",
    "    for j in range(b):\n",
    "        SSE += sum((yij_data[j,i] - yij_mean[j,i])**2)\n",
    "MSA = SSA / dfa\n",
    "MSB = SSB / dfb\n",
    "MSAB = SSAB /dfab\n",
    "MSE = SSE  / dfe\n",
    "\n",
    "atable1 = DataFrame({\"요인\":['A','B','AxB','E'], \"DF\":[dfa,dfb,dfab,dfe], \"SS\":[SSA,SSB,SSAB,SSE],\"MS\":[MSA,MSB,MSAB,MSE],\n",
    "                    \"F\":[MSA/MSAB, MSB/MSE, MSAB/MSE,'없음']})\n",
    "\n",
    "from  scipy.stats import f\n",
    "print(\"검정\")\n",
    "print(f\"{atable1}\")\n",
    "print(f\"A-B 교호작용 검정 {MSAB/MSE}, p-value: {1-f.cdf(MSAB/MSE, dfab,dfe)}\")\n",
    "print(f\"b 변량의 분산 추정 {(MSB-MSE)/(a*r)}\")"
   ]
  },
  {
   "cell_type": "code",
   "execution_count": 180,
   "metadata": {},
   "outputs": [
    {
     "name": "stdout",
     "output_type": "stream",
     "text": [
      "pooling 후, ANOVA table    요인  DF      SS     MS         F\n",
      "0  A   2   342.4  171.2  2.671744\n",
      "1  B   3  1002.9  334.3   5.21719\n",
      "2  E  30  1922.3   64.1        없음\n",
      "A 주효과 검정 2.6717435912256877, p-value 0.0855416973347689\n"
     ]
    }
   ],
   "source": [
    "pooled_SSE = SSAB+SSE\n",
    "pooled_dfe = dfab + dfe\n",
    "pooled_MSE = pooled_SSE / pooled_dfe\n",
    "\n",
    "atable2 = DataFrame({\"요인\":[\"A\",\"B\",\"E\"], \"DF\":[dfa,dfb,pooled_dfe],\"SS\":[SSA,SSB,pooled_SSE],\"MS\":[MSA,MSB,pooled_MSE],\"F\":[MSA/pooled_MSE, MSB/pooled_MSE,'없음']})\n",
    "\n",
    "print(\"pooling 후, ANOVA table \", atable2.round(1))\n",
    "print(f\"A 주효과 검정 {MSA/pooled_MSE}, p-value {1-f.cdf(MSA/pooled_MSE,dfa,pooled_dfe)}\")"
   ]
  },
  {
   "cell_type": "code",
   "execution_count": null,
   "metadata": {},
   "outputs": [],
   "source": []
  }
 ],
 "metadata": {
  "kernelspec": {
   "display_name": "Python 3 (ipykernel)",
   "language": "python",
   "name": "python3"
  },
  "language_info": {
   "codemirror_mode": {
    "name": "ipython",
    "version": 3
   },
   "file_extension": ".py",
   "mimetype": "text/x-python",
   "name": "python",
   "nbconvert_exporter": "python",
   "pygments_lexer": "ipython3",
   "version": "3.11.5"
  }
 },
 "nbformat": 4,
 "nbformat_minor": 4
}
