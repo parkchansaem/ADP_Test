{
 "cells": [
  {
   "cell_type": "markdown",
   "id": "e18916d4-7437-42aa-80cc-c41b01bd0139",
   "metadata": {},
   "source": [
    "# 비모수 검정"
   ]
  },
  {
   "cell_type": "markdown",
   "id": "9b256347-9c55-4a19-8456-9d93df7f5828",
   "metadata": {},
   "source": [
    "검정 방법 \n",
    "### 단일 표본 - 1개\n",
    "비모수 검정    \n",
    "서열척도 : 부호검정, 부호순위검정   \n",
    "명목척도 : 적합성 검정, Run 검정    \n",
    "모수 검정 : 일표본 t검정      \n",
    "\n",
    "### 대응표본(Paired) : 2개\n",
    "비모수 검정   \n",
    "서열척도 : 부허검정, 부호순위검정    \n",
    "명목척도 : Mcnemar검정     \n",
    "모수검정 : 대응표본 t검정   \n",
    "\n",
    "### 대응표본(Paired) : k개\n",
    "비모수 검정    \n",
    "서열척도 : Friedman검정    \n",
    "명목척도 : Cochran Q 검정    \n",
    "모수검정 : paried 일원배치 분산분석(anova)  \n",
    "\n",
    "### 독립표본(independent) : 2개\n",
    "비모수 검정     \n",
    "서열척도 : 순위합 검정, 만위트니 U검정   \n",
    "명목척도 : 독립성검정 , 동질성 검정    \n",
    "모수검정 : 독립표본 t검정    \n",
    " \n",
    "### 독립표본(independet) : k개 \n",
    "비모수 검정    \n",
    "서열척도 : kruskal-Wallis 검정    \n",
    "명목척도 : 독립성 검정, 동질성 검정    \n",
    "모수검정 : 일원배치 분산분석     \n",
    "\n"
   ]
  },
  {
   "cell_type": "markdown",
   "id": "7daca560-2d65-45db-b687-7a5e11db81b0",
   "metadata": {},
   "source": [
    "## 카이제곱 검정\n"
   ]
  },
  {
   "cell_type": "markdown",
   "id": "9e92dd7a-1089-4096-8eb8-a1b18ac2c48c",
   "metadata": {},
   "source": [
    "### 적합성 검정: 다항모집단의 비율의 차이\n",
    "관측값들이 어떤 이론이나 이론적 분포를 따르고 있는지를 검정     \n",
    "카이제곱분포를 이용한 검정은 기대도수가 적어도 5이상이 될 때 적용해야한다.     \n",
    "  \n",
    "H0 : 구해진 도수분포의 도수와 이론도수가 차이가 없다.   \n",
    "H1 : 구해진 도수분포의 도수와 이론도수가 차이가 있다.   "
   ]
  },
  {
   "cell_type": "code",
   "execution_count": 2,
   "id": "cf7076d2-fb35-4b1f-bd74-40edd38702da",
   "metadata": {},
   "outputs": [
    {
     "name": "stdout",
     "output_type": "stream",
     "text": [
      "[60 50 40]\n"
     ]
    }
   ],
   "source": [
    "# 적합성 검정 :세 후보자의 지지도가 다르다고 할수 있을까?\n",
    "import numpy as np\n",
    "from scipy.stats import chi2\n",
    "data =np.array([60,50,40])\n",
    "print(data)"
   ]
  },
  {
   "cell_type": "code",
   "execution_count": 3,
   "id": "0e60c832-b8c5-4dfb-8664-e7c6b60aab55",
   "metadata": {},
   "outputs": [
    {
     "name": "stdout",
     "output_type": "stream",
     "text": [
      "수기검정\n",
      "오른쪽 검정의 임계값 5.991464547107979, 검정통계량 4.0\n",
      "유의수준 :0.05, 유의확률 0.1353352832366127\n"
     ]
    }
   ],
   "source": [
    "# 가설검정 (우측검정)\n",
    "# H0 : 세 후보자의 지지도는 동일하다. H1 : 세 후보자의 지지도는 차이가 있다.\n",
    "m0 = data.mean()\n",
    "test_a = 0.05\n",
    "df = len(data) -1\n",
    "chistat = sum((data - m0)**2 /m0)\n",
    "sp = 1-chi2.cdf(chistat,df) # 오른쪽 검정\n",
    "cv = chi2.ppf(1-test_a,df)\n",
    "\n",
    "print(\"수기검정\")\n",
    "print(f\"오른쪽 검정의 임계값 {cv}, 검정통계량 {chistat}\")\n",
    "print(f\"유의수준 :{test_a}, 유의확률 { sp}\")"
   ]
  },
  {
   "cell_type": "code",
   "execution_count": 5,
   "id": "9230c94c-81dd-4b8a-a5b4-e470d5ad488d",
   "metadata": {},
   "outputs": [
    {
     "name": "stdout",
     "output_type": "stream",
     "text": [
      "검정 통계량 4.0, p-value : 0.1353352832366127\n"
     ]
    }
   ],
   "source": [
    "from scipy.stats import chisquare ,  chi2\n",
    "stat , p = chisquare(data,m0)\n",
    "print(f\"검정 통계량 {stat}, p-value : {p}\")\n",
    "print(\"귀무가설을 기각할 수 없다. 세후보자의 지지도는 동일하다. \")"
   ]
  },
  {
   "cell_type": "markdown",
   "id": "1a689ad9-5272-4173-bcaa-cf516b6dca1f",
   "metadata": {},
   "source": [
    "### 독립성 검정 : 한 모집단 내 여러 수준의 차이\n",
    "\n",
    "독립성 검정 혹은 교차분석이라고 한다. 다수의 인자들에 의해 분할되어 있는 데이터에서, 인자들이 관측값에 영향을 주고 있는지 여부를 검정한다.     \n",
    "교차표에서 행과 열이 독립적인지 확인, 하나의 집단에서 표집한 후에 나눠봄     \n",
    "\n",
    "H0 : 두 인자는 독립이다.(연관이 없다.)    \n",
    "H1 : 두 인자는 독립이 아니다. (연관이 있다.)     "
   ]
  },
  {
   "cell_type": "code",
   "execution_count": 40,
   "id": "cc9e461e-bf2b-4c85-bb99-075f7fe29f44",
   "metadata": {},
   "outputs": [
    {
     "name": "stdout",
     "output_type": "stream",
     "text": [
      "데이터 확인\n",
      "     안경0  안경x\n",
      "성별          \n",
      "남자   10   40\n",
      "여자   30   20\n"
     ]
    }
   ],
   "source": [
    "# 독립성 검정\n",
    "# 성별 변량과 안경 착용여부 변량이 서로 독립인지 관련이 있는지 유의수준 5% 검정\n",
    "import numpy as np\n",
    "from pandas import DataFrame\n",
    "from scipy.stats import chi2_contingency, chi2\n",
    "table = DataFrame({\"성별\": ['남자','여자'], \"안경0\": [10,30], \"안경x\":[40,20]}).set_index('성별')\n",
    "test_a = 0.05\n",
    "print('데이터 확인\\n',table)"
   ]
  },
  {
   "cell_type": "code",
   "execution_count": 35,
   "id": "d7e4ca98-4a26-4441-9e29-355eac455622",
   "metadata": {},
   "outputs": [
    {
     "name": "stdout",
     "output_type": "stream",
     "text": [
      "기대값\n",
      " [[20. 30.]\n",
      " [20. 30.]]\n",
      "관측값\n",
      " [[10 40]\n",
      " [30 20]]\n"
     ]
    }
   ],
   "source": [
    "# 수기검정\n",
    "ttl = table.sum().sum()\n",
    "exp = []\n",
    "r = table.sum(axis=1).values\n",
    "c = table.sum(axis=0).values\n",
    "for R in r:\n",
    "    for C in c:\n",
    "        exp.append(R*C/ttl)\n",
    "print(f'기대값\\n {np.array(exp).reshape(table.shape)}')\n",
    "obs = table.values.ravel()\n",
    "print(f\"관측값\\n {np.array(obs).reshape(table.shape)}\")"
   ]
  },
  {
   "cell_type": "code",
   "execution_count": 36,
   "id": "577135f1-a56b-464a-adb7-1ca49ee093bd",
   "metadata": {},
   "outputs": [
    {
     "name": "stdout",
     "output_type": "stream",
     "text": [
      "유의확률 4.455709060402491e-05\n",
      "오른쪽 검정의 임계값 3.841458820694124, 검정통계량16.666666666666668\n"
     ]
    }
   ],
   "source": [
    "chistat = np.sum((obs - exp)** 2 / exp)\n",
    "df = (table.shape[0]-1)*(table.shape[1]-1)\n",
    "sp = 1 - chi2.cdf(chistat,df)\n",
    "cv = chi2.ppf(1-test_a,df)\n",
    "print(f\"유의확률 {sp}\")\n",
    "print(f\"오른쪽 검정의 임계값 {cv}, 검정통계량{chistat}\")"
   ]
  },
  {
   "cell_type": "code",
   "execution_count": 41,
   "id": "323e385e-392b-454d-8224-def87a5a3d93",
   "metadata": {},
   "outputs": [
    {
     "name": "stdout",
     "output_type": "stream",
     "text": [
      "라이브러리 검정\n",
      "검정통계량 :16.666666666666668, 유의확률: 4.455709060405612e-05, 기대값 :[[20. 30.]\n",
      " [20. 30.]]\n"
     ]
    }
   ],
   "source": [
    "print('라이브러리 검정')\n",
    "chi2, p, df,expec = chi2_contingency(table, correction=False)\n",
    "print(f\"검정통계량 :{chi2}, 유의확률: {p}, 기대값 :{expec}\")"
   ]
  },
  {
   "cell_type": "code",
   "execution_count": 45,
   "id": "40b3af6e-67a8-435f-b497-ac6922501974",
   "metadata": {},
   "outputs": [
    {
     "name": "stdout",
     "output_type": "stream",
     "text": [
      "    승  패\n",
      "A  10  2\n",
      "B   3  5\n",
      "검정 통계량 8.333333333333334, 유의확률 0.05211558307533541\n",
      "유의확률이 유의수준보다 높으므로 귀무가설을 기각할 수 없다. 차이가 없다\n"
     ]
    }
   ],
   "source": [
    "# fisher's exact test\n",
    "table = DataFrame([[10,2],[3,5]], index = ['A','B'], columns = ['승','패'])\n",
    "print(table)\n",
    "# H0 : A와 B의 실력은 차이가 없다. H1  : A의 실력이 더 좋다.\n",
    "from scipy.stats import fisher_exact\n",
    "stats , p = fisher_exact(table, alternative = 'greater') # greater\n",
    "print(f'검정 통계량 {stats}, 유의확률 {p}')\n",
    "# print(\"유의 확률이 유의수준을 0.05보다 높으므로 귀무가설을 기각한다. A의 실력이 더 좋다.\")\n",
    "print(\"유의확률이 유의수준보다 높으므로 귀무가설을 기각할 수 없다. 차이가 없다\")"
   ]
  },
  {
   "cell_type": "markdown",
   "id": "950df832-0aad-44e7-82da-b33d2b8e483a",
   "metadata": {},
   "source": [
    "### 동질성검정 : 여러 (부)모집단 간 여러 수준에 대한 차이\n",
    "    \n",
    "서로 다른 표본 집단의 변수의 동질성(분포)를 검정하는 과정   \n",
    "교차표에서 행간의 분포차이가 존재하는지 확인, 서로 다른 집단에서 따로 표집    \n",
    "    \n",
    "H0 : 모든 집단의 분포가 차이가 없다.(동일하다.)    \n",
    "H1 : 적어도 한 집단은 분포 상 서로 차이가 있다. (동일하지 않다.)    "
   ]
  },
  {
   "cell_type": "code",
   "execution_count": 48,
   "id": "ffbfffad-0cd9-4f41-8e76-0d05c65d6096",
   "metadata": {},
   "outputs": [
    {
     "name": "stdout",
     "output_type": "stream",
     "text": [
      "     청년  중년  장년\n",
      "TV             \n",
      "A   120  10  10\n",
      "B    30  75  30\n",
      "C    50  15  60\n"
     ]
    }
   ],
   "source": [
    "# 동질성 검정\n",
    "# 프로그램 A,B,C에 대해 연령층별 시청자들의 선호가 다른지 유의수준 5%로 검정\n",
    "import pandas as pd\n",
    "table = pd.DataFrame({\"TV\": ['A','B','C'], \"청년\": [120,30,50], \"중년\":[10,75,15], \"장년\": [10,30,60]}).set_index('TV')\n",
    "test_a = 0.05\n",
    "print(table)"
   ]
  },
  {
   "cell_type": "code",
   "execution_count": 50,
   "id": "8ff50023-6356-4537-b986-50bf64b4d1a5",
   "metadata": {},
   "outputs": [
    {
     "name": "stdout",
     "output_type": "stream",
     "text": [
      "수기 검정\n",
      "기대값 [[70.   35.   35.  ]\n",
      " [67.5  33.75 33.75]\n",
      " [62.5  31.25 31.25]]\n",
      "관찰값 [[120  10  10]\n",
      " [ 30  75  30]\n",
      " [ 50  15  60]]\n"
     ]
    }
   ],
   "source": [
    "# H0 : 프로그램에 대한 연령 별 선호에 차이가 없다.\n",
    "# H1 : 적어도 한 집단은 차이가 있다.\n",
    "print(\"수기 검정\")\n",
    "ttl = table.sum().sum()\n",
    "exp =[]\n",
    "r = table.sum(axis=1).values\n",
    "c = table.sum(axis=0).values\n",
    "\n",
    "for R in r:\n",
    "    for C in c:\n",
    "        exp.append(R*C/ttl)\n",
    "print(f\"기대값 {np.array(exp).reshape(table.shape)}\")\n",
    "obs = table.values.ravel()\n",
    "print(f\"관찰값 {np.array(obs).reshape(table.shape)}\")"
   ]
  },
  {
   "cell_type": "code",
   "execution_count": 54,
   "id": "d6a4f523-f6fe-4a3b-bc8d-d016bac4e70b",
   "metadata": {},
   "outputs": [
    {
     "name": "stdout",
     "output_type": "stream",
     "text": [
      "오른쪽 검정의 임계값 9.487729036781154, 검정 통계량 180.49523809523808\n",
      "유의수준 0.05, 유의확률 0.0\n"
     ]
    }
   ],
   "source": [
    "from scipy.stats import chi2\n",
    "chistat = np.sum((obs - exp)**2/exp)\n",
    "df = (table.shape[0]-1) * (table.shape[1]-1)\n",
    "sp = 1 - chi2.cdf(chistat,df)\n",
    "cv = chi2.ppf(1-test_a,df)\n",
    "print(f\"오른쪽 검정의 임계값 {cv}, 검정 통계량 {chistat}\")\n",
    "print(f\"유의수준 {test_a}, 유의확률 {sp}\")"
   ]
  },
  {
   "cell_type": "code",
   "execution_count": 60,
   "id": "1cefa5d2-9efd-4de4-8793-45f7e12bc777",
   "metadata": {},
   "outputs": [
    {
     "name": "stdout",
     "output_type": "stream",
     "text": [
      "라이브러리\n",
      "검정 통계량 180.49523809523808, 유의확률 5.836850688101578e-38 \n",
      "기대값\n",
      " [[70.   35.   35.  ]\n",
      " [67.5  33.75 33.75]\n",
      " [62.5  31.25 31.25]]\n"
     ]
    }
   ],
   "source": [
    "print('라이브러리')\n",
    "from scipy.stats import chi2_contingency\n",
    "chi2, p, df, expec = chi2_contingency(table, correction = False)\n",
    "print(f\"검정 통계량 {chi2}, 유의확률 {p} \\n기대값\\n {expec}\")"
   ]
  },
  {
   "cell_type": "markdown",
   "id": "a4096695-0614-4810-8a94-c54f1e9e3961",
   "metadata": {},
   "source": [
    "### Run 검정"
   ]
  },
  {
   "cell_type": "markdown",
   "id": "2222943f-9bd0-4362-a5f8-acbdfde7d8e5",
   "metadata": {},
   "source": [
    "일표본 run검정    \n",
    "   \n",
    "한개의 샘플이 무작위로 추출되었는지 여부를 검정한다.     \n",
    "범주형 데이터는 각 범주의 개수와 run의 개수를 사용하고,    \n",
    "수치형 데이터는 중앙값을 기준으로 데이터를 이진화 한후 검정을 진행한다.   \n",
    "   \n",
    "H0 : 샘플이 무작위와 차이가 없다. (무작위로 추출되었다.)    \n",
    "H1 : 샘플이 무작위와 차이가 잇다. (무작위로 추출되지 않았다.)     "
   ]
  },
  {
   "cell_type": "code",
   "execution_count": 62,
   "id": "9d6eac06-32b7-4cbf-a7c1-345e01324a70",
   "metadata": {},
   "outputs": [
    {
     "name": "stdout",
     "output_type": "stream",
     "text": [
      "Counter({1: 15, 0: 14})\n"
     ]
    }
   ],
   "source": [
    "# 범주형 데이터의 경우\n",
    "from collections import Counter\n",
    "import numpy as np\n",
    "from scipy.stats import norm\n",
    "\n",
    "#run을 세는 함수 정의\n",
    "def count_run(data):\n",
    "    count_run = 1\n",
    "    for i, element in enumerate(data[:-1]):\n",
    "        if element == data[i+1]:\n",
    "            continue\n",
    "        else:\n",
    "            count_run += 1\n",
    "    return count_run\n",
    "\n",
    "data = ['a','a','b','b','a','a','a','a','b','b','b','b','a','b','a','a','b','b','a','a','b','b','b','a','a','b','b','a','b']\n",
    "data2 = list(map(lambda x: 0 if x=='a' else 1, data))\n",
    "a,b = Counter(data2)[0], Counter(data2)[1]\n",
    "print(Counter(data2))"
   ]
  },
  {
   "cell_type": "code",
   "execution_count": 68,
   "id": "3c469807-8f18-440a-b1c9-c935fb2d2c96",
   "metadata": {},
   "outputs": [
    {
     "name": "stdout",
     "output_type": "stream",
     "text": [
      "수기검정\n",
      "기대값 15.482758620689655, 분산6.97384066587396, 검정통계량(Z)-0.3721438547031917, p-value 0.7097857460625616 \n"
     ]
    }
   ],
   "source": [
    "print('수기검정')\n",
    "n1 , n2 = a,b\n",
    "# n1, n2이 충분히 클 때 평균이 avg, 분산이 var인 점근적 정규분포를 따른다.\n",
    "run = count_run(data2) #Run 의 개수\n",
    "avg = 2*n1*n2/(n1+n2)+1\n",
    "var = 2 * n1 * n2 *(2 * n1 * n2 -n1 - n2 )/ ((n1+n2)**2)/ (n1+n2-1)\n",
    "\n",
    "# run의 총 개수에 따라서 h의 값을 정함\n",
    "if run < 2*n1 * n2/(n1+n2)+0.5:\n",
    "    h = 0.5\n",
    "else:\n",
    "    h = -0.5\n",
    "#n1 , n2의 크기에 따라서 z통계량 공식을 정함\n",
    "if n1 <= 20 or n2 <=20:\n",
    "    Z = (run-avg + h) / np.sqrt(var) # 소표본인 경우\n",
    "else:\n",
    "    Z = (run-avg) / np.sqrt(var) # 대표본인 경우\n",
    "sp = (1-norm.cdf(np.abs(Z)))*2\n",
    "print(f\"기대값 {avg}, 분산{var}, 검정통계량(Z){Z}, p-value {sp} \")"
   ]
  },
  {
   "cell_type": "code",
   "execution_count": 69,
   "id": "3d8dc665-97d6-4aad-9226-4050c624581d",
   "metadata": {},
   "outputs": [
    {
     "name": "stdout",
     "output_type": "stream",
     "text": [
      "라이브러리 검정\n",
      "검정 통계량 -0.3721438547031917, 유의확률0.7097857460625617\n"
     ]
    }
   ],
   "source": [
    "print(\"라이브러리 검정\")\n",
    "from statsmodels.sandbox.stats.runs import runstest_1samp\n",
    "zstat , pval = runstest_1samp(data2)\n",
    "print(f\"검정 통계량 { zstat}, 유의확률{pval}\")"
   ]
  },
  {
   "cell_type": "code",
   "execution_count": 70,
   "id": "068c69ca-53eb-4fed-9495-162c6b9da06a",
   "metadata": {},
   "outputs": [
    {
     "name": "stdout",
     "output_type": "stream",
     "text": [
      "Counter({0: 5, 1: 5})\n"
     ]
    }
   ],
   "source": [
    "# 수치형 데이터의 경우\n",
    "from collections import Counter\n",
    "# Run을 세는 함수 정의\n",
    "def count_run(data):\n",
    "    count_run = 1\n",
    "    for i, element in enumerate(data[:-1]):\n",
    "        if element == data[i+1]:\n",
    "            continue\n",
    "        else:\n",
    "            count_run += 1\n",
    "    return count_run\n",
    "data = [50,60,70,40,30,20,10,70,80,100]\n",
    "median = np.median(data)\n",
    "\n",
    "data2 = []\n",
    "for sample in data: # 값을 중앙값을 기준으로 이진화 함\n",
    "    if sample >= median:\n",
    "        data2.append(1)\n",
    "    else:\n",
    "        data2.append(0)\n",
    "print(Counter(data2))"
   ]
  },
  {
   "cell_type": "code",
   "execution_count": 72,
   "id": "623d8ef2-95f5-4be2-8277-bfbb1c141b18",
   "metadata": {},
   "outputs": [
    {
     "name": "stdout",
     "output_type": "stream",
     "text": [
      "수기 검정\n",
      "기대값 6.0, 분산 2.2222222222222223, Z검정 통계량-1.0062305898749053\n"
     ]
    }
   ],
   "source": [
    "print(\"수기 검정\")\n",
    "n1 = Counter(data2)[0]\n",
    "n2 = Counter(data2)[1]\n",
    "run = count_run(data2) #Run의 총 개수\n",
    "avg = 2 * n1 * n2 / (n1+n2) + 1\n",
    "var = 2 * n1 *n2 * (2 * n1 * n2 -n1 -n2)/ ((n1 +n2)**2) / (n1 + n2 -1)\n",
    "# 런의 총개수에 따라서 h의 값을 정함\n",
    "if run < 2* n1 *n2/(n1+n2)+0.5:\n",
    "    h = 0.5\n",
    "else:\n",
    "    h = -0.5\n",
    "# n1 ,  n2의 크기에 따라서 Z통계량 공식을 정함\n",
    "if n1 <= 20 or n2 <= 20 :\n",
    "    Z = (run - avg + h) / np.sqrt(var)  #소표본인 경우\n",
    "else:\n",
    "    Z = (run - avg) / np.sqrt(var)  # 대표본인 경우\n",
    "sp = (1 - norm.cdf(np.abs(Z))) * 2 \n",
    "print(f'기대값 {avg}, 분산 {var}, Z검정 통계량{Z}')"
   ]
  },
  {
   "cell_type": "code",
   "execution_count": 73,
   "id": "de6af61a-837a-4694-bf82-06a04c3c32ea",
   "metadata": {},
   "outputs": [
    {
     "name": "stdout",
     "output_type": "stream",
     "text": [
      "라이브러리 검정\n",
      "검정 통계량 -1.0062305898749053, 유의확률 0.31430466047385397\n"
     ]
    }
   ],
   "source": [
    "print(\"라이브러리 검정\")\n",
    "from statsmodels.sandbox.stats.runs import runstest_1samp\n",
    "zstat ,pval = runstest_1samp(data2, cutoff = 'median')\n",
    "print(f\"검정 통계량 {zstat}, 유의확률 {pval}\")\n",
    "print(\"유의확률이 유의 수준보다 높으므로 귀무가설을 기각하지 못한다. 무작위로 추출되었다.\")"
   ]
  },
  {
   "cell_type": "markdown",
   "id": "3e47389c-e937-4cb1-9b00-e3e9b0e3794b",
   "metadata": {},
   "source": [
    "### 이표본 Run 검정 "
   ]
  },
  {
   "cell_type": "markdown",
   "id": "ab2cc39e-6bbe-4187-a56e-6f76e6cd050e",
   "metadata": {},
   "source": [
    "H0 : 두 데이터는 같은 분포에서 왔다.    \n",
    "H1 : 두 데이터는 다른 분포에서 왔다.    "
   ]
  },
  {
   "cell_type": "code",
   "execution_count": 76,
   "id": "9f1fd579-717f-4f8f-b388-c6f38056669c",
   "metadata": {},
   "outputs": [
    {
     "name": "stdout",
     "output_type": "stream",
     "text": [
      "Counter({23.0: 1, 42.0: 1, 36.0: 1, 27.0: 1, 48.0: 1, 52.0: 1, 35.0: 1, 31.0: 1})\n",
      "Counter({43.0: 1, 56.0: 1, 38.0: 1, 20.0: 1, 46.0: 1, 51.0: 1, 36.0: 1})\n"
     ]
    }
   ],
   "source": [
    "# 수치형 데이터의 경우 \n",
    "# run을 세는 함수 정의\n",
    "def count_run(data):\n",
    "    count_run = 1\n",
    "    for i, element in enumerate(data[:-1]):\n",
    "        if element == data[i+1]:\n",
    "            continue\n",
    "        else : \n",
    "            count_run += 1\n",
    "    return count_run\n",
    "data1 = [23,42,36,27,48,52,35,31]\n",
    "data2 = [43,56,38,20,46,51,36]\n",
    "\n",
    "# 라이브러리 검정을 위해 데이터 타입을 float 으로 변환시켜 주어야 한다.\n",
    "data1 = list(map(lambda x : float(x), data1))\n",
    "data2 = list(map(lambda x : float(x), data2))\n",
    "print(Counter(data1))\n",
    "print(Counter(data2))"
   ]
  },
  {
   "cell_type": "code",
   "execution_count": 77,
   "id": "f679199a-34f1-4b9d-9816-521e6410ad08",
   "metadata": {},
   "outputs": [
    {
     "name": "stdout",
     "output_type": "stream",
     "text": [
      "Counter({1: 8, 0: 7})\n"
     ]
    }
   ],
   "source": [
    "data = data1 + data2 \n",
    "median = np.median(data)\n",
    "data3 = [1 if i >= median else 0 for i in data]  # 중앙값을 기준으로 이진화 함\n",
    "print(Counter(data3))"
   ]
  },
  {
   "cell_type": "code",
   "execution_count": 83,
   "id": "e68db860-3e55-4c8e-bd7d-7ece15ab7468",
   "metadata": {},
   "outputs": [
    {
     "name": "stdout",
     "output_type": "stream",
     "text": [
      "기대값 8.466666666666667, 분산 3.448888888888889, Z검정통계량 0.01794895396544339, p-value 0.9856795756756671\n"
     ]
    }
   ],
   "source": [
    "# 수기검정\n",
    "n1 = Counter(data3)[0]\n",
    "n2 = Counter(data3)[1]\n",
    "run = count_run(data3) # Run의 총 개수\n",
    "\n",
    "avg = 2 * n1 * n2 / (n1+n2) + 1\n",
    "var = 2 * n1 * n2 * (2 * n1 * n2 - n1 -n2) / ((n1 + n2)**2)/(n1 + n2 -1)\n",
    "\n",
    "# 런의 총개수에 따라서 h의 값을 정함\n",
    "if run < 2* n1 * n2/(n1 + n2)+0.5 : \n",
    "    h = 0.5\n",
    "else:\n",
    "    h = -0.5\n",
    "\n",
    "# n1 , n2의 크기에 따라서 Z통계량 공식을 정함\n",
    "if n1 <= 20 or n2 <= 20:\n",
    "    Z = (run- avg + h) / np.sqrt(var) # 소표본인 경우\n",
    "else:\n",
    "    Z = (run - avg) / np.sqrt(var)\n",
    "sp = (1 - norm.cdf(np.abs(Z))) * 2\n",
    "\n",
    "print(f\"기대값 {avg}, 분산 {var}, Z검정통계량 {Z}, p-value {sp}\")"
   ]
  },
  {
   "cell_type": "code",
   "execution_count": 86,
   "id": "adf67a16-e32c-4790-a6ea-73b9fc132458",
   "metadata": {},
   "outputs": [
    {
     "name": "stdout",
     "output_type": "stream",
     "text": [
      "라이브러리 검정\n",
      "ties detected\n",
      "검정통계량 0.01794895396544339, p-value 0.9856795756756671\n"
     ]
    }
   ],
   "source": [
    "print(\"라이브러리 검정\")\n",
    "from statsmodels.sandbox.stats.runs import runstest_2samp\n",
    "zstat, pval = runstest_2samp(data1,data2)\n",
    "print(f\"검정통계량 {zstat}, p-value {pval}\")\n",
    "# 검정 결과, p-value가 0.98로 유의수준 0.05보다 높으므로 귀무가설을 기각하지 못한다. 그러므로 같은 분포라는 가설을 기각하지 못하였다."
   ]
  },
  {
   "cell_type": "markdown",
   "id": "8130f698-8783-4a05-9ea2-a11832252772",
   "metadata": {},
   "source": [
    "### 맥니머 검정"
   ]
  },
  {
   "cell_type": "markdown",
   "id": "7696792b-3425-4db6-ab21-3fb6af4184a3",
   "metadata": {},
   "source": [
    "맥니머 검정은 이항변수인 두 변수의 대응관계(paired)가 있는 데이터 분포의 차이를 검정할 때 사용한다.     \n",
    "   \n",
    "H0 : 두 변수의 데이터 분포는 차이가 없다.    \n",
    "H1 : 두 변수의 데이터 분포는 차이가 있다.     "
   ]
  },
  {
   "cell_type": "code",
   "execution_count": 88,
   "id": "297b3bd8-d5fc-43d6-abf7-394da4a4fa2f",
   "metadata": {},
   "outputs": [
    {
     "name": "stdout",
     "output_type": "stream",
     "text": [
      "      후_있음  후_없음\n",
      "전_있음     9    12\n",
      "전_없음    24    35\n"
     ]
    }
   ],
   "source": [
    "# 프로모션 행상 전후로 상품에 대한 흥미 유무 데이터\n",
    "import pandas as pd\n",
    "table = pd.DataFrame([[9,12], [24,35]], index = ['전_있음','전_없음'], columns = ['후_있음','후_없음'])\n",
    "print(table)"
   ]
  },
  {
   "cell_type": "code",
   "execution_count": 89,
   "id": "f7eaee87-d777-4495-a83c-76f732c76c51",
   "metadata": {},
   "outputs": [
    {
     "name": "stdout",
     "output_type": "stream",
     "text": [
      "검정\n",
      "검정 통계령 4.0, p-value 0.04550026389635853\n"
     ]
    }
   ],
   "source": [
    "# H0 : 흥미가 없다가 있게 된 경우와 있다가 없게 된 경우의 분포가 동일하다.\n",
    "# H1 : 두 경우의 분포가 다르다.\n",
    "print('검정') # 변화가 있는 b와 c에 주목하고 변화가 없는 대각선 값은 무시\n",
    "from scipy.stats import chi2\n",
    "b = table.values[0][1]\n",
    "c = table.values[1][0]\n",
    "stat = (b-c)**2 / (b+c)\n",
    "alpha = 0.05\n",
    "df = 1\n",
    "pval = 1- chi2.cdf(stat,df)\n",
    "print(f\"검정 통계령 {stat}, p-value {pval}\")"
   ]
  },
  {
   "cell_type": "code",
   "execution_count": 90,
   "id": "ca72ebe8-6ea1-4196-9b60-8f8edb49b27b",
   "metadata": {},
   "outputs": [
    {
     "name": "stdout",
     "output_type": "stream",
     "text": [
      "라이브러리\n",
      "검정 통계량 4.0, 유의확률 0.04550026389635857\n"
     ]
    }
   ],
   "source": [
    "from statsmodels.stats.contingency_tables import mcnemar\n",
    "# 파라미터 exact 값이 True이면 이항분포, false면 카이제곱분포를 사용한다.\n",
    "\n",
    "print('라이브러리')\n",
    "mc = mcnemar(table.values, exact=False, correction = False)\n",
    "print(f'검정 통계량 {mc.statistic}, 유의확률 {mc.pvalue}')\n",
    "# 유의확률이 0.045로 유의수준 0.05보다 낮아 귀무가설을 기각합니다. 이벤트의 효과가 있었다. "
   ]
  },
  {
   "cell_type": "markdown",
   "id": "89ba4723-ba10-4120-a6a3-12cf763695bb",
   "metadata": {},
   "source": [
    "### 코크란 Q검정"
   ]
  },
  {
   "cell_type": "markdown",
   "id": "e07dad1e-3459-4573-ad75-29d72a0d8ba9",
   "metadata": {},
   "source": [
    "코크란 Q검정은 이항 변수인 세변수 이상의 대응관계가 있는 데이터으 분포의 차이를 검정할 댸 사용(paired one-way anova의 비모수 검정)\n",
    "      \n",
    "H0 : 각 변수의 데이터 분포는 차이가 없다.         \n",
    "H1 : 적어도 한 쌍의 변수의 데이터 분포는 차이가 있다.       "
   ]
  },
  {
   "cell_type": "code",
   "execution_count": 92,
   "id": "93fc1ea2-10d7-42b0-aa3b-2c19a412e983",
   "metadata": {},
   "outputs": [
    {
     "name": "stdout",
     "output_type": "stream",
     "text": [
      "   가수1  가수2  가수3\n",
      "1    0    1    0\n",
      "2    1    1    1\n",
      "3    0    0    1\n",
      "4    1    1    1\n",
      "5    0    0    1\n",
      "6    0    0    1\n",
      "7    0    1    1\n",
      "8    0    1    1\n"
     ]
    }
   ],
   "source": [
    "# 연예인 3명에 대한 호감도 데이터를 얻기 위해 8명에게 설문조사를 실시했다. 연예인에 대한 호감 비율에 차이가 있는가?\n",
    "import pandas as pd\n",
    "import numpy as np\n",
    "from scipy.stats import chi2\n",
    "table = DataFrame([[0,1,0,1,0,0,0,0],[1,1,0,1,0,0,1,1],[0,1,1,1,1,1,1,1]], index=['가수1','가수2','가수3'], columns=[1,2,3,4,5,6,7,8]).T \n",
    "print(table)"
   ]
  },
  {
   "cell_type": "code",
   "execution_count": 95,
   "id": "8d7654b3-73ed-4dad-9939-276f98a685e4",
   "metadata": {},
   "outputs": [
    {
     "name": "stdout",
     "output_type": "stream",
     "text": [
      "수기 검정\n",
      "검정 통계량 :6.333333333333333, 유의확률 0.04214384350927636\n"
     ]
    }
   ],
   "source": [
    "# H0 : 모든 연예인에 대한 호감도 비율이 차이가 없다(모든 연예인의 호감도가 같다)\n",
    "# H1 : 적어도 한쌍의 연예인은 호감도 비율이 차이가 있다. (적어도 한 쌍 다르다)\n",
    "print(\"수기 검정\")\n",
    "n = table.shape[0] # 표본 개수\n",
    "k = table.shape[1] # 범주 개수\n",
    "df = k - 1\n",
    "k_sums = np.array(table.sum())\n",
    "n_sums = np.array(table.sum(axis=1))\n",
    "Q1 = k * sum(k_sums**2) - sum(k_sums)**2\n",
    "Q2 = k * sum(n_sums)  - sum(n_sums**2)\n",
    "stat = df * Q1 /Q2\n",
    "pval = 1-chi2.cdf(stat,df)\n",
    "print(f\"검정 통계량 :{stat}, 유의확률 {pval}\")"
   ]
  },
  {
   "cell_type": "code",
   "execution_count": 97,
   "id": "b35b4c7d-620e-44f3-8936-a99e7019af5e",
   "metadata": {},
   "outputs": [
    {
     "name": "stdout",
     "output_type": "stream",
     "text": [
      "검정통계량 : 6.333333333333333, 유의확률 :0.042143843509276406\n"
     ]
    }
   ],
   "source": [
    "# 라이브러리\n",
    "from statsmodels.stats.contingency_tables import cochrans_q\n",
    "ccq = cochrans_q(table)\n",
    "print(f\"검정통계량 : {ccq.statistic}, 유의확률 :{ccq.pvalue}\")\n",
    "print(\"유의확률이 유의수준보다 낮아 귀무가설을 기간한다. 적어도 한쌍의 연예인은 호감도비율이 차이가 있다.\")"
   ]
  },
  {
   "cell_type": "code",
   "execution_count": 104,
   "id": "8a623c3c-2152-4639-8193-7086b466ca88",
   "metadata": {},
   "outputs": [
    {
     "name": "stdout",
     "output_type": "stream",
     "text": [
      "가수1가수2 : 검정통계량 3.0, p-value 0.08326451666355042\n",
      "가수1가수3 : 검정통계량 5.0, p-value 0.025347318677468325   ***\n",
      "가수2가수3 : 검정통계량 1.0, p-value 0.31731050786291115\n"
     ]
    }
   ],
   "source": [
    "# 연예인 모드 쌍의 맥니머 검정을 통해 가수 1- 가수 3의 호감도 차이가 있음을 확인\n",
    "from itertools import combinations\n",
    "col_comp = list(combinations(table.columns,2))\n",
    "\n",
    "import pandas as pd\n",
    "from statsmodels.stats.contingency_tables import mcnemar\n",
    "for s1,s2 in col_comp:\n",
    "    ct = pd.crosstab(table.loc[:,s1], table.loc[:,s2])\n",
    "    mc = mcnemar(ct.values, exact=False, correction = False)\n",
    "    stat, p = mc.statistic, mc.pvalue\n",
    "    msg = f'{s1}{s2} : 검정통계량 {stat}, p-value {p}'    \n",
    "    if p < 0.05:\n",
    "        print(msg + '   ***')\n",
    "    else:\n",
    "        print(msg)"
   ]
  },
  {
   "cell_type": "markdown",
   "id": "1490e75c-74af-49a4-94c4-ecdbbc188fe1",
   "metadata": {},
   "source": [
    "### 일표본 부호검정 : 이항분포, z분포\n",
    "\n",
    "표본 수가 100보다 낮으면 부호검정 통꼐량은 이항분포를 다르고 100보다 크면 정규화된 정규분포를 따른다.   \n",
    "\n",
    "일표본 t검정에 대응한다."
   ]
  },
  {
   "cell_type": "code",
   "execution_count": 110,
   "id": "ded1b894-8d17-475e-acfc-756784df6c66",
   "metadata": {},
   "outputs": [
    {
     "name": "stdout",
     "output_type": "stream",
     "text": [
      "수기 검정\n",
      "유효한 데이터 개수 : 10, 검정통계량 5\n"
     ]
    }
   ],
   "source": [
    "# 데이터의 중앙값으로 알려진 M0 = 200 일 때 가설검정\n",
    "# H0 : 데이터의 중앙값은 200과 차이가 없다. \n",
    "# H1 : 데이터의 중앙값은 200과 차이가 있다.\n",
    "\n",
    "print(\"수기 검정\")\n",
    "import numpy as np\n",
    "data = np.array([203,204,197,195,201,205,198,199,194,207]) # 데이터\n",
    "M0 = 200 # 귀무가설의 중앙값\n",
    "\n",
    "# 검정통꼐량 계산하기\n",
    "df = pd.DataFrame(data-M0, columns = ['d'])\n",
    "df = df.query(\"d !=0\")\n",
    "plus = len(df.query(\"d > 0\")) # 통계량 \n",
    "minus = len(df.query(\"d < 0 \"))\n",
    "n = len(df) # 유효 데이터 개수\n",
    "print(f\"유효한 데이터 개수 : {n}, 검정통계량 {plus}\")"
   ]
  },
  {
   "cell_type": "code",
   "execution_count": 114,
   "id": "7e02bc7b-76a7-4159-bad8-1e93c15f9186",
   "metadata": {},
   "outputs": [
    {
     "name": "stdout",
     "output_type": "stream",
     "text": [
      "이항분포 기반\n",
      "         X      prob     value\n",
      "0    0.0  0.000977  0.000000\n",
      "1    1.0  0.009766  0.009766\n",
      "2    2.0  0.043945  0.087891\n",
      "3    3.0  0.117188  0.351562\n",
      "4    4.0  0.205078  0.820312\n",
      "5    5.0  0.246094  1.230469\n",
      "6    6.0  0.205078  1.230469\n",
      "7    7.0  0.117187  0.820312\n",
      "8    8.0  0.043945  0.351563\n",
      "9    9.0  0.009766  0.087891\n",
      "10  10.0  0.000977  0.009766\n"
     ]
    }
   ],
   "source": [
    "# plus  부호의 개수, 즉 검정통계량 B는 B(n, p=0.5)인 이항분포를 따른다.\n",
    "from scipy.stats import binom\n",
    "\n",
    "p = 0.5\n",
    "result = DataFrame()\n",
    "for i in range(0, n+1):\n",
    "    result.loc[i,'X'] = i\n",
    "    result.loc[i,'prob'] = binom.pmf(i,n,p)\n",
    "result['value'] = result['X'] * result['prob']\n",
    "print(\"이항분포 기반\\n \", result)\n",
    "    "
   ]
  },
  {
   "cell_type": "code",
   "execution_count": 115,
   "id": "0f062094-e225-471f-b809-053120705a39",
   "metadata": {},
   "outputs": [
    {
     "name": "stdout",
     "output_type": "stream",
     "text": [
      "기대값 4.999999999999999, 분산 2.5, (=5.0,2.5) \n"
     ]
    }
   ],
   "source": [
    "# 기대값과 분산\n",
    "mean = result.sum()['value']\n",
    "var = sum((result['X']-mean)**2 * result['prob'])\n",
    "print(f\"기대값 {mean}, 분산 {var}, (={n*p},{n*p*(1-p)}) \")"
   ]
  },
  {
   "cell_type": "code",
   "execution_count": 116,
   "id": "8c5f0f7e-8813-4eda-84ca-cb752fb4506a",
   "metadata": {},
   "outputs": [
    {
     "name": "stdout",
     "output_type": "stream",
     "text": [
      "검정통계량 5, 임계치 2~ 8\n"
     ]
    }
   ],
   "source": [
    "# 검정 통계량과 임계치\n",
    "test_a = 0.05 #유의수준 5% 양측 검정\n",
    "start = int(binom.ppf(test_a/2,n,p))\n",
    "end = int(binom.ppf(1-test_a/2,n,p))\n",
    "print(f\"검정통계량 {plus}, 임계치 {start}~ {end}\")"
   ]
  },
  {
   "cell_type": "code",
   "execution_count": 120,
   "id": "f4a449cb-6be2-41e6-9f67-253526b4e7a6",
   "metadata": {},
   "outputs": [
    {
     "name": "stdout",
     "output_type": "stream",
     "text": [
      "정규분포기반 기대값 : 5.0, 분산 : 2.5\n",
      "검정통계량 :0.0, 임계치 : +/- 1.959963984540054\n",
      "유의수준: 0.05, 유의확률 1.0\n",
      "검정 결과, 귀무가설을 채택하여 평균의 차이는 200과 차이가 없다.\n"
     ]
    }
   ],
   "source": [
    "# 정규분포 근사\n",
    "from scipy.stats import norm\n",
    "mean2 = n/2\n",
    "var2 = n/4\n",
    "s = np.sqrt(var2)\n",
    "zstat = (plus - mean2)/s # plus를 대입\n",
    "ways = 'two'\n",
    "if ways == 'two':\n",
    "    sp = (1-norm.cdf(np.abs(zstat)))*2 \n",
    "    cv = norm.ppf(1-test_a/2)\n",
    "    cv = f'+/- {cv}'\n",
    "elif ways== 'one-right':\n",
    "    sp = 1-norm.cdf(zstat)\n",
    "    cv = norm.ppf(1-test_a)\n",
    "    cv = f'{cv}'\n",
    "elif ways == 'one-left':\n",
    "    sp = norm.cdf(zstat)\n",
    "    cv = norm.ppf(test_a)\n",
    "    cv = f'{cv}'\n",
    "\n",
    "print(f\"정규분포기반 기대값 : {mean2}, 분산 : {var2}\")\n",
    "print(f\"검정통계량 :{zstat}, 임계치 : {cv}\")\n",
    "print(f\"유의수준: {test_a}, 유의확률 {sp}\")\n",
    "print(\"검정 결과, 귀무가설을 채택하여 평균의 차이는 200과 차이가 없다.\")"
   ]
  },
  {
   "cell_type": "markdown",
   "id": "6fe9b411-31ca-494c-9392-a9b3d2d58590",
   "metadata": {},
   "source": [
    "### 이표본 부호 검정 : 이항분포, Z분포\n",
    "\n",
    "n<100 이면 이항분포를 따르고 n>100 이면 정규분포를 따른다\n",
    "\n",
    "대응표본 t검정에 대응한다."
   ]
  },
  {
   "cell_type": "code",
   "execution_count": 122,
   "id": "6c96895e-f013-4fb8-b78c-b21abf06b080",
   "metadata": {},
   "outputs": [
    {
     "name": "stdout",
     "output_type": "stream",
     "text": [
      "검정\n",
      " 유효한 데이터 개수 8,plus 개수 (=검정통계량) 7\n"
     ]
    }
   ],
   "source": [
    "# A, B의 5점 척도 만족도 설문조사로부터 A의 만족도가 더 높다고 할 수 있는지 검정\n",
    "# H0 : A와 B의 만족도는 차이가 없다.\n",
    "# H1 : A의 만족도가 더 높다.\n",
    "\n",
    "print(\"검정\")\n",
    "data1 = np.array([4,3,5,2,1,3,4,3]) #A\n",
    "data2 = np.array([3,2,3,1,2,2,2,2]) #B\n",
    "M0 = 0 \n",
    "df = pd.DataFrame(data1 - data2 ,columns = ['d'])\n",
    "df = df.query(\"d != 0\")\n",
    "plus = len(df.query(\"d > 0\"))\n",
    "minus = len(df.query(\"d < 0\"))\n",
    "n = len(df)\n",
    "print(f\" 유효한 데이터 개수 {n},plus 개수 (=검정통계량) {plus}\")"
   ]
  },
  {
   "cell_type": "code",
   "execution_count": 123,
   "id": "38df55a4-e1be-4276-b75f-6683b61b6190",
   "metadata": {},
   "outputs": [
    {
     "name": "stdout",
     "output_type": "stream",
     "text": [
      "     X      prob    value\n",
      "0  0.0  0.003906  0.00000\n",
      "1  1.0  0.031250  0.03125\n",
      "2  2.0  0.109375  0.21875\n",
      "3  3.0  0.218750  0.65625\n",
      "4  4.0  0.273437  1.09375\n",
      "5  5.0  0.218750  1.09375\n",
      "6  6.0  0.109375  0.65625\n",
      "7  7.0  0.031250  0.21875\n",
      "8  8.0  0.003906  0.03125\n"
     ]
    }
   ],
   "source": [
    "# plus 부호의 개수 X는 (n, p = 0.5)인 이항분포를 따른다.\n",
    "from scipy.stats import binom\n",
    "p = 0.5\n",
    "result = DataFrame()\n",
    "for i in range(0,n+1):\n",
    "    result.loc[i,'X'] = i\n",
    "    result.loc[i, 'prob'] = binom.pmf(i,n,p)\n",
    "result['value'] = result['X'] * result['prob']\n",
    "print(result)"
   ]
  },
  {
   "cell_type": "code",
   "execution_count": 124,
   "id": "6457bad7-a432-4fb2-822a-ebfc4c8e9e01",
   "metadata": {},
   "outputs": [
    {
     "name": "stdout",
     "output_type": "stream",
     "text": [
      "기대값 3.999999999999999, 분산 2.0, (=4.0~ 2.0)\n"
     ]
    }
   ],
   "source": [
    "# 기대값과 분산\n",
    "mean = result.sum()['value']\n",
    "var = sum((result['X'] - mean) **2 * result['prob'])\n",
    "print(f\"기대값 {mean}, 분산 {var}, (={n*p}~ {n*p*(1-p)})\")"
   ]
  },
  {
   "cell_type": "code",
   "execution_count": 126,
   "id": "48fb8c0f-b37e-4be4-901a-db54058283e0",
   "metadata": {},
   "outputs": [
    {
     "name": "stdout",
     "output_type": "stream",
     "text": [
      "검정통계량 7, 임계치 1,7\n"
     ]
    }
   ],
   "source": [
    "# 검정 통계량과 임게치\n",
    "test_a = 0.05 #유의수준 5%, 양측검정\n",
    "start = int(binom.ppf(test_a/2,n,p))\n",
    "end = int(binom.ppf(1-test_a/2,n,p))\n",
    "print(f\"검정통계량 {plus}, 임계치 {start},{end}\")"
   ]
  },
  {
   "cell_type": "code",
   "execution_count": 128,
   "id": "73be494e-5872-4102-9880-7adae126ab31",
   "metadata": {},
   "outputs": [
    {
     "name": "stdout",
     "output_type": "stream",
     "text": [
      "기대값 4.0, 분산 2.0\n",
      "검정통계량 2.1213203435596424, 임계치 1.6448536269514722\n",
      "유의수준 0.05, 유의확률0.01694742676234462\n",
      "검정결과, 유의확률이 유의수준보다 낮으므로 귀무가설을 기각한다. A의 만족도가 더 높다.\n"
     ]
    }
   ],
   "source": [
    "# 정규분포 근사\n",
    "from scipy.stats import norm\n",
    "mean2 =n/2\n",
    "var2 = n/4\n",
    "s = np.sqrt(var2)\n",
    "zstat = (plus - mean2)/s \n",
    "ways = 'one-right'\n",
    "if ways =='two':\n",
    "    sp = (1-norm.cdf(np.abs(zstat)))* 2\n",
    "    cv = norm.ppf(1-test_a/2)\n",
    "    cv = f'+/- {cv}'\n",
    "elif ways == 'one-right':\n",
    "    sp = 1-norm.cdf(zstat)\n",
    "    cv = norm.ppf(1-test_a)\n",
    "    cv = f'{cv}'\n",
    "elif ways == 'one-left':\n",
    "    sp = norm.cdf(zstat)\n",
    "    cv = norm.ppf(test_a)\n",
    "    cv = f'{cv}'\n",
    "\n",
    "print(f\"기대값 {mean2}, 분산 {var2}\")\n",
    "print(f\"검정통계량 {zstat}, 임계치 {cv}\")\n",
    "print(f\"유의수준 {test_a}, 유의확률{sp}\")\n",
    "print(\"검정결과, 유의확률이 유의수준보다 낮으므로 귀무가설을 기각한다. A의 만족도가 더 높다.\")"
   ]
  },
  {
   "cell_type": "markdown",
   "id": "c7ca0e9e-3e30-4e1d-b980-c2a8f2b69724",
   "metadata": {},
   "source": [
    "### 일표본 윌콕슨 부호 순위 검정 :  윌콕슨 부호순위 검정표, Z분포\n",
    "\n",
    "n<20 이면 윌콕슨 순위합 분포를 따르고 n > 20이면 정규분포를 근사한다.\n",
    "\n",
    "일표본 t 검정에 대응한다."
   ]
  },
  {
   "cell_type": "code",
   "execution_count": 130,
   "id": "bce60c9e-f65a-40a2-8fd0-88a65dbc9fa0",
   "metadata": {},
   "outputs": [
    {
     "name": "stdout",
     "output_type": "stream",
     "text": [
      "수기 검정\n",
      "   d  sign  abs_d  rank\n",
      "0  3     1      3   4.5\n",
      "1  4     1      4   6.0\n",
      "2 -3    -1      3   4.5\n",
      "3 -5    -1      5   7.5\n",
      "4  1     1      1   1.5\n",
      "5  5     1      5   7.5\n",
      "6 -2    -1      2   3.0\n",
      "7 -1    -1      1   1.5\n",
      "8 -6    -1      6   9.0\n",
      "9  7     1      7  10.0\n"
     ]
    }
   ],
   "source": [
    "# 데이터의 중앙값으로 알려진 M0 = 200 일때 가설검정\n",
    "# H0 : 데이터의 중앙값은 200과 차이가 없다.\n",
    "# H1 :  데이터의 중앙값은 200과 차이가 있다.\n",
    "\n",
    "print(\"수기 검정\")\n",
    "data = np.array([203,204,197,195,201,205,198,199,194,207]) # 데이터\n",
    "M0 = 200 # 중앙값\n",
    "d = data - M0\n",
    "table = pd.DataFrame(d,columns = ['d'])\n",
    "n = len(table)\n",
    "table['sign'] = np.sign(table['d'])\n",
    "table['abs_d'] = table['d'].abs()\n",
    "table['rank'] = table['abs_d'].rank(method = 'average')\n",
    "print(table)"
   ]
  },
  {
   "cell_type": "code",
   "execution_count": 132,
   "id": "43009f88-3fc1-4bd5-9da3-380ce298e5f4",
   "metadata": {},
   "outputs": [
    {
     "name": "stdout",
     "output_type": "stream",
     "text": [
      "윌콕슨 부호 순위 분포 기반\n",
      "유효한 데이터 개수 10, 검정 통계량 25.5\n"
     ]
    }
   ],
   "source": [
    "plus = table.query(\"sign==1\")['rank'].sum()\n",
    "minus = table.query(\"sign==-1\")['rank'].sum()\n",
    "stat = np.minimum(plus, minus) # 부호의 개수가 더 적은 것을 검정통계량으로 사용\n",
    "print(\"윌콕슨 부호 순위 분포 기반\")\n",
    "print(f\"유효한 데이터 개수 {n}, 검정 통계량 {stat}\")\n"
   ]
  },
  {
   "cell_type": "code",
   "execution_count": 135,
   "id": "95dc0c2d-e9d2-4e95-b7c7-bcfc482df7d3",
   "metadata": {},
   "outputs": [
    {
     "name": "stdout",
     "output_type": "stream",
     "text": [
      "라이브러리 검정\n",
      "검정통계량 25.5, p-value 0.845703125 \n"
     ]
    }
   ],
   "source": [
    "print('라이브러리 검정')\n",
    "from scipy.stats import wilcoxon\n",
    "stat, p = wilcoxon([M0 for i in range(len(data))], data)\n",
    "print(f\"검정통계량 {stat}, p-value {p} \")"
   ]
  },
  {
   "cell_type": "code",
   "execution_count": 141,
   "id": "b4d193e5-f76c-455f-a58f-876f9acd3adf",
   "metadata": {},
   "outputs": [
    {
     "name": "stdout",
     "output_type": "stream",
     "text": [
      "정규분포 근사 기대값 27.5, 분산은 96.25\n",
      "검정통계량 -0.20385887657505022, 임계치 +/-1.959963984540054\n",
      "유의수준 :0.05, 유의확률 0.8384637819224636\n"
     ]
    }
   ],
   "source": [
    "# 정규 근사\n",
    "wstat = np.minimum(plus, minus) #작은쪽을 검정통계량 \n",
    "mean = n*(n+1)/4\n",
    "var = n * (n+1)*(2*n+1)/24\n",
    "s = np.sqrt(var)\n",
    "zstat = (wstat - mean) /s \n",
    "ways = 'two'\n",
    "if ways == 'two':\n",
    "    sp = (1-norm.cdf(np.abs(zstat)))*2 \n",
    "    cv = norm.ppf(1-test_a/2)\n",
    "    cv = f'+/-{cv}'\n",
    "elif ways =='one-right':\n",
    "    sp = 1-norm.cdf(zstat)\n",
    "    cv = norm.ppf(1-test_a)\n",
    "    cv = f'{cv}'\n",
    "elif ways =='one-left':\n",
    "    sp = norm.cdf(zstat)\n",
    "    cv = norm.ppf(test_a)\n",
    "    cv = f'{cv}'\n",
    "\n",
    "print(f\"정규분포 근사 기대값 {mean}, 분산은 {var}\")\n",
    "print(f\"검정통계량 {zstat}, 임계치 {cv}\")\n",
    "print(f\"유의수준 :{test_a}, 유의확률 {sp}\")\n",
    "\n",
    "# 유의확률이 유의수준보다 높아 귀무가설을 기각하지 못하였다 그러므로 데이터의 중앙값은 200과 차이가 없다."
   ]
  },
  {
   "cell_type": "markdown",
   "id": "8c24679d-54bf-4334-b70b-e3d1c19d2005",
   "metadata": {},
   "source": [
    "### 이표본 윌콕슨 부호순위 검정 : 윌콕슨 부호순위 검정표, Z분포\n",
    "\n",
    "n < 20이면 윌콕슨 순위합 분포를 따르고, n > 20이면 정규분포를 근사한다.\n",
    "\n",
    "대응표본 t검정에 대응한다."
   ]
  },
  {
   "cell_type": "code",
   "execution_count": 142,
   "id": "408214ce-82d7-439c-8d31-b2256f3d6e78",
   "metadata": {},
   "outputs": [
    {
     "name": "stdout",
     "output_type": "stream",
     "text": [
      "수기 검정\n",
      "부호순위 계산표 : \n",
      "    d  sign  abs_d  rank\n",
      "0   9     1      9   6.0\n",
      "1   8     1      8   5.0\n",
      "2  12     1     12   7.0\n",
      "3  -5    -1      5   2.0\n",
      "4  13     1     13   8.0\n",
      "5  -4    -1      4   1.0\n",
      "6   6     1      6   3.0\n",
      "7   7     1      7   4.0\n"
     ]
    }
   ],
   "source": [
    "# 동일한 피험자 8명에게 맥박을 2번 측정하였을 때, \n",
    "# H0 : 1번째 측정값과 2번째 측정값은 차이가 없다. H1 : 차이가 있다.\n",
    "print(\"수기 검정\")\n",
    "data1 = np.array([79,96,85,69,88,75,83,88])\n",
    "data2 = np.array([70,88,73,74,75,79,77,81])\n",
    "d = data1 -data2\n",
    "table = pd.DataFrame(d, columns = ['d'])\n",
    "table = table.query(\"d != 0\")\n",
    "n = len(table)\n",
    "table['sign'] = np.sign(table['d'])\n",
    "table['abs_d'] = table['d'].abs()\n",
    "table['rank'] = table['abs_d'].rank(method='average')\n",
    "print(f\"부호순위 계산표 : \\n{table}\")"
   ]
  },
  {
   "cell_type": "code",
   "execution_count": 144,
   "id": "edd261db-4703-4b4e-9c39-1351022e7f64",
   "metadata": {},
   "outputs": [
    {
     "name": "stdout",
     "output_type": "stream",
     "text": [
      "윌콕슨 부호 순위 분포 기반\n",
      "유효한 데이터 개수 8, 검정통계량 3.0\n"
     ]
    }
   ],
   "source": [
    "plus = table.query(\"sign == 1\")['rank'].sum()\n",
    "minus = table.query(\"sign== -1\")['rank'].sum()\n",
    "stat = np.minimum(plus,minus) # 부호의 개수가 더 적은 것을 검정통계량으로 사용\n",
    "print(\"윌콕슨 부호 순위 분포 기반\" )\n",
    "print(f\"유효한 데이터 개수 {n}, 검정통계량 {stat}\")"
   ]
  },
  {
   "cell_type": "code",
   "execution_count": 145,
   "id": "e98a31cf-f2a9-4ea7-9773-82a42a72c01d",
   "metadata": {},
   "outputs": [
    {
     "name": "stdout",
     "output_type": "stream",
     "text": [
      "라이브러리 검정\n",
      "검정 통계량3.0, p-value 0.0390625\n"
     ]
    }
   ],
   "source": [
    "print(\"라이브러리 검정\")\n",
    "from scipy.stats import wilcoxon\n",
    "stat , p = wilcoxon(data1,data2,zero_method='wilcox')\n",
    "print(f\"검정 통계량{stat}, p-value {p}\")"
   ]
  },
  {
   "cell_type": "code",
   "execution_count": 147,
   "id": "39ae2e90-5019-4956-8355-f6f8060b5315",
   "metadata": {},
   "outputs": [
    {
     "name": "stdout",
     "output_type": "stream",
     "text": [
      "정규분포 기반 기대값 18.0, 분산 51.0\n",
      "검정통계량 -2.100420126042015, 임계치  +/- 1.959963984540054\n",
      "유의 수준 0.05, 유의 확률 0.03569190011680434\n",
      "검정결과 귀무가설을 기각하여 1번째 측정값과 2번째 측정값의 차이가 있다.\n"
     ]
    }
   ],
   "source": [
    "# 정규 근사 \n",
    "wstat = np.minimum(plus, minus) # 작은쪽을 검정 통계량으로\n",
    "mean = n * (n+1) / 4\n",
    "var = n * (n+1) * (2 * n +1) / 24\n",
    "s = np.sqrt(var)\n",
    "zstat = (wstat - mean)/s\n",
    "ways = 'two'\n",
    "if ways =='two':\n",
    "    sp = (1-norm.cdf(np.abs(zstat)))* 2\n",
    "    cv = norm.ppf(1-test_a/2)\n",
    "    cv = f' +/- {cv}'\n",
    "elif ways =='one-right':\n",
    "    sp = 1-norm.cdf(zstat)\n",
    "    cv = norm.ppf(1-test_a)\n",
    "    cv = f'{cv}'\n",
    "elif ways == 'one-left':\n",
    "    sp = norm.cdf(zstat)\n",
    "    cv = norm.ppf(test_a)\n",
    "    cv = f'{cv}'\n",
    "\n",
    "print(f\"정규분포 기반 기대값 {mean}, 분산 {var}\")\n",
    "print(f\"검정통계량 {zstat}, 임계치 {cv}\")\n",
    "print(f\"유의 수준 {test_a}, 유의 확률 {sp}\")\n",
    "print(\"검정결과 귀무가설을 기각하여 1번째 측정값과 2번째 측정값의 차이가 있다.\")"
   ]
  },
  {
   "cell_type": "markdown",
   "id": "da2c2751-f743-4061-a4a8-920087bd845b",
   "metadata": {},
   "source": [
    "### 윌콕슨 순위합 검정(만 위트니U 검정) :  윌콕슨 순위함 검정표, Z분포\n",
    "\n",
    "n <25 이면 순위합 분포를 따르고, n > 25이면 정규분포에 근사한다.\n",
    "\n",
    "독립표본 t 검정에 대응한다.     \n",
    "만위트니U검정와 동일한 결과를 얻는다.\n"
   ]
  },
  {
   "cell_type": "code",
   "execution_count": 149,
   "id": "615dc8f1-cea7-40c7-8b44-8f09e6245dfd",
   "metadata": {},
   "outputs": [
    {
     "name": "stdout",
     "output_type": "stream",
     "text": [
      "수기 검정\n",
      "   data     M  rank\n",
      "0    87  87.0   8.5\n",
      "1    75  87.0   4.0\n",
      "2    65  87.0   2.0\n",
      "3    95  87.0  13.0\n",
      "4    90  87.0  10.5\n",
      "5    81  87.0   5.0\n",
      "6    93  87.0  12.0\n",
      "0    57  84.0   1.0\n",
      "1    85  84.0   7.0\n",
      "2    90  84.0  10.5\n",
      "3    83  84.0   6.0\n",
      "4    87  84.0   8.5\n",
      "5    71  84.0   3.0\n"
     ]
    }
   ],
   "source": [
    "# 팀 별 영업성적이 차이가 있는지 검정\n",
    "# H0 : 성적 차이가 없다. 두 A, B 중앙값의 차이는 0이다.\n",
    "# H1 : 성적차이가 있다. 두 A,B 중앙값의 차이는 0이 아니다.\n",
    "\n",
    "data1 = [87,75,65,95,90,81,93]\n",
    "data2 = [57,85,90,83,87,71]\n",
    "\n",
    "n1 = len(data1)\n",
    "n2 = len(data2)\n",
    "M1 = np.median(data1)\n",
    "M2 = np.median(data2)\n",
    "\n",
    "print(\"수기 검정\")\n",
    "table1 = pd.DataFrame(data1, columns = ['data'])\n",
    "table1['M'] = M1\n",
    "table2 = pd.DataFrame(data2, columns = ['data'])\n",
    "table2['M'] = M2\n",
    "table = pd.concat([table1,table2])\n",
    "table['rank']= table['data'].rank(method='average')\n",
    "print(table)\n"
   ]
  },
  {
   "cell_type": "code",
   "execution_count": 151,
   "id": "924fcbe8-69d8-400d-8153-e13b2d6fbc13",
   "metadata": {},
   "outputs": [
    {
     "name": "stdout",
     "output_type": "stream",
     "text": [
      "자료의 개수 (7, 6)\n",
      "순위합 검정 통계량 (55.0, 36.0)\n",
      "만위트니 검정 통계량 (27.0, 15.0)\n"
     ]
    }
   ],
   "source": [
    "W1 = table.query(\"M==@M1\")['rank'].sum() # 순위합 검정통계량1\n",
    "W2 = table.query(\"M==@M2\")['rank'].sum()\n",
    "U1 = W1 - n1 * (n1+1)/2 # 만위트니 검정 통계량\n",
    "U2 = W2 - n2 * (n2+1)/2 \n",
    "print(f\"자료의 개수 { n1,n2}\")\n",
    "print(f\"순위합 검정 통계량 {W1, W2}\")\n",
    "print(f\"만위트니 검정 통계량 {U1,U2}\")"
   ]
  },
  {
   "cell_type": "code",
   "execution_count": 153,
   "id": "b5b46a3d-47f5-44aa-9186-fcc7942f0ffb",
   "metadata": {},
   "outputs": [
    {
     "name": "stdout",
     "output_type": "stream",
     "text": [
      "라이브러리 검정\n",
      "순위합 정규근사 검정 통계량0.8571428571428571, p-value 0.39136593830755195\n",
      "만 위트니 검정통계량 27.0, p-value 0.43076586096421876\n"
     ]
    }
   ],
   "source": [
    "print(\"라이브러리 검정\")\n",
    "from scipy.stats import ranksums, mannwhitneyu\n",
    "zstat, p = ranksums(data1,data2) # default : alternative = 'two-sided'\n",
    "print(f\"순위합 정규근사 검정 통계량{zstat}, p-value {p}\")\n",
    "mstat, p = mannwhitneyu(data1,data2, alternative='two-sided')\n",
    "print(f\"만 위트니 검정통계량 {mstat}, p-value {p}\")"
   ]
  },
  {
   "cell_type": "code",
   "execution_count": 162,
   "id": "5f8ae3f1-647a-4182-8e4b-57ad9b03aeb1",
   "metadata": {},
   "outputs": [
    {
     "name": "stdout",
     "output_type": "stream",
     "text": [
      "정규 분포 기반 가설 검정 기대값 : 21.0, 분산 : 49.0\n",
      "검정통계량 0.8571428571428571, 임계값+/- 1.959963984540054\n",
      "유의수준 0.05, 유의확률 0.39136593830755206\n",
      "검정 결과, 귀무가설을 기각하지 못한다. 그러므로 두 성적의 차이는 없다고 결론을 얻었다.\n"
     ]
    }
   ],
   "source": [
    "# 정규 근사 \n",
    "mean = n1 * n2 /2\n",
    "var =n1 * n2 * (n1+n2+1)/12\n",
    "s = np.sqrt(var)\n",
    "Z1 = (U1 -mean)/s # 만위트니 검정 통게량 \n",
    "Z2 = (U2 - mean)/s \n",
    "test_a = 0.05\n",
    "zstat = Z1 # Z1과 Z2는 부호만 다르고 같은 값\n",
    "ways= 'two'\n",
    "if ways =='two':\n",
    "    sp = (1-norm.cdf(np.abs(zstat)))*2\n",
    "    cv = norm.ppf(1-test_a/2)\n",
    "    cv = f'+/- {cv}'\n",
    "elif ways =='one-right':\n",
    "    sp = 1-norm.cdf(zstat)\n",
    "    cv = norm.ppf(1-test_a)\n",
    "    cv = f'{cv}'\n",
    "elif ways == 'one-left':\n",
    "    sp = norm.cdf(zstat)\n",
    "    cv = norm.ppf(test_a)\n",
    "    cv = f'{cv}'\n",
    "\n",
    "print(f\"정규 분포 기반 가설 검정 기대값 : {mean}, 분산 : {var}\")\n",
    "print(f\"검정통계량 {zstat}, 임계값{cv}\")\n",
    "print(f\"유의수준 {test_a}, 유의확률 {sp}\")\n",
    "\n",
    "print(\"검정 결과, 귀무가설을 기각하지 못한다. 그러므로 두 성적의 차이는 없다고 결론을 얻었다.\")"
   ]
  },
  {
   "cell_type": "markdown",
   "id": "46bb068f-d79d-4dd2-bfe2-4c9fed47d5a4",
   "metadata": {},
   "source": [
    "### K 표본 순위 데이터 검정\n",
    "### 크러스컬 윌리스 검정 :크러스컬 윌리스 검정표, 카이제곱 분포\n",
    "세 변수 이상의 대응 관계가 없는 데이터의 차이를 검정한다. 즉 대응 관계가 없는 일원배치분산분석의 비모수 버전    \n",
    "독립표본 one-way anova이다.     \n",
    "사후검정은 윌콕슨 순위합 검정으로 진행할 수 있다.    "
   ]
  },
  {
   "cell_type": "code",
   "execution_count": 163,
   "id": "1feb779d-ea63-4925-870e-3b2be88f15e3",
   "metadata": {},
   "outputs": [
    {
     "name": "stdout",
     "output_type": "stream",
     "text": [
      "    0   1   2   3     4\n",
      "A  69  67  65  59  66.0\n",
      "B  56  63  55  40   NaN\n",
      "C  71  72  70  75   NaN\n"
     ]
    }
   ],
   "source": [
    "# A,B,C 세 사람의 모의고사 성적을 통해 성취도의 차이가 있는지 검정\n",
    "# H0 : 세 사람의 성취도는 차이가 없다.\n",
    "# H1 : 적어도 한쌍의 성취도는 차이가 있다.\n",
    "table = pd.DataFrame([[69,67,65,59,66],[56,63,55,40],[71,72,70,75]],index = ['A','B','C'])\n",
    "print(table)"
   ]
  },
  {
   "cell_type": "code",
   "execution_count": 172,
   "id": "146bad55-3c90-46f1-8589-6e079b49aa4c",
   "metadata": {},
   "outputs": [
    {
     "name": "stdout",
     "output_type": "stream",
     "text": [
      "수기 검정\n",
      "[[ 5.  6.  8. 10.  7.]\n",
      " [11.  9. 12. 13. nan]\n",
      " [ 3.  2.  4.  1. nan]]\n"
     ]
    }
   ],
   "source": [
    "print(\"수기 검정\")\n",
    "ranktable = pd.DataFrame(table.values.ravel()).rank(ascending=False).values.reshape(table.shape)\n",
    "print(ranktable)"
   ]
  },
  {
   "cell_type": "code",
   "execution_count": 175,
   "id": "8fe9175f-0a22-496c-8420-b4ff6db47b2e",
   "metadata": {},
   "outputs": [
    {
     "name": "stdout",
     "output_type": "stream",
     "text": [
      "검정통계량 10.117582417582419, p-value 0.006353234607321956\n"
     ]
    }
   ],
   "source": [
    "N = [] #범저별 데이터 개수\n",
    "R = [] #범주별 순위합\n",
    "for i in range(len(table)):\n",
    "    row = table.iloc[i,:] # 데이터프레임일대 행 추출\n",
    "    rank = ranktable[i,:] # 배열일 때 행 추출\n",
    "    ni = 0 \n",
    "    ri = 0\n",
    "    for d, r in zip(row, rank):\n",
    "        if np.isnan(d) == False:\n",
    "            ni += 1\n",
    "            ri += r # 범주별 순위합 구하기\n",
    "    N.append(ni)\n",
    "    R.append(ri)\n",
    "\n",
    "#리스트를 array로 변환\n",
    "N = np.array(N)\n",
    "R = np.array(R)\n",
    "df = len(N)-1 \n",
    "\n",
    "#가설 검정 (우측 검정)\n",
    "n = sum(N)\n",
    "H = 12/(n * (n+1)) * sum(R**2/N) - 3*(n+1) # 검정통계량\n",
    "pval = 1-chi2.cdf(H,df)\n",
    "print(f\"검정통계량 {H}, p-value {pval}\")"
   ]
  },
  {
   "cell_type": "code",
   "execution_count": 179,
   "id": "e7eb9d07-f630-4c23-941a-841ecc01dbb3",
   "metadata": {},
   "outputs": [
    {
     "name": "stdout",
     "output_type": "stream",
     "text": [
      "라이브러리 검정\n",
      "검정통계량 10.117582417582419, p-value 0.006353234607321947\n",
      "검정결과 귀무가설을 기각하여 적어도 한쌍의 성취도 차이가 존재한다는 결론을 얻었다.\n"
     ]
    }
   ],
   "source": [
    "from scipy.stats import kruskal\n",
    "print(\"라이브러리 검정\")\n",
    "# nan_policy = 'omit' 으로 설정하면 nan 값은 제거하고 자동 계산\n",
    "stat, p = kruskal(table.values[0], table.values[1], table.values[2], nan_policy = 'omit')\n",
    "print(f\"검정통계량 {stat}, p-value {p}\")\n",
    "\n",
    "print(\"검정결과 귀무가설을 기각하여 적어도 한쌍의 성취도 차이가 존재한다는 결론을 얻었다.\")"
   ]
  },
  {
   "cell_type": "code",
   "execution_count": 190,
   "id": "5b7a0bbb-a997-4f24-963e-7be372b2f8f9",
   "metadata": {},
   "outputs": [
    {
     "data": {
      "text/html": [
       "<div>\n",
       "<style scoped>\n",
       "    .dataframe tbody tr th:only-of-type {\n",
       "        vertical-align: middle;\n",
       "    }\n",
       "\n",
       "    .dataframe tbody tr th {\n",
       "        vertical-align: top;\n",
       "    }\n",
       "\n",
       "    .dataframe thead th {\n",
       "        text-align: right;\n",
       "    }\n",
       "</style>\n",
       "<table border=\"1\" class=\"dataframe\">\n",
       "  <thead>\n",
       "    <tr style=\"text-align: right;\">\n",
       "      <th></th>\n",
       "      <th>0</th>\n",
       "      <th>1</th>\n",
       "      <th>2</th>\n",
       "      <th>3</th>\n",
       "    </tr>\n",
       "  </thead>\n",
       "  <tbody>\n",
       "    <tr>\n",
       "      <th>A</th>\n",
       "      <td>69</td>\n",
       "      <td>67</td>\n",
       "      <td>65</td>\n",
       "      <td>59</td>\n",
       "    </tr>\n",
       "    <tr>\n",
       "      <th>B</th>\n",
       "      <td>56</td>\n",
       "      <td>63</td>\n",
       "      <td>55</td>\n",
       "      <td>40</td>\n",
       "    </tr>\n",
       "    <tr>\n",
       "      <th>C</th>\n",
       "      <td>71</td>\n",
       "      <td>72</td>\n",
       "      <td>70</td>\n",
       "      <td>75</td>\n",
       "    </tr>\n",
       "  </tbody>\n",
       "</table>\n",
       "</div>"
      ],
      "text/plain": [
       "    0   1   2   3\n",
       "A  69  67  65  59\n",
       "B  56  63  55  40\n",
       "C  71  72  70  75"
      ]
     },
     "execution_count": 190,
     "metadata": {},
     "output_type": "execute_result"
    }
   ],
   "source": [
    "table=table.drop(columns=4)"
   ]
  },
  {
   "cell_type": "code",
   "execution_count": 194,
   "id": "411763e5-f7d2-4565-984d-c34a50d50a48",
   "metadata": {},
   "outputs": [
    {
     "name": "stdout",
     "output_type": "stream",
     "text": [
      " A ~ B : 검정통계량2.0207259421636903, p-value 0.043308142810791955/*****\n",
      " A ~ C : 검정통계량-2.3094010767585034, p-value 0.020921335337794014/*****\n",
      " B ~ C : 검정통계량-2.3094010767585034, p-value 0.020921335337794014/*****\n"
     ]
    }
   ],
   "source": [
    "# 사후검정 : 모든 조합 별 윌콕슨 순위합 검정에서는 A -C의 조합에서 유의한 차이가 있는것으로 나타났다.\n",
    "# table=table.drop(columns=4)\n",
    "from itertools import combinations\n",
    "col_comp = list(combinations(table.index,2))\n",
    "\n",
    "from scipy.stats import ranksums\n",
    "for s1, s2 in col_comp:\n",
    "    stat, p = ranksums(table.loc[s1,:], table.loc[s2,:])\n",
    "    msg = f\" {s1} ~ {s2} : 검정통계량{stat}, p-value {p}\"\n",
    "    if p < 0.05:\n",
    "        print(msg + \"/*****\")\n",
    "    else: \n",
    "        print(msg)\n",
    "# 귀무가설을 기각한다. 차이가 있다. "
   ]
  },
  {
   "cell_type": "markdown",
   "id": "9a0c9341-bb30-4d8f-8c91-782c91f948f2",
   "metadata": {},
   "source": [
    "### 프리드먼 검정 : 프리드먼 검정표 , 카이제곱분포\n",
    "세 변수 이상의 대응관계가 있는 데이터의 차이를 검정한다. 즉 paired one-way anova     \n",
    "사후검정은 윌콕슨의 부호순위검정으로 진행\n",
    "\n"
   ]
  },
  {
   "cell_type": "code",
   "execution_count": 197,
   "id": "e38dc6c1-46a7-44d9-a3ca-5cc4d5e553aa",
   "metadata": {},
   "outputs": [
    {
     "name": "stdout",
     "output_type": "stream",
     "text": [
      "   0  1  2\n",
      "A  4  2  5\n",
      "B  3  5  2\n",
      "C  5  4  4\n",
      "D  1  1  3\n"
     ]
    }
   ],
   "source": [
    "# 운전자 A,B,C,D의 운전 점수에서 차이가 있는지 검정\n",
    "# H0 : 네 운전자의 운전 점수는 차이가 없다.\n",
    "# H1 : 적어도 한쌍의 운전자의 운전 점수는 차이가 있다.\n",
    "from scipy.stats import friedmanchisquare\n",
    "table = pd.DataFrame([[4,2,5],[3,5,2],[5,4,4],[1,1,3]], index=['A','B','C','D'])\n",
    "print(table)"
   ]
  },
  {
   "cell_type": "code",
   "execution_count": 198,
   "id": "e896262f-f6b1-4119-bc39-0e365cafc732",
   "metadata": {},
   "outputs": [],
   "source": [
    "# 수기검정\n",
    "srtable = table.rank(ascending=False)"
   ]
  },
  {
   "cell_type": "code",
   "execution_count": 199,
   "id": "6b0be7ae-5325-48e6-bf44-e73913aad41f",
   "metadata": {},
   "outputs": [
    {
     "data": {
      "text/html": [
       "<div>\n",
       "<style scoped>\n",
       "    .dataframe tbody tr th:only-of-type {\n",
       "        vertical-align: middle;\n",
       "    }\n",
       "\n",
       "    .dataframe tbody tr th {\n",
       "        vertical-align: top;\n",
       "    }\n",
       "\n",
       "    .dataframe thead th {\n",
       "        text-align: right;\n",
       "    }\n",
       "</style>\n",
       "<table border=\"1\" class=\"dataframe\">\n",
       "  <thead>\n",
       "    <tr style=\"text-align: right;\">\n",
       "      <th></th>\n",
       "      <th>0</th>\n",
       "      <th>1</th>\n",
       "      <th>2</th>\n",
       "    </tr>\n",
       "  </thead>\n",
       "  <tbody>\n",
       "    <tr>\n",
       "      <th>A</th>\n",
       "      <td>2.0</td>\n",
       "      <td>3.0</td>\n",
       "      <td>1.0</td>\n",
       "    </tr>\n",
       "    <tr>\n",
       "      <th>B</th>\n",
       "      <td>3.0</td>\n",
       "      <td>1.0</td>\n",
       "      <td>4.0</td>\n",
       "    </tr>\n",
       "    <tr>\n",
       "      <th>C</th>\n",
       "      <td>1.0</td>\n",
       "      <td>2.0</td>\n",
       "      <td>2.0</td>\n",
       "    </tr>\n",
       "    <tr>\n",
       "      <th>D</th>\n",
       "      <td>4.0</td>\n",
       "      <td>4.0</td>\n",
       "      <td>3.0</td>\n",
       "    </tr>\n",
       "  </tbody>\n",
       "</table>\n",
       "</div>"
      ],
      "text/plain": [
       "     0    1    2\n",
       "A  2.0  3.0  1.0\n",
       "B  3.0  1.0  4.0\n",
       "C  1.0  2.0  2.0\n",
       "D  4.0  4.0  3.0"
      ]
     },
     "execution_count": 199,
     "metadata": {},
     "output_type": "execute_result"
    }
   ],
   "source": [
    "srtable"
   ]
  },
  {
   "cell_type": "code",
   "execution_count": 205,
   "id": "ef37cfda-3c0e-430d-9196-552a3c35c891",
   "metadata": {},
   "outputs": [
    {
     "name": "stdout",
     "output_type": "stream",
     "text": [
      "검정통계량 4.200000000000003, p-value 0.24066188520961496\n"
     ]
    }
   ],
   "source": [
    "R = srtable.sum(axis=1).values # 행범주별 순위합\n",
    "n = table.shape[1]\n",
    "k = table.shape[0]\n",
    "df = k- 1\n",
    "\n",
    "# 가설검정(우측검정)\n",
    "Q = 12/(n*k*(k+1) ) * sum(R**2) -3 * n * (k+1) # 검정통계량\n",
    "pval = 1-chi2.cdf(Q,df) # 우측\n",
    "print(f\"검정통계량 {Q}, p-value {pval}\")"
   ]
  },
  {
   "cell_type": "code",
   "execution_count": 209,
   "id": "d9e2819e-eac9-4caf-83ae-d507615f8ad4",
   "metadata": {},
   "outputs": [
    {
     "name": "stdout",
     "output_type": "stream",
     "text": [
      "검정통계량4.200000000000003, p-value 0.24066188520961498\n"
     ]
    }
   ],
   "source": [
    "# 라이브러리\n",
    "stat, p =friedmanchisquare(table.values[0], table.values[1],table.values[2], table.values[3])\n",
    "print(f\"검정통계량{stat}, p-value {p}\")"
   ]
  },
  {
   "cell_type": "code",
   "execution_count": 211,
   "id": "4c7fe65d-260b-46f0-9545-81fed5cfa058",
   "metadata": {},
   "outputs": [
    {
     "name": "stdout",
     "output_type": "stream",
     "text": [
      "A-B 검정통계량 2.5, p-value 1.0\n",
      "A-C 검정통계량 1.5, p-value 0.5\n",
      "A-D 검정통계량 0.0, p-value 0.25\n",
      "B-C 검정통계량 1.0, p-value 0.5\n",
      "B-D 검정통계량 1.0, p-value 0.5\n",
      "C-D 검정통계량 0.0, p-value 0.25\n"
     ]
    }
   ],
   "source": [
    "# 사후검정 : 모든 조합 별 윌콕슨 부호순위 검정에서도 모든 쌍에서 유의한 차이가 없는 것으로 나타났다.\n",
    "\n",
    "from itertools import combinations\n",
    "col_comp = list(combinations(table.index,2))\n",
    "\n",
    "from scipy.stats import wilcoxon\n",
    "for s1,s2 in col_comp:\n",
    "    stat,p = wilcoxon(table.loc[s1,:], table.loc[s2,:], zero_method='wilcox')\n",
    "    msg = f\"{s1}-{s2} 검정통계량 {stat}, p-value {p}\"\n",
    "    if p< 0.05:\n",
    "        print(msg + \"****\")\n",
    "    else:\n",
    "        print(msg)\n",
    "\n",
    "## 모두 귀무가설을 기각하지 않으므로 차이가 없다. "
   ]
  },
  {
   "cell_type": "code",
   "execution_count": null,
   "id": "96fbc331-7059-4dc7-906b-4591d8a2993f",
   "metadata": {},
   "outputs": [],
   "source": []
  }
 ],
 "metadata": {
  "kernelspec": {
   "display_name": "Python 3 (ipykernel)",
   "language": "python",
   "name": "python3"
  },
  "language_info": {
   "codemirror_mode": {
    "name": "ipython",
    "version": 3
   },
   "file_extension": ".py",
   "mimetype": "text/x-python",
   "name": "python",
   "nbconvert_exporter": "python",
   "pygments_lexer": "ipython3",
   "version": "3.11.5"
  }
 },
 "nbformat": 4,
 "nbformat_minor": 5
}
