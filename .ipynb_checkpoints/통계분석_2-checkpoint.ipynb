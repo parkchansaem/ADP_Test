{
 "cells": [
  {
   "cell_type": "code",
   "execution_count": 1,
   "metadata": {},
   "outputs": [],
   "source": [
    "# 파일 합치기 위한 별도 파일"
   ]
  },
  {
   "cell_type": "markdown",
   "metadata": {},
   "source": [
    "# 기하 분포 \n",
    "\n",
    "(1) 확률변수 X = 시행횟수\n",
    "- $f(x) = p(1-p)^{x-1}, x=1,2,3,...$\n",
    "- $E(X) = 1/p$\n",
    "- $Var(X) = (1-p)/p^2$\n",
    "  \n",
    "(2) 확률변수 X = 실패횟수\n",
    "- $f(x) = p(1-p)^x, x=0,1,2,...$\n",
    "- $E(X) = (1-P)/p$\n",
    "- $Var(X) = (1-p)/p^2$"
   ]
  },
  {
   "cell_type": "code",
   "execution_count": 4,
   "metadata": {},
   "outputs": [
    {
     "name": "stdout",
     "output_type": "stream",
     "text": [
      "해당 분포의 기대값은 6.0, 분산은 30.000000000000004\n",
      "라이브러리 - 해당 분포의 기대값은 6.0, 분산은 30.000000000000007 \n",
      "\n",
      "확률질량함수(pmf): 0.11574074074074076\n",
      "라이브러리 - 확률질량함수(pmf) : 0.11574074074074076\n",
      "\n",
      "누적확률질량함수(cdf) : 0.42129629629629634\n",
      "라이브러리 - 누적확률질량함수(cdf): 0.4212962962962963\n",
      "\n"
     ]
    }
   ],
   "source": [
    "# 기하 분포\n",
    "# 하나의 주사위를 세번 던질 때 세번째 시행에서 앞면 숫자가 6이 나올 확률은?\n",
    "from scipy.stats import geom\n",
    "n = 3 # 총 시행횟수\n",
    "p = 1/6 #성공확률\n",
    "q = 1-p # 실패확률\n",
    "\n",
    "case = 1\n",
    "if case ==1 : # 확률변수 x가 처음으로 성공할 때까지의 시행횟수 x인 경우\n",
    "    x = n # **확률변수\n",
    "    E = 1/p\n",
    "    V = q/p**2\n",
    "    pmf = p*q**(x-1)\n",
    "    E2 ,V2 = geom.stats(p, moments = 'mv') # mean, variance\n",
    "    pkg_pmf, pkg_cdf = geom.pmf(x,p), geom.cdf(x,p) \n",
    "    cdf = 0\n",
    "    for i in range(1,x+1): # 확률변수의 확류값들의 합\n",
    "        cdf += q**(i-1) * p\n",
    "\n",
    "elif case ==2: # 확률변수 X가 처음으로 성공할 때까지의 실패횟수 x인 경우\n",
    "    x = n-1 # **확률변수\n",
    "    E = q/p\n",
    "    V = q/p**2\n",
    "    pmf = p* q**x\n",
    "    E2, V2 = np.nan, np.nan # 라이브러리 지원 안함\n",
    "    pkg_pmf, pkf_cdf = np.nan, np.nan\n",
    "    cdf = 0 \n",
    "    for i in range(0,x+1):\n",
    "        cdf += q**i *p\n",
    "\n",
    "# 기대값과 분산 계산하기 \n",
    "print(f\"해당 분포의 기대값은 {E}, 분산은 {V}\")\n",
    "print(f\"라이브러리 - 해당 분포의 기대값은 {E2}, 분산은 {V2} \\n\")\n",
    "\n",
    "# 확률질량함수 계산하기\n",
    "print(f\"확률질량함수(pmf): {pmf}\")\n",
    "print(f\"라이브러리 - 확률질량함수(pmf) : {pkg_pmf}\\n\")\n",
    "\n",
    "# 누적확률질량함수 계산하기\n",
    "print(f\"누적확률질량함수(cdf) : {cdf}\")\n",
    "print(f\"라이브러리 - 누적확률질량함수(cdf): {pkg_cdf}\\n\")\n",
    "    \n",
    "    "
   ]
  },
  {
   "cell_type": "markdown",
   "metadata": {},
   "source": [
    "# 초기하분포"
   ]
  },
  {
   "cell_type": "markdown",
   "metadata": {},
   "source": [
    "초기하분포\n",
    "- $f(x) = \\frac{{}_{k}C_{x}\\; {}_{(N-k)}C_{(n-x)}}{{}_{N}C_{n}}, x=0,1,...,n$\n",
    "- $E(X) = nk/N$\n",
    "- $Var(X) = \\frac{nk}{N}\\frac{(N-k)}{N}\\frac{N-n}{N-1}$\n"
   ]
  },
  {
   "cell_type": "code",
   "execution_count": null,
   "metadata": {},
   "outputs": [],
   "source": [
    "# 초기하 분포\n",
    "from scipy.stats import hypergeom \n",
    "import math\n",
    "\n",
    "# 상자 속에 빨간 공이 90개 파란 공이 10개 들어 있다. 임의로 1개씩 두 번 꺼내고 다시 넣지 않을 때 1개가 파란공이 될 확률은?\n",
    "N = 100 #모집단 수(총 공 개수)\n",
    "k = 10 #성공요소 수"
   ]
  }
 ],
 "metadata": {
  "kernelspec": {
   "display_name": "Python 3 (ipykernel)",
   "language": "python",
   "name": "python3"
  },
  "language_info": {
   "codemirror_mode": {
    "name": "ipython",
    "version": 3
   },
   "file_extension": ".py",
   "mimetype": "text/x-python",
   "name": "python",
   "nbconvert_exporter": "python",
   "pygments_lexer": "ipython3",
   "version": "3.11.5"
  }
 },
 "nbformat": 4,
 "nbformat_minor": 4
}
