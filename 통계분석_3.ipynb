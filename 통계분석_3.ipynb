{
 "cells": [
  {
   "cell_type": "markdown",
   "id": "96d9a831-09e5-4dc8-b950-fd2d80fbdee0",
   "metadata": {},
   "source": [
    "# 연속형 확률분포 "
   ]
  },
  {
   "cell_type": "markdown",
   "id": "08c1ce77",
   "metadata": {},
   "source": [
    "## 균일분포"
   ]
  },
  {
   "cell_type": "markdown",
   "id": "169b6a58",
   "metadata": {},
   "source": [
    "- $f(x) = 1/(b-a), \\quad a<x<b$\n",
    "- $E(X) = (a+b)/2$\n",
    "- $Var(X) = (b-a)^2/12$"
   ]
  },
  {
   "cell_type": "code",
   "execution_count": 5,
   "id": "9df690b0",
   "metadata": {},
   "outputs": [
    {
     "name": "stdout",
     "output_type": "stream",
     "text": [
      "12 15\n",
      "범위 내 누적확률은 0.30000000000000004\n",
      "해당 분포의 기대값은 10.0, 해당 분포의 분산은 8.333333333333334 \n"
     ]
    }
   ],
   "source": [
    "# 균일분포\n",
    "# 확률변수 X가 (5,15)에서 균일분포를 따를 때 12와 15 사이의 확률은?\n",
    "a = 5 # 확률변수의 범위\n",
    "b = 15 # 확률변수의 범위\n",
    "range_ = [(12,15)]\n",
    "p = 1/(b-a) #확률밀도함수\n",
    "cdf = 0\n",
    "for (x1, x2) in range_:\n",
    "    print(x1,x2)\n",
    "    cdf += (x2-x1) * p #누적분포함수\n",
    "E = (a+b)/2\n",
    "V = (b-a)**2/12\n",
    "print(f\"범위 내 누적확률은 {cdf}\")\n",
    "print(f\"해당 분포의 기대값은 {E}, 해당 분포의 분산은 {V} \")"
   ]
  },
  {
   "cell_type": "code",
   "execution_count": 9,
   "id": "568f9922",
   "metadata": {},
   "outputs": [
    {
     "name": "stdout",
     "output_type": "stream",
     "text": [
      "10 15\n",
      "25 30\n",
      "범위 내 누적확률은 0.3333333333333333\n",
      "해당 분포의 기대값은 15.0, 분산은 75.0\n"
     ]
    }
   ],
   "source": [
    "# 버스가 오전 7시부터 15분 간격으로 정류장을 출발한다. 한 승객이 이 정류장에 도착하는 시간은 7시에서 7시 30분 사이에 \n",
    "# 균등분포를 따른다고 할 때 이 승객이 버스를 5분 미만 기다릴 확률은?\n",
    "a = 0 # 확률변수의 범위\n",
    "b = 30 # 확률변수의 범위\n",
    "\n",
    "# 승객이 버스를 5분 미만으로 기다릴 구간 : 7시 10분 ~ 7시 15분, 7시 25분 ~ 7시 30분\n",
    "range_ = [(10,15),(25,30)] # 구할 범위\n",
    "p = 1/(b-a) #확률밀도함수\n",
    "cdf = 0\n",
    "for (x1,x2) in range_:\n",
    "    print(x1,x2)\n",
    "    cdf += (x2-x1) * p\n",
    "\n",
    "E = (b+a)/2\n",
    "V = (b-a)**2/12\n",
    "\n",
    "print(f\"범위 내 누적확률은 {cdf}\")\n",
    "print(f\"해당 분포의 기대값은 {E}, 분산은 {V}\")"
   ]
  },
  {
   "cell_type": "markdown",
   "id": "fb0a5d57",
   "metadata": {},
   "source": [
    "## 정규분포"
   ]
  },
  {
   "cell_type": "markdown",
   "id": "6fb323a4",
   "metadata": {},
   "source": [
    "- $f{x} = \\frac{1}{\\sqrt{2\\pi\\sigma}}e^{-\\frac{1}{2}(\\frac{x-\\mu}{\\sigma}^2)}, \\quad -\\infty< x< \\infty$\n",
    "- $E(X) = \\mu$\n",
    "- $Var(X) = \\sigma^2$"
   ]
  },
  {
   "cell_type": "code",
   "execution_count": 11,
   "id": "09496b31",
   "metadata": {},
   "outputs": [
    {
     "name": "stdout",
     "output_type": "stream",
     "text": [
      "범위 내 누적확률은 0.6687123293258339\n",
      "해당 분포의 기대값30 분산은 64\n"
     ]
    }
   ],
   "source": [
    "# 정규분포 \n",
    "# 확률변수 X가 정규분포 N(30,64)를 따를 때 26 ~ 46 구간의 확률은?\n",
    "from scipy.stats import norm # 표준정규분포\n",
    "import numpy as np\n",
    "E = 30 # 평균 \n",
    "V = 64 \n",
    "S = np.sqrt(V)\n",
    "x1 = 26\n",
    "x2 = 46\n",
    "zstat1 = (x1 - E)/S #표준화\n",
    "zstat2 = (x2 - E)/S #표준화\n",
    "cdf = norm.cdf(zstat2)- norm.cdf(zstat1)\n",
    "print(f\"범위 내 누적확률은 {cdf}\")\n",
    "print(f\"해당 분포의 기대값{E} 분산은 {V}\")"
   ]
  },
  {
   "cell_type": "markdown",
   "id": "33a854b9",
   "metadata": {},
   "source": [
    "## 표준정규분포"
   ]
  },
  {
   "cell_type": "markdown",
   "id": "d08e1612",
   "metadata": {},
   "source": [
    "- $f(z) = \\frac{1}{\\sqrt{2\\pi}}e^{-\\frac{z^2}{2}}, \\quad -\\infty < z < \\infty$\n",
    "- $E(Z) = 0$\n",
    "- $Var(Z) =1$"
   ]
  },
  {
   "cell_type": "code",
   "execution_count": 12,
   "id": "d385f497",
   "metadata": {},
   "outputs": [
    {
     "name": "stdout",
     "output_type": "stream",
     "text": [
      "범위 내 누적확률은 0.950004209703559\n",
      "해당 분포의 기대값0 분산은 1\n"
     ]
    }
   ],
   "source": [
    "# 표준정규분포\n",
    "# 확률변수 X가 표준정규분포를 따를 때 -1.96 ~ 1.96 구간의 확률은?\n",
    "E = 0 #평균\n",
    "V = 1 \n",
    "S = np.sqrt(V) # 표준편차\n",
    "zstat1 = -1.96\n",
    "zstat2 = 1.96\n",
    "cdf = norm.cdf(zstat2)- norm.cdf(zstat1)\n",
    "print(f\"범위 내 누적확률은 {cdf}\")\n",
    "print(f\"해당 분포의 기대값{E} 분산은 {V}\")"
   ]
  },
  {
   "cell_type": "markdown",
   "id": "27981180",
   "metadata": {},
   "source": [
    "## 지수분포"
   ]
  },
  {
   "cell_type": "markdown",
   "id": "b3de948a",
   "metadata": {},
   "source": [
    "- $f(x) = \\lambda e^{\\lambda x}, \\quad x > 0,\\lambda>0$\n",
    "- $E(X) = 1/\\lambda$\n",
    "- $Var(X) = 1/\\lambda^2$"
   ]
  },
  {
   "cell_type": "code",
   "execution_count": 33,
   "id": "7e9f33f1",
   "metadata": {},
   "outputs": [
    {
     "name": "stdout",
     "output_type": "stream",
     "text": [
      "누적확률 0.486582880967408\n",
      "해당 분포의 기대값 3.0 분산 9.0\n"
     ]
    }
   ],
   "source": [
    "# 지수분포 \n",
    "from scipy.stats import expon\n",
    "\n",
    "# 자동차들 사이 시간 간격이 평균 3분인 지수확률 분포를 따르는 경우, 연속한 두대의 차량이 도착하는 시간이 2분 이내일 확률은?\n",
    "lam = 1/3 # lambda : 단위시간 동안 평균적으로 발생한 사건 = 3분동안 1건, 1분동안 1/3건\n",
    "x = 2 # 사건이 일어날때까지 걸린 시간\n",
    "\n",
    "E = 1/lam\n",
    "V = 1/(lam**2)\n",
    "# scale에 1/lam을 입력해주어야함\n",
    "cdf = expon.cdf(x, scale = 1/lam)\n",
    "\n",
    "print(f'누적확률 {cdf}')\n",
    "print(f'해당 분포의 기대값 {E} 분산 {V}')"
   ]
  },
  {
   "cell_type": "markdown",
   "id": "f55e44f6",
   "metadata": {},
   "source": [
    "## 감마분포"
   ]
  },
  {
   "cell_type": "markdown",
   "id": "80d96209",
   "metadata": {},
   "source": [
    "- $f(x) = \\frac{1}{\\gamma(\\alpha)\\beta^{\\alpha}} x^{\\alpha-1} e^{-\\frac{x}{\\beta}}, \\quad x> 0 , \\alpha >0, \\beta >0$\n",
    "- $E(X) = \\alpha\\beta = \\alpha / \\lambda$\n",
    "- $Var(X) = \\alpha\\beta^2 = \\alpha/\\lambda^2$"
   ]
  },
  {
   "cell_type": "code",
   "execution_count": 34,
   "id": "d6634c99",
   "metadata": {},
   "outputs": [
    {
     "name": "stdout",
     "output_type": "stream",
     "text": [
      "누적확률 0.7059195777218992\n",
      "해당 분포의 기대값 2.0 분산은 1.0\n"
     ]
    }
   ],
   "source": [
    "# 감마분포\n",
    "from scipy.stats import gamma\n",
    "# 낚시를 하는데 어부가 물고기를 30분에 한마리씩 잡는다. 어부가 4마리의 물고기를 잡을 때까지 걸리는 시간이 1시간에서 3시간 사이로 소요될 확률은?\n",
    "lam = 2 # lambda :  30에 한마리 = 1시간에 두마리 잡음\n",
    "beta = 1/lam\n",
    "alpha = 4 # 4마리 물고기\n",
    "E = alpha * beta\n",
    "V = alpha * beta**2\n",
    "range_ = (1,3) # 1시간 ~ 3시간 \n",
    "\n",
    "# scale에 beta를 입력해주어야 함\n",
    "cdf = gamma.cdf(range_[1],alpha, scale=beta) - gamma.cdf(range_[0],alpha,scale=beta)\n",
    "\n",
    "print(f\"누적확률 {cdf}\")\n",
    "print(f\"해당 분포의 기대값 {E} 분산은 {V}\")"
   ]
  },
  {
   "cell_type": "code",
   "execution_count": 35,
   "id": "52edad83",
   "metadata": {},
   "outputs": [
    {
     "name": "stdout",
     "output_type": "stream",
     "text": [
      "누적확률 0.8197394858298082\n",
      "해당 분포의 기대값 12.5 분산은 7.8125 \n"
     ]
    }
   ],
   "source": [
    "# 배송 시간 alpha = 20, lambda = 1.6인 감마분포를 따를 때,\n",
    "# 20개 철판을 배송할 때 걸리는 시간이 15분 이내일 확률?\n",
    "lam = 1.6\n",
    "beta = 1/1.6\n",
    "alpha = 20\n",
    "E = alpha * beta\n",
    "V = alpha * beta**2\n",
    "range_ = (0,15)\n",
    "\n",
    "cdf = gamma.cdf(range_[1],alpha,scale = beta) - gamma.cdf(range_[0],alpha,scale=beta)\n",
    "print(f\"누적확률 {cdf}\")\n",
    "print(f\"해당 분포의 기대값 {E} 분산은 {V} \")"
   ]
  },
  {
   "cell_type": "markdown",
   "id": "40ad360c",
   "metadata": {},
   "source": [
    "## 카이제곱분포\n"
   ]
  },
  {
   "cell_type": "markdown",
   "id": "00ebe019",
   "metadata": {},
   "source": [
    "- $f(x) = \\frac{1}{\\gamma(\\frac{n}{2})2^{\\frac{n}{2}}}x^{\\frac{n}{2}-1}e^{\\frac{x}{2}}, \\quad x>0, n>0$\n",
    "- $E(X) = n$\n",
    "- $Var(X) = 2n$"
   ]
  },
  {
   "cell_type": "markdown",
   "id": "85c60ed7",
   "metadata": {},
   "source": [
    "## t분포"
   ]
  },
  {
   "cell_type": "markdown",
   "id": "9be3eea2",
   "metadata": {},
   "source": [
    "- $f(x) = \\frac{\\gamma(\\frac{k+1}{2})}{\\gamma(\\frac{k}{2})\\sqrt{\\pi k}}(1+\\frac{x^2}{k})^{-\\frac{k+1}{2}}, - \\infty < x < \\infty$ \n",
    "- $E(X) = 0$\n",
    "- $Var(X) = k/(k-2), k > 2$"
   ]
  },
  {
   "cell_type": "markdown",
   "id": "b537f247",
   "metadata": {},
   "source": [
    "## F분포"
   ]
  },
  {
   "cell_type": "markdown",
   "id": "c37f5ca9",
   "metadata": {},
   "source": [
    "- $ f(x) = \\begin{cases} \\gamma(\\frac{m+2}{2})(\\frac{m}{n})^{\\frac{m}{2}} \\cdot \\frac{x^{\\frac{m}{2}-1}}{(1+\\frac{m}{n}x)^{\\frac{m+n}{2}}}, \\quad x>0 \\\\ \\quad\\quad 0, \\quad\\quad\\quad x \\leq 0 \\end{cases}$\n",
    "- $E(X) = n/(n-2), \\quad n>2 $\n",
    "\n",
    "- $Var(X) = \\frac{2n^2(m+n-2)}{m(n-2)^2(n-4)}, \\quad n>4$"
   ]
  },
  {
   "cell_type": "markdown",
   "id": "fbaed2b1",
   "metadata": {},
   "source": [
    "---"
   ]
  },
  {
   "cell_type": "markdown",
   "id": "b7bc4a9d",
   "metadata": {},
   "source": [
    "## example"
   ]
  },
  {
   "cell_type": "markdown",
   "id": "f8f0a89b",
   "metadata": {},
   "source": [
    "1. 어느 권총 사격 선수가 과녁의 정중앙을 맞힐 확률이 80%라고 한다. 이 선수가 총 5번 사격을 할 때 평균적으로 몇번 정중앙을 맞히는지 구하시오"
   ]
  },
  {
   "cell_type": "markdown",
   "id": "9e2a9627",
   "metadata": {},
   "source": [
    "2. 전체 청소년의 40%가 11시 이전에 잠을 잔다고 한다면, 임의로 선택한 10명의 청소년 중에서 3명이 11시 이전에 잠을 잘 확률을 계산하시오(소수점 첫째짜리까지 반올림)"
   ]
  },
  {
   "cell_type": "markdown",
   "id": "5c499452",
   "metadata": {},
   "source": [
    "3. 어느 아파트 단지에서 밤 11시부터 새벽2시 사이에 배달되는 음식 배달 건수는 시간 당 평균 5건이다. 음식 배달 건수의 분포가 포아송분포를 따른다면 오늘 새벽 12시와 1시 사이에 배달이 1건만 발생할 확률을 구하시오 (소수점 둘째까지 반올림)"
   ]
  },
  {
   "cell_type": "markdown",
   "id": "318a7802",
   "metadata": {},
   "source": [
    "4. A대학교 B전공 시험의 성적 분포는 평균이 65, 표준편차 12인 정규분포를 따른다고 한다. 최고 점수부터 10%까지를 A+로 분류한다면, A+를 받기 위해 최소 몇점을 받아야 하는가?"
   ]
  },
  {
   "cell_type": "code",
   "execution_count": 5,
   "id": "e1638de6",
   "metadata": {},
   "outputs": [
    {
     "data": {
      "text/plain": [
       "4.0"
      ]
     },
     "execution_count": 5,
     "metadata": {},
     "output_type": "execute_result"
    }
   ],
   "source": [
    "#1 과녁을 정중앙에 맞힐 확률은 80%, 5번 사격하여 평균적으로 성공할 확률 -> 베르누이 시행에서 첫번째 성공까지의 확률 이항분포\n",
    "# from scipy.stats import binorm\n",
    "n = 5\n",
    "p = 0.8\n",
    "\n",
    "n*p\n"
   ]
  },
  {
   "cell_type": "code",
   "execution_count": 8,
   "id": "32fe433e",
   "metadata": {},
   "outputs": [
    {
     "data": {
      "text/plain": [
       "0.21499084799999982"
      ]
     },
     "execution_count": 8,
     "metadata": {},
     "output_type": "execute_result"
    }
   ],
   "source": [
    "#2 전체 청소년 40%가 잔다, 60% 안잔다 / 임의로 선택 10명 3명이 11시 잔다.\n",
    "p = 0.4\n",
    "# 이항 분포\n",
    "from scipy.stats import binom\n",
    "\n",
    "binom.pmf(3,10,0.4)"
   ]
  },
  {
   "cell_type": "code",
   "execution_count": 10,
   "id": "2d32ee4b",
   "metadata": {},
   "outputs": [
    {
     "data": {
      "text/plain": [
       "0.03368973499542734"
      ]
     },
     "execution_count": 10,
     "metadata": {},
     "output_type": "execute_result"
    }
   ],
   "source": [
    "#3 11~02 음식 배달 건수는 평균 5건, 음식 -> 포아송 분포\n",
    "from scipy.stats import poisson\n",
    "x = 1\n",
    "lam = 5\n",
    "\n",
    "poisson.pmf(x,5)\n"
   ]
  },
  {
   "cell_type": "code",
   "execution_count": 19,
   "id": "e0a1e699",
   "metadata": {},
   "outputs": [
    {
     "name": "stdout",
     "output_type": "stream",
     "text": [
      "80.3786187865352\n"
     ]
    }
   ],
   "source": [
    "#4 성적 분포는 정규분포를 따른다. 상위 10%의 점추정 \n",
    "mu = 65\n",
    "V = 12\n",
    "from scipy.stats import norm\n",
    "\n",
    "Z = norm.ppf(0.9)\n",
    "\n",
    "# z = (x-mu)/V\n",
    "# x = z*V/mu\n",
    "x = Z *V +mu\n",
    "print(x)"
   ]
  },
  {
   "cell_type": "code",
   "execution_count": 20,
   "id": "92b4f42e",
   "metadata": {},
   "outputs": [],
   "source": [
    "import matplotlib.pyplot as plt\n",
    "from sklearn.preprocessing import MinMaxScaler"
   ]
  },
  {
   "cell_type": "code",
   "execution_count": null,
   "id": "c5015dbd",
   "metadata": {},
   "outputs": [],
   "source": []
  }
 ],
 "metadata": {
  "hide_input": false,
  "kernelspec": {
   "display_name": "Python 3 (ipykernel)",
   "language": "python",
   "name": "python3"
  },
  "language_info": {
   "codemirror_mode": {
    "name": "ipython",
    "version": 3
   },
   "file_extension": ".py",
   "mimetype": "text/x-python",
   "name": "python",
   "nbconvert_exporter": "python",
   "pygments_lexer": "ipython3",
   "version": "3.9.10"
  },
  "toc": {
   "base_numbering": 1,
   "nav_menu": {},
   "number_sections": true,
   "sideBar": true,
   "skip_h1_title": false,
   "title_cell": "Table of Contents",
   "title_sidebar": "Contents",
   "toc_cell": false,
   "toc_position": {},
   "toc_section_display": true,
   "toc_window_display": false
  }
 },
 "nbformat": 4,
 "nbformat_minor": 5
}
