{
 "cells": [
  {
   "cell_type": "code",
   "execution_count": 1,
   "id": "48db52b1",
   "metadata": {},
   "outputs": [],
   "source": [
    "import pandas as pd \n",
    "import seaborn as sns\n",
    "import matplotlib.pyplot as plt"
   ]
  },
  {
   "cell_type": "code",
   "execution_count": 11,
   "id": "0a9e394b",
   "metadata": {
    "scrolled": true
   },
   "outputs": [],
   "source": [
    "df =pd.read_csv('./data/29_problem1.csv',encoding=\"euc-kr\" )"
   ]
  },
  {
   "cell_type": "code",
   "execution_count": 12,
   "id": "6f8f79fb",
   "metadata": {},
   "outputs": [
    {
     "name": "stdout",
     "output_type": "stream",
     "text": [
      "<class 'pandas.core.frame.DataFrame'>\n",
      "RangeIndex: 86904 entries, 0 to 86903\n",
      "Data columns (total 23 columns):\n",
      " #   Column   Non-Null Count  Dtype  \n",
      "---  ------   --------------  -----  \n",
      " 0   순번       86904 non-null  int64  \n",
      " 1   계약구분     86396 non-null  object \n",
      " 2   재계약횟수    86904 non-null  int64  \n",
      " 3   거주개월     86904 non-null  int64  \n",
      " 4   아파트 이름   86904 non-null  object \n",
      " 5   아파트 ID   86904 non-null  int64  \n",
      " 6   아파트 평점   85679 non-null  float64\n",
      " 7   호실고유번호   86904 non-null  int64  \n",
      " 8   층        86904 non-null  int64  \n",
      " 9   평형대      86904 non-null  int64  \n",
      " 10  계약자고유번호  86904 non-null  int64  \n",
      " 11  계약서고유번호  86904 non-null  int64  \n",
      " 12  입주연도     86904 non-null  int64  \n",
      " 13  퇴거연도     25762 non-null  float64\n",
      " 14  거주연도     86904 non-null  int64  \n",
      " 15  월세(원)    86904 non-null  int64  \n",
      " 16  보증금(원)   86904 non-null  int64  \n",
      " 17  대표나이     86904 non-null  int64  \n",
      " 18  나이       86904 non-null  int64  \n",
      " 19  성별       86904 non-null  object \n",
      " 20  결혼여부     86904 non-null  object \n",
      " 21  거주자 수    86904 non-null  int64  \n",
      " 22  퇴거여부     86904 non-null  object \n",
      "dtypes: float64(2), int64(16), object(5)\n",
      "memory usage: 15.2+ MB\n"
     ]
    }
   ],
   "source": [
    "df.info()"
   ]
  },
  {
   "cell_type": "code",
   "execution_count": 4,
   "id": "dfea30fa",
   "metadata": {},
   "outputs": [
    {
     "ename": "NameError",
     "evalue": "name 'ps' is not defined",
     "output_type": "error",
     "traceback": [
      "\u001b[0;31m---------------------------------------------------------------------------\u001b[0m",
      "\u001b[0;31mNameError\u001b[0m                                 Traceback (most recent call last)",
      "Input \u001b[0;32mIn [4]\u001b[0m, in \u001b[0;36m<cell line: 1>\u001b[0;34m()\u001b[0m\n\u001b[0;32m----> 1\u001b[0m \u001b[43mps\u001b[49m\n",
      "\u001b[0;31mNameError\u001b[0m: name 'ps' is not defined"
     ]
    }
   ],
   "source": [
    "ps"
   ]
  },
  {
   "cell_type": "code",
   "execution_count": 5,
   "id": "be5137bb",
   "metadata": {},
   "outputs": [
    {
     "name": "stdout",
     "output_type": "stream",
     "text": [
      "0316.ipynb            \u001b[31mpandas_ex7.ipynb\u001b[m\u001b[m*     \u001b[1m\u001b[36mrequirements\u001b[m\u001b[m/\r\n",
      "\u001b[31mADP_기출5회.ipynb\u001b[m\u001b[m*    \u001b[31mpart_1_2.ipynb\u001b[m\u001b[m*       \u001b[1m\u001b[36mstatistic\u001b[m\u001b[m/\r\n",
      "Untitled.ipynb        \u001b[31mpart_3.ipynb\u001b[m\u001b[m*\r\n",
      "\u001b[1m\u001b[36mdata\u001b[m\u001b[m/                 \u001b[31mpart_5.ipynb\u001b[m\u001b[m*\r\n"
     ]
    }
   ],
   "source": [
    "ls"
   ]
  },
  {
   "cell_type": "code",
   "execution_count": null,
   "id": "347aea24",
   "metadata": {},
   "outputs": [],
   "source": []
  }
 ],
 "metadata": {
  "hide_input": false,
  "kernelspec": {
   "display_name": "Python 3 (ipykernel)",
   "language": "python",
   "name": "python3"
  },
  "language_info": {
   "codemirror_mode": {
    "name": "ipython",
    "version": 3
   },
   "file_extension": ".py",
   "mimetype": "text/x-python",
   "name": "python",
   "nbconvert_exporter": "python",
   "pygments_lexer": "ipython3",
   "version": "3.9.10"
  },
  "toc": {
   "base_numbering": 1,
   "nav_menu": {},
   "number_sections": true,
   "sideBar": true,
   "skip_h1_title": false,
   "title_cell": "Table of Contents",
   "title_sidebar": "Contents",
   "toc_cell": false,
   "toc_position": {},
   "toc_section_display": true,
   "toc_window_display": false
  }
 },
 "nbformat": 4,
 "nbformat_minor": 5
}
