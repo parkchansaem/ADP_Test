{
 "cells": [
  {
   "cell_type": "markdown",
   "id": "65950b68-be32-4b11-a9dc-85bae201b4ff",
   "metadata": {},
   "source": [
    "데이터설명\r\n",
    "\r\n",
    "데이터 출처 : https://www.kaggle.com/datasets/mandysia/obesity-dataset-cleaned-and-data-sinthetic 후처리\r\n",
    "\r\n",
    "데이터 링크 : https://raw.githubusercontent.com/Datamanim/datarepo/main/adp/31/adp_31_1_obesity_v2.csv\r\n",
    "\r\n",
    "데이터 설명 : 각 환자의 의료정보이다. NObeyesdad를 종속변수로 하는 분류모델을 만드려고 한다.\r\n",
    "\r\n",
    "id: unique id for each row\r\n",
    "Gender: sex - male or female\r\n",
    "Age: age\r\n",
    "Height: height\r\n",
    "Weight: weight\r\n",
    "family_history_with_overweight: Has a family member suffered or suffers f from overweight? - yes or no\r\n",
    "FAVC: Frequent consumption of high caloric food - yes or no\r\n",
    "FCVC: Frequency of consumption of vegetables - Never, Sometimes, Always\r\n",
    "NCP: Number of main meals - 1, 2, 3, 4\r\n",
    "CAEC: Consumption of food between meals - No, Sometimes, Frequently, Always\r\n",
    "SMOKE: Do you smoke - yes o no\r\n",
    "CH2O: Consumption of water daily - Less than a litter, between 1 and 2 l, more than 2 l\r\n",
    "SCC: Calories consumption monitoring - yes or no\r\n",
    "FAF: Physical activity frequency - 0, 1 to 2, 2 to 4, 4 to 5\r\n",
    "TUE: Time using technology devices - 0 to 2, 3 to 5, >5\r\n",
    "CALC: Consumption of alcohol - no, sometimes, frequently, always\r\n",
    "MTRANS: Transportation used - automobile, motorbike, bike, public_transportation, walking\r\n",
    "BMI: Body mass index\r\n",
    "\r\n",
    "(종속변수)\r\n",
    "NObeyesdad: Type of obesity - overweight-level_i, obesity_type_i, obesity_type_ii, obesity_type_iii"
   ]
  },
  {
   "cell_type": "code",
   "execution_count": 3,
   "id": "d587540e-be47-4c6f-b6b6-b1e82b790787",
   "metadata": {},
   "outputs": [],
   "source": [
    "import pandas as pd\n",
    "import numpy as np\n",
    "import matplotlib.pyplot as plt"
   ]
  },
  {
   "cell_type": "code",
   "execution_count": 4,
   "id": "e352745d-7ddc-4ddc-92fc-97a10d77e6f0",
   "metadata": {},
   "outputs": [
    {
     "data": {
      "text/html": [
       "<div>\n",
       "<style scoped>\n",
       "    .dataframe tbody tr th:only-of-type {\n",
       "        vertical-align: middle;\n",
       "    }\n",
       "\n",
       "    .dataframe tbody tr th {\n",
       "        vertical-align: top;\n",
       "    }\n",
       "\n",
       "    .dataframe thead th {\n",
       "        text-align: right;\n",
       "    }\n",
       "</style>\n",
       "<table border=\"1\" class=\"dataframe\">\n",
       "  <thead>\n",
       "    <tr style=\"text-align: right;\">\n",
       "      <th></th>\n",
       "      <th>Unnamed: 0</th>\n",
       "      <th>id</th>\n",
       "      <th>Gender</th>\n",
       "      <th>Age</th>\n",
       "      <th>Height</th>\n",
       "      <th>Weight</th>\n",
       "      <th>family_history_with_overweight</th>\n",
       "      <th>FAVC</th>\n",
       "      <th>FCVC</th>\n",
       "      <th>NCP</th>\n",
       "      <th>CAEC</th>\n",
       "      <th>SMOKE</th>\n",
       "      <th>CH2O</th>\n",
       "      <th>SCC</th>\n",
       "      <th>FAF</th>\n",
       "      <th>TUE</th>\n",
       "      <th>CALC</th>\n",
       "      <th>MTRANS</th>\n",
       "      <th>NObeyesdad</th>\n",
       "      <th>BMI</th>\n",
       "    </tr>\n",
       "  </thead>\n",
       "  <tbody>\n",
       "    <tr>\n",
       "      <th>0</th>\n",
       "      <td>0</td>\n",
       "      <td>4</td>\n",
       "      <td>male</td>\n",
       "      <td>27</td>\n",
       "      <td>1.800000</td>\n",
       "      <td>87</td>\n",
       "      <td>no</td>\n",
       "      <td>no</td>\n",
       "      <td>always</td>\n",
       "      <td>3</td>\n",
       "      <td>sometimes</td>\n",
       "      <td>no</td>\n",
       "      <td>between 1 and 2 l</td>\n",
       "      <td>no</td>\n",
       "      <td>2 to 4</td>\n",
       "      <td>0 to 2</td>\n",
       "      <td>frequently</td>\n",
       "      <td>walking</td>\n",
       "      <td>overweight_level_i</td>\n",
       "      <td>26.851852</td>\n",
       "    </tr>\n",
       "    <tr>\n",
       "      <th>1</th>\n",
       "      <td>1</td>\n",
       "      <td>11</td>\n",
       "      <td>male</td>\n",
       "      <td>26</td>\n",
       "      <td>1.850000</td>\n",
       "      <td>105</td>\n",
       "      <td>yes</td>\n",
       "      <td>yes</td>\n",
       "      <td>always</td>\n",
       "      <td>3</td>\n",
       "      <td>frequently</td>\n",
       "      <td>no</td>\n",
       "      <td>more than 2 l</td>\n",
       "      <td>no</td>\n",
       "      <td>2 to 4</td>\n",
       "      <td>&gt;5</td>\n",
       "      <td>sometimes</td>\n",
       "      <td>public_transportation</td>\n",
       "      <td>obesity_type_i</td>\n",
       "      <td>30.679328</td>\n",
       "    </tr>\n",
       "    <tr>\n",
       "      <th>2</th>\n",
       "      <td>2</td>\n",
       "      <td>14</td>\n",
       "      <td>male</td>\n",
       "      <td>41</td>\n",
       "      <td>1.800000</td>\n",
       "      <td>99</td>\n",
       "      <td>no</td>\n",
       "      <td>yes</td>\n",
       "      <td>sometimes</td>\n",
       "      <td>3</td>\n",
       "      <td>sometimes</td>\n",
       "      <td>no</td>\n",
       "      <td>between 1 and 2 l</td>\n",
       "      <td>no</td>\n",
       "      <td>2 to 4</td>\n",
       "      <td>3 to 5</td>\n",
       "      <td>frequently</td>\n",
       "      <td>automobile</td>\n",
       "      <td>obesity_type_i</td>\n",
       "      <td>30.555556</td>\n",
       "    </tr>\n",
       "    <tr>\n",
       "      <th>3</th>\n",
       "      <td>3</td>\n",
       "      <td>18</td>\n",
       "      <td>female</td>\n",
       "      <td>29</td>\n",
       "      <td>1.530000</td>\n",
       "      <td>78</td>\n",
       "      <td>no</td>\n",
       "      <td>yes</td>\n",
       "      <td>sometimes</td>\n",
       "      <td>1</td>\n",
       "      <td>sometimes</td>\n",
       "      <td>no</td>\n",
       "      <td>between 1 and 2 l</td>\n",
       "      <td>no</td>\n",
       "      <td>0</td>\n",
       "      <td>0 to 2</td>\n",
       "      <td>no</td>\n",
       "      <td>automobile</td>\n",
       "      <td>obesity_type_i</td>\n",
       "      <td>33.320518</td>\n",
       "    </tr>\n",
       "    <tr>\n",
       "      <th>4</th>\n",
       "      <td>4</td>\n",
       "      <td>20</td>\n",
       "      <td>female</td>\n",
       "      <td>23</td>\n",
       "      <td>1.650000</td>\n",
       "      <td>70</td>\n",
       "      <td>yes</td>\n",
       "      <td>no</td>\n",
       "      <td>sometimes</td>\n",
       "      <td>1</td>\n",
       "      <td>sometimes</td>\n",
       "      <td>no</td>\n",
       "      <td>between 1 and 2 l</td>\n",
       "      <td>no</td>\n",
       "      <td>0</td>\n",
       "      <td>0 to 2</td>\n",
       "      <td>sometimes</td>\n",
       "      <td>public_transportation</td>\n",
       "      <td>overweight_level_i</td>\n",
       "      <td>25.711662</td>\n",
       "    </tr>\n",
       "    <tr>\n",
       "      <th>...</th>\n",
       "      <td>...</td>\n",
       "      <td>...</td>\n",
       "      <td>...</td>\n",
       "      <td>...</td>\n",
       "      <td>...</td>\n",
       "      <td>...</td>\n",
       "      <td>...</td>\n",
       "      <td>...</td>\n",
       "      <td>...</td>\n",
       "      <td>...</td>\n",
       "      <td>...</td>\n",
       "      <td>...</td>\n",
       "      <td>...</td>\n",
       "      <td>...</td>\n",
       "      <td>...</td>\n",
       "      <td>...</td>\n",
       "      <td>...</td>\n",
       "      <td>...</td>\n",
       "      <td>...</td>\n",
       "      <td>...</td>\n",
       "    </tr>\n",
       "    <tr>\n",
       "      <th>1257</th>\n",
       "      <td>1257</td>\n",
       "      <td>2,107</td>\n",
       "      <td>female</td>\n",
       "      <td>21</td>\n",
       "      <td>1.710730</td>\n",
       "      <td>131</td>\n",
       "      <td>yes</td>\n",
       "      <td>yes</td>\n",
       "      <td>always</td>\n",
       "      <td>3</td>\n",
       "      <td>sometimes</td>\n",
       "      <td>no</td>\n",
       "      <td>between 1 and 2 l</td>\n",
       "      <td>no</td>\n",
       "      <td>2 to 4</td>\n",
       "      <td>3 to 5</td>\n",
       "      <td>sometimes</td>\n",
       "      <td>public_transportation</td>\n",
       "      <td>obesity_type_iii</td>\n",
       "      <td>44.901475</td>\n",
       "    </tr>\n",
       "    <tr>\n",
       "      <th>1258</th>\n",
       "      <td>1258</td>\n",
       "      <td>2,108</td>\n",
       "      <td>female</td>\n",
       "      <td>22</td>\n",
       "      <td>1.748584</td>\n",
       "      <td>134</td>\n",
       "      <td>yes</td>\n",
       "      <td>yes</td>\n",
       "      <td>always</td>\n",
       "      <td>3</td>\n",
       "      <td>sometimes</td>\n",
       "      <td>no</td>\n",
       "      <td>between 1 and 2 l</td>\n",
       "      <td>no</td>\n",
       "      <td>1 to 2</td>\n",
       "      <td>3 to 5</td>\n",
       "      <td>sometimes</td>\n",
       "      <td>public_transportation</td>\n",
       "      <td>obesity_type_iii</td>\n",
       "      <td>43.741923</td>\n",
       "    </tr>\n",
       "    <tr>\n",
       "      <th>1259</th>\n",
       "      <td>1259</td>\n",
       "      <td>2,109</td>\n",
       "      <td>female</td>\n",
       "      <td>23</td>\n",
       "      <td>1.752206</td>\n",
       "      <td>134</td>\n",
       "      <td>yes</td>\n",
       "      <td>yes</td>\n",
       "      <td>always</td>\n",
       "      <td>3</td>\n",
       "      <td>sometimes</td>\n",
       "      <td>no</td>\n",
       "      <td>between 1 and 2 l</td>\n",
       "      <td>no</td>\n",
       "      <td>1 to 2</td>\n",
       "      <td>3 to 5</td>\n",
       "      <td>sometimes</td>\n",
       "      <td>public_transportation</td>\n",
       "      <td>obesity_type_iii</td>\n",
       "      <td>43.543817</td>\n",
       "    </tr>\n",
       "    <tr>\n",
       "      <th>1260</th>\n",
       "      <td>1260</td>\n",
       "      <td>2,110</td>\n",
       "      <td>female</td>\n",
       "      <td>24</td>\n",
       "      <td>1.739450</td>\n",
       "      <td>133</td>\n",
       "      <td>yes</td>\n",
       "      <td>yes</td>\n",
       "      <td>always</td>\n",
       "      <td>3</td>\n",
       "      <td>sometimes</td>\n",
       "      <td>no</td>\n",
       "      <td>more than 2 l</td>\n",
       "      <td>no</td>\n",
       "      <td>1 to 2</td>\n",
       "      <td>3 to 5</td>\n",
       "      <td>sometimes</td>\n",
       "      <td>public_transportation</td>\n",
       "      <td>obesity_type_iii</td>\n",
       "      <td>44.071535</td>\n",
       "    </tr>\n",
       "    <tr>\n",
       "      <th>1261</th>\n",
       "      <td>1261</td>\n",
       "      <td>2,111</td>\n",
       "      <td>female</td>\n",
       "      <td>24</td>\n",
       "      <td>1.738836</td>\n",
       "      <td>133</td>\n",
       "      <td>yes</td>\n",
       "      <td>yes</td>\n",
       "      <td>always</td>\n",
       "      <td>3</td>\n",
       "      <td>sometimes</td>\n",
       "      <td>no</td>\n",
       "      <td>more than 2 l</td>\n",
       "      <td>no</td>\n",
       "      <td>1 to 2</td>\n",
       "      <td>3 to 5</td>\n",
       "      <td>sometimes</td>\n",
       "      <td>public_transportation</td>\n",
       "      <td>obesity_type_iii</td>\n",
       "      <td>44.144338</td>\n",
       "    </tr>\n",
       "  </tbody>\n",
       "</table>\n",
       "<p>1262 rows × 20 columns</p>\n",
       "</div>"
      ],
      "text/plain": [
       "      Unnamed: 0     id  Gender  Age    Height  Weight  \\\n",
       "0              0      4    male   27  1.800000      87   \n",
       "1              1     11    male   26  1.850000     105   \n",
       "2              2     14    male   41  1.800000      99   \n",
       "3              3     18  female   29  1.530000      78   \n",
       "4              4     20  female   23  1.650000      70   \n",
       "...          ...    ...     ...  ...       ...     ...   \n",
       "1257        1257  2,107  female   21  1.710730     131   \n",
       "1258        1258  2,108  female   22  1.748584     134   \n",
       "1259        1259  2,109  female   23  1.752206     134   \n",
       "1260        1260  2,110  female   24  1.739450     133   \n",
       "1261        1261  2,111  female   24  1.738836     133   \n",
       "\n",
       "     family_history_with_overweight FAVC       FCVC  NCP        CAEC SMOKE  \\\n",
       "0                                no   no     always    3   sometimes    no   \n",
       "1                               yes  yes     always    3  frequently    no   \n",
       "2                                no  yes  sometimes    3   sometimes    no   \n",
       "3                                no  yes  sometimes    1   sometimes    no   \n",
       "4                               yes   no  sometimes    1   sometimes    no   \n",
       "...                             ...  ...        ...  ...         ...   ...   \n",
       "1257                            yes  yes     always    3   sometimes    no   \n",
       "1258                            yes  yes     always    3   sometimes    no   \n",
       "1259                            yes  yes     always    3   sometimes    no   \n",
       "1260                            yes  yes     always    3   sometimes    no   \n",
       "1261                            yes  yes     always    3   sometimes    no   \n",
       "\n",
       "                   CH2O SCC     FAF     TUE        CALC  \\\n",
       "0     between 1 and 2 l  no  2 to 4  0 to 2  frequently   \n",
       "1         more than 2 l  no  2 to 4      >5   sometimes   \n",
       "2     between 1 and 2 l  no  2 to 4  3 to 5  frequently   \n",
       "3     between 1 and 2 l  no       0  0 to 2          no   \n",
       "4     between 1 and 2 l  no       0  0 to 2   sometimes   \n",
       "...                 ...  ..     ...     ...         ...   \n",
       "1257  between 1 and 2 l  no  2 to 4  3 to 5   sometimes   \n",
       "1258  between 1 and 2 l  no  1 to 2  3 to 5   sometimes   \n",
       "1259  between 1 and 2 l  no  1 to 2  3 to 5   sometimes   \n",
       "1260      more than 2 l  no  1 to 2  3 to 5   sometimes   \n",
       "1261      more than 2 l  no  1 to 2  3 to 5   sometimes   \n",
       "\n",
       "                     MTRANS          NObeyesdad        BMI  \n",
       "0                   walking  overweight_level_i  26.851852  \n",
       "1     public_transportation      obesity_type_i  30.679328  \n",
       "2                automobile      obesity_type_i  30.555556  \n",
       "3                automobile      obesity_type_i  33.320518  \n",
       "4     public_transportation  overweight_level_i  25.711662  \n",
       "...                     ...                 ...        ...  \n",
       "1257  public_transportation    obesity_type_iii  44.901475  \n",
       "1258  public_transportation    obesity_type_iii  43.741923  \n",
       "1259  public_transportation    obesity_type_iii  43.543817  \n",
       "1260  public_transportation    obesity_type_iii  44.071535  \n",
       "1261  public_transportation    obesity_type_iii  44.144338  \n",
       "\n",
       "[1262 rows x 20 columns]"
      ]
     },
     "execution_count": 4,
     "metadata": {},
     "output_type": "execute_result"
    }
   ],
   "source": [
    "df = pd.read_csv('https://raw.githubusercontent.com/Datamanim/datarepo/main/adp/31/adp_31_1_obesity_v2.csv')\n",
    "df"
   ]
  },
  {
   "cell_type": "markdown",
   "id": "41212c70-d6a5-426e-a4f0-3473065ed785",
   "metadata": {},
   "source": [
    "1-1 EDA & 결측치 및 이상치를 판단하고 처리하라 "
   ]
  },
  {
   "cell_type": "code",
   "execution_count": 5,
   "id": "eea3bacd-d24b-4418-8e22-f40bbf6db2e1",
   "metadata": {},
   "outputs": [
    {
     "name": "stdout",
     "output_type": "stream",
     "text": [
      "<class 'pandas.core.frame.DataFrame'>\n",
      "RangeIndex: 1262 entries, 0 to 1261\n",
      "Data columns (total 20 columns):\n",
      " #   Column                          Non-Null Count  Dtype  \n",
      "---  ------                          --------------  -----  \n",
      " 0   Unnamed: 0                      1262 non-null   int64  \n",
      " 1   id                              1262 non-null   object \n",
      " 2   Gender                          1262 non-null   object \n",
      " 3   Age                             1262 non-null   int64  \n",
      " 4   Height                          1262 non-null   float64\n",
      " 5   Weight                          1262 non-null   int64  \n",
      " 6   family_history_with_overweight  1262 non-null   object \n",
      " 7   FAVC                            1262 non-null   object \n",
      " 8   FCVC                            1262 non-null   object \n",
      " 9   NCP                             1262 non-null   int64  \n",
      " 10  CAEC                            1262 non-null   object \n",
      " 11  SMOKE                           1262 non-null   object \n",
      " 12  CH2O                            1262 non-null   object \n",
      " 13  SCC                             1259 non-null   object \n",
      " 14  FAF                             1262 non-null   object \n",
      " 15  TUE                             1262 non-null   object \n",
      " 16  CALC                            1262 non-null   object \n",
      " 17  MTRANS                          1262 non-null   object \n",
      " 18  NObeyesdad                      1262 non-null   object \n",
      " 19  BMI                             1262 non-null   float64\n",
      "dtypes: float64(2), int64(4), object(14)\n",
      "memory usage: 197.3+ KB\n"
     ]
    }
   ],
   "source": [
    "df.info()"
   ]
  },
  {
   "cell_type": "code",
   "execution_count": 6,
   "id": "5071c3ee-8f46-4d05-9130-35803abff5d3",
   "metadata": {},
   "outputs": [
    {
     "data": {
      "text/html": [
       "<div>\n",
       "<style scoped>\n",
       "    .dataframe tbody tr th:only-of-type {\n",
       "        vertical-align: middle;\n",
       "    }\n",
       "\n",
       "    .dataframe tbody tr th {\n",
       "        vertical-align: top;\n",
       "    }\n",
       "\n",
       "    .dataframe thead th {\n",
       "        text-align: right;\n",
       "    }\n",
       "</style>\n",
       "<table border=\"1\" class=\"dataframe\">\n",
       "  <thead>\n",
       "    <tr style=\"text-align: right;\">\n",
       "      <th></th>\n",
       "      <th>Unnamed: 0</th>\n",
       "      <th>Age</th>\n",
       "      <th>Height</th>\n",
       "      <th>Weight</th>\n",
       "      <th>NCP</th>\n",
       "      <th>BMI</th>\n",
       "    </tr>\n",
       "  </thead>\n",
       "  <tbody>\n",
       "    <tr>\n",
       "      <th>count</th>\n",
       "      <td>1262.000000</td>\n",
       "      <td>1262.000000</td>\n",
       "      <td>1262.000000</td>\n",
       "      <td>1262.000000</td>\n",
       "      <td>1262.000000</td>\n",
       "      <td>1262.000000</td>\n",
       "    </tr>\n",
       "    <tr>\n",
       "      <th>mean</th>\n",
       "      <td>630.500000</td>\n",
       "      <td>25.749604</td>\n",
       "      <td>1.709184</td>\n",
       "      <td>101.083201</td>\n",
       "      <td>2.665610</td>\n",
       "      <td>34.439463</td>\n",
       "    </tr>\n",
       "    <tr>\n",
       "      <th>std</th>\n",
       "      <td>364.452329</td>\n",
       "      <td>9.898088</td>\n",
       "      <td>0.091361</td>\n",
       "      <td>21.520848</td>\n",
       "      <td>0.757143</td>\n",
       "      <td>6.106623</td>\n",
       "    </tr>\n",
       "    <tr>\n",
       "      <th>min</th>\n",
       "      <td>0.000000</td>\n",
       "      <td>15.000000</td>\n",
       "      <td>1.450000</td>\n",
       "      <td>53.000000</td>\n",
       "      <td>1.000000</td>\n",
       "      <td>22.826739</td>\n",
       "    </tr>\n",
       "    <tr>\n",
       "      <th>25%</th>\n",
       "      <td>315.250000</td>\n",
       "      <td>21.000000</td>\n",
       "      <td>1.631576</td>\n",
       "      <td>82.000000</td>\n",
       "      <td>3.000000</td>\n",
       "      <td>30.725995</td>\n",
       "    </tr>\n",
       "    <tr>\n",
       "      <th>50%</th>\n",
       "      <td>630.500000</td>\n",
       "      <td>24.000000</td>\n",
       "      <td>1.711095</td>\n",
       "      <td>105.000000</td>\n",
       "      <td>3.000000</td>\n",
       "      <td>34.332001</td>\n",
       "    </tr>\n",
       "    <tr>\n",
       "      <th>75%</th>\n",
       "      <td>945.750000</td>\n",
       "      <td>27.000000</td>\n",
       "      <td>1.775768</td>\n",
       "      <td>116.000000</td>\n",
       "      <td>3.000000</td>\n",
       "      <td>38.920119</td>\n",
       "    </tr>\n",
       "    <tr>\n",
       "      <th>max</th>\n",
       "      <td>1261.000000</td>\n",
       "      <td>150.000000</td>\n",
       "      <td>1.980000</td>\n",
       "      <td>173.000000</td>\n",
       "      <td>4.000000</td>\n",
       "      <td>50.811753</td>\n",
       "    </tr>\n",
       "  </tbody>\n",
       "</table>\n",
       "</div>"
      ],
      "text/plain": [
       "        Unnamed: 0          Age       Height       Weight          NCP  \\\n",
       "count  1262.000000  1262.000000  1262.000000  1262.000000  1262.000000   \n",
       "mean    630.500000    25.749604     1.709184   101.083201     2.665610   \n",
       "std     364.452329     9.898088     0.091361    21.520848     0.757143   \n",
       "min       0.000000    15.000000     1.450000    53.000000     1.000000   \n",
       "25%     315.250000    21.000000     1.631576    82.000000     3.000000   \n",
       "50%     630.500000    24.000000     1.711095   105.000000     3.000000   \n",
       "75%     945.750000    27.000000     1.775768   116.000000     3.000000   \n",
       "max    1261.000000   150.000000     1.980000   173.000000     4.000000   \n",
       "\n",
       "               BMI  \n",
       "count  1262.000000  \n",
       "mean     34.439463  \n",
       "std       6.106623  \n",
       "min      22.826739  \n",
       "25%      30.725995  \n",
       "50%      34.332001  \n",
       "75%      38.920119  \n",
       "max      50.811753  "
      ]
     },
     "execution_count": 6,
     "metadata": {},
     "output_type": "execute_result"
    }
   ],
   "source": [
    "df.describe()"
   ]
  },
  {
   "cell_type": "code",
   "execution_count": 9,
   "id": "6fe1769a-2966-4d9c-85b6-957e39f31a23",
   "metadata": {},
   "outputs": [
    {
     "data": {
      "text/plain": [
       "Unnamed: 0                        0\n",
       "id                                0\n",
       "Gender                            0\n",
       "Age                               0\n",
       "Height                            0\n",
       "Weight                            0\n",
       "family_history_with_overweight    0\n",
       "FAVC                              0\n",
       "FCVC                              0\n",
       "NCP                               0\n",
       "CAEC                              0\n",
       "SMOKE                             0\n",
       "CH2O                              0\n",
       "SCC                               3\n",
       "FAF                               0\n",
       "TUE                               0\n",
       "CALC                              0\n",
       "MTRANS                            0\n",
       "NObeyesdad                        0\n",
       "BMI                               0\n",
       "dtype: int64"
      ]
     },
     "execution_count": 9,
     "metadata": {},
     "output_type": "execute_result"
    }
   ],
   "source": [
    "df.isna().sum()"
   ]
  },
  {
   "cell_type": "code",
   "execution_count": 11,
   "id": "66dd192c-b61a-4847-8af2-bf870eb71d1b",
   "metadata": {},
   "outputs": [
    {
     "data": {
      "text/plain": [
       "no     1219\n",
       "yes      40\n",
       "Name: SCC, dtype: int64"
      ]
     },
     "execution_count": 11,
     "metadata": {},
     "output_type": "execute_result"
    }
   ],
   "source": [
    "df['SCC'].value_counts()"
   ]
  },
  {
   "cell_type": "code",
   "execution_count": 12,
   "id": "06e15d7d-084e-45da-af5c-b11b31879cc4",
   "metadata": {},
   "outputs": [
    {
     "data": {
      "text/plain": [
       "obesity_type_i        351\n",
       "obesity_type_iii      324\n",
       "obesity_type_ii       297\n",
       "overweight_level_i    290\n",
       "Name: NObeyesdad, dtype: int64"
      ]
     },
     "execution_count": 12,
     "metadata": {},
     "output_type": "execute_result"
    }
   ],
   "source": [
    "df['NObeyesdad'].value_counts()"
   ]
  },
  {
   "cell_type": "code",
   "execution_count": 26,
   "id": "79816c69-c20c-45c8-b087-3f9883a9d944",
   "metadata": {},
   "outputs": [
    {
     "data": {
      "image/png": "[encoded data removed]",
      "text/plain": [
       "<Figure size 1500x500 with 5 Axes>"
      ]
     },
     "metadata": {},
     "output_type": "display_data"
    }
   ],
   "source": [
    "num_x = [\"Age\",\"Height\",\"Weight\",\"NCP\",\"BMI\"]\n",
    "plt.figure(figsize=(15,5))\n",
    "for idx,n_feature in enumerate(num_x):\n",
    "    plt.subplot(1,len(num_x),idx+1)\n",
    "    plt.title(n_feature)\n",
    "    plt.boxplot(df[n_feature])\n",
    "plt.show()"
   ]
  },
  {
   "cell_type": "markdown",
   "id": "ca1cf1a3-bec5-4957-ab84-e3a65a4df38a",
   "metadata": {},
   "source": [
    "- 결측치는 SCC에 3개 존재한다. SCC는 yes,no로 구성된 범주형 변수이며, 결측치 처리 방법으로는 변수의 값을 평균 등의 대표값을 넣는 것과 해당 데이터를 제거하는 방법이 있다. 데이터의 분포를 보았을 때 SCC변수는 대부분 no가 들어가는 불균형 데이터로 과반수 차지하고 있고 종속변수의 값은 클래스별로 균등하게 분포되어 있다. 결측치의 개수가 매우 적은 비율임을 감안하여 해당하는 결측치는 제거 하도록 한다.\n",
    "- 이상치는 수치형 데이터들에 대해 박스플롯으로 시각화를 하였다. 이상치라고 생각해볼만한 변수는 Age가 있는데 140세가 넘는다는 정보가 일반적인 경우는 아니지만 제거하는데 있어서는 명확한 기준이 없기 때문에 제거하지 않는다. "
   ]
  },
  {
   "cell_type": "markdown",
   "id": "952b45f0-4480-404c-926e-794b77c1b42c",
   "metadata": {},
   "source": [
    "1-2 데이터 전처리 기법 2가지를 설명하고 주어진 데이터에 적용시 어떤 효과가 있는지 설명하라"
   ]
  },
  {
   "cell_type": "code",
   "execution_count": null,
   "id": "08a6ee2d-59e0-4bf0-94b8-0946fabb47a7",
   "metadata": {},
   "outputs": [],
   "source": [
    "# ? 데이터 전처리 기법 2가지는 "
   ]
  },
  {
   "cell_type": "markdown",
   "id": "20ca6c32-d0ca-43fc-b579-e1544a0dc1e0",
   "metadata": {},
   "source": [
    "1-3 피쳐 엔지니어링을 통해 파생변수 1개를 생성하고 그 이유를 말하라"
   ]
  },
  {
   "cell_type": "markdown",
   "id": "c89cf7b5-d99e-48b0-bd88-9d18a26e91eb",
   "metadata": {},
   "source": [
    "2-1 앙상블을 제외한 분류 모델 3가지 구축 및 결과 비교 및 설명하라"
   ]
  },
  {
   "cell_type": "markdown",
   "id": "9a6d0bc8-700f-4e27-9ab0-e6acc7b72edb",
   "metadata": {},
   "source": [
    "2-2 2-1에서 사용한 모델 중 하나를 골라 그리드 서치를 통해서 파라미터 튜닝 및 분류 모델 성능 평가 (precision ,recall)"
   ]
  },
  {
   "cell_type": "markdown",
   "id": "43b68794-3d2d-4a37-a0e2-67b941255fc1",
   "metadata": {},
   "source": [
    "2-3 2-1의 3가지 모델을 soft voting을 이용하여 모델링 한 결과와 2-2과 비교하라"
   ]
  },
  {
   "cell_type": "markdown",
   "id": "5fe0fd95-e258-4666-9bd4-706a365d434a",
   "metadata": {},
   "source": [
    "3-1 하나의 모델을 선정하여 Drop Column Importance 방식으로 각 변수 별로 전체 컬럼을 포함한 모델과의 recall 값의 차이를 계산하고 시각화 하라"
   ]
  },
  {
   "cell_type": "markdown",
   "id": "0636bdd9-c5a8-4962-8f18-e1b22034d599",
   "metadata": {},
   "source": [
    "데이터 설명\n",
    "데이터 출처 : 자체제작\n",
    "데이터 링크 : https://raw.githubusercontent.com/Datamanim/datarepo/main/adp/31/adp_31_2_v2.csv\n",
    "데이터 설명 : 중고등학생 건강검진 데이터"
   ]
  },
  {
   "cell_type": "markdown",
   "id": "dd89a45a-9098-40c7-9ba7-7b6d05970298",
   "metadata": {},
   "source": [
    "4-1"
   ]
  },
  {
   "cell_type": "markdown",
   "id": "a75c5fac-49fe-42e2-90c8-127b7b9d077c",
   "metadata": {},
   "source": [
    "아래의 기준으로 전처리를 하여 적정 체중 여부 컬럼을 생성하고 BMI를 5단위로 구분하여 와 적정 체중여부에 대한 빈도 표를 만들어라\n",
    "\n",
    "- bmi 계산 - Bmi = 몸무게(kg)/(키(m)**2)\n",
    "- 만나이 구하기 - 건강검진을 받았던 날을 기준으로 생년월일과 일수 차이가 16년 364일 이하인 경우 만 16세 그 이상의 경우 만 17로 분류하라 - 윤년 등은\n",
    "고려하지 않는다. 햇수로 16년 + 일수로 364일이 기준이다\n",
    "- 적정 체중 여부 (BMI가 아래 구간에 들어올 경우)\r\n",
    "17세 남자 : 21.03이상 23.21 미만\r\n",
    "17세 여자 : 20.03이상 22.39 미만\r\n",
    "16세 남자 : 21.18이상 23.45 미만\r\n",
    "16세 여자 : 19.61이상 21.74 미만"
   ]
  },
  {
   "cell_type": "markdown",
   "id": "d27457e7-95c7-4e9b-ab78-99e5c02f7f82",
   "metadata": {},
   "source": [
    "4-2"
   ]
  },
  {
   "cell_type": "markdown",
   "id": "f323e6df-44c6-466a-8345-32c4cc63be33",
   "metadata": {},
   "source": [
    "4-1에서 구한 적정 체중 여부와 나머지 컬럼(공학여부, 아침식사여부, 일주일운동시간, 채소섭취정도, 수면시간, 성별) 이 독립적인지 통계적으로 확인하라"
   ]
  },
  {
   "cell_type": "markdown",
   "id": "25ebd75e-2864-4131-92da-bb7d255a5cde",
   "metadata": {},
   "source": [
    "4-3 4-2에서 유의한 변수들만 가지고 적정 체중 여부를 예측하는 모델을 구현하고 성능 평가 및 해석을 하라 (로지스틱회귀 ,xgb)\n",
    "로지스틱회귀 모델은 오즈비를 구하라 xgb의 경우 각 피쳐중요도를 확인하고 예측에 영향을 가장 미치는 변수를 확인하라"
   ]
  },
  {
   "cell_type": "markdown",
   "id": "acbcc97a-066b-4c98-b435-2f6eaefa8b66",
   "metadata": {},
   "source": [
    "4-4 4-3 두 모델의 roc-auc 그래프를 하나의 그래프에 겹쳐 그려라"
   ]
  },
  {
   "cell_type": "code",
   "execution_count": null,
   "id": "6103cfe4-4c6c-488f-933b-035a4b050221",
   "metadata": {},
   "outputs": [],
   "source": [
    "5 평균이 𝜃이고 분산이 100인 정규분포의 사전분포가 100, 256일때 120의 값을 가지는 데이터가 있을 경우 사후평균은?"
   ]
  },
  {
   "cell_type": "code",
   "execution_count": null,
   "id": "3f2a1142-4b99-4946-a9ba-8495a59de2d6",
   "metadata": {},
   "outputs": [],
   "source": [
    "데이터 설명\n",
    "데이터 출처 : https://www.kaggle.com/datasets/yasserh/advertising-sales-dataset 후처리\n",
    "데이터 링크 : https://raw.githubusercontent.com/Datamanim/datarepo/main/adp/31/adp_31_5_advertising.csv\n",
    "데이터 설명 : TV, Radio, Newspaper에 각각 광고비(달러)를 다르게 했을때 매출액 (Sales , 밀리언달러)를 나타내는 데이터\n",
    "종속변수 : Sales"
   ]
  },
  {
   "cell_type": "code",
   "execution_count": null,
   "id": "965f07d4-c282-45f9-9e95-3ffaca13fade",
   "metadata": {},
   "outputs": [],
   "source": [
    "6-1 회귀 모델링 후 유의하지 않는변수 파악"
   ]
  },
  {
   "cell_type": "code",
   "execution_count": null,
   "id": "78b4d826-c832-49ab-8bd0-43b780cab7ef",
   "metadata": {},
   "outputs": [],
   "source": [
    "6-2 변수 선택시 먼저 제거 될 변수 및 근거 제시"
   ]
  },
  {
   "cell_type": "code",
   "execution_count": null,
   "id": "49ec252d-82e5-43df-98fd-9b768494dec6",
   "metadata": {},
   "outputs": [],
   "source": [
    "6-3 VIF를 통한 다중공선성 진단"
   ]
  },
  {
   "cell_type": "code",
   "execution_count": null,
   "id": "9fc20d6c-f927-4e77-a9fe-fbaaecaac109",
   "metadata": {},
   "outputs": [],
   "source": [
    "7 \n",
    "데이터 링크 : https://raw.githubusercontent.com/Datamanim/datarepo/main/adp/31/adp_31_7.csv\n",
    "데이터 설명 : A,B,C,D,E 영업사원의 각 계약 성사 유무 (1:계약 , 0:미계약) 를 나타낸 데이터이다. 영업사원의 평균 계약 성사 건수는 같은지 통계 검정하라"
   ]
  },
  {
   "cell_type": "code",
   "execution_count": null,
   "id": "23368d4e-65c3-4f6f-b798-b91cdfb53eef",
   "metadata": {},
   "outputs": [],
   "source": [
    "8 유기견이 하루에 2.2마리 발생한다."
   ]
  },
  {
   "cell_type": "code",
   "execution_count": null,
   "id": "728a7f92-5bc9-427f-80c2-8120de3fcdb7",
   "metadata": {},
   "outputs": [],
   "source": [
    "8-1 한마리도 한 버려질 확률"
   ]
  },
  {
   "cell_type": "code",
   "execution_count": null,
   "id": "cd52b117-930a-4ed3-9c70-6a1ba687941a",
   "metadata": {},
   "outputs": [],
   "source": [
    "8-2 적어도 2마리가 버려질 확률"
   ]
  },
  {
   "cell_type": "code",
   "execution_count": null,
   "id": "c5476e07-634a-4a75-96a9-f4138f41228e",
   "metadata": {},
   "outputs": [],
   "source": []
  },
  {
   "cell_type": "code",
   "execution_count": null,
   "id": "b259d3b9-17aa-4906-90b1-cde2915a49f8",
   "metadata": {},
   "outputs": [],
   "source": []
  },
  {
   "cell_type": "code",
   "execution_count": null,
   "id": "140b6ebe-729d-4de6-a8f8-2df3ea089c9b",
   "metadata": {},
   "outputs": [],
   "source": []
  }
 ],
 "metadata": {
  "kernelspec": {
   "display_name": "Python 3 (ipykernel)",
   "language": "python",
   "name": "python3"
  },
  "language_info": {
   "codemirror_mode": {
    "name": "ipython",
    "version": 3
   },
   "file_extension": ".py",
   "mimetype": "text/x-python",
   "name": "python",
   "nbconvert_exporter": "python",
   "pygments_lexer": "ipython3",
   "version": "3.11.5"
  }
 },
 "nbformat": 4,
 "nbformat_minor": 5
}
