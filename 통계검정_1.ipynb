{
 "cells": [
  {
   "cell_type": "markdown",
   "metadata": {},
   "source": [
    "## 일표본 "
   ]
  },
  {
   "cell_type": "markdown",
   "metadata": {},
   "source": [
    "모평균 추정 : 점추정 과 구간 추정"
   ]
  },
  {
   "cell_type": "code",
   "execution_count": 4,
   "metadata": {},
   "outputs": [
    {
     "name": "stdout",
     "output_type": "stream",
     "text": [
      "추정\n",
      " 점 추정량 : 33100 \n",
      " 구간 추정량 : (31630.02701159496, 34569.97298840504)\n",
      " 오차의 한계 : 1469.9729884050405  \n"
     ]
    }
   ],
   "source": [
    "import numpy as np\n",
    "## 모표준편차를 아는 경우의 추정\n",
    "# 모평균의 추정\n",
    "x = 33100 #표본 평균\n",
    "n = 36 #표본크기\n",
    "sigma = 4500 # 모표준편차\n",
    "conf_a = 0.05 # 신뢰수준(confidence level) 95% 기준\n",
    "\n",
    "from scipy.stats import norm # 표준정규분포 Z를 사용\n",
    "SE = sigma/np.sqrt(n) # 표준오차\n",
    "conf_z = norm.ppf(1-conf_a/2) # 신뢰계수\n",
    "ME = conf_z * SE #오차의 한계ㅐ = 혀용오차(ME: margin of error)\n",
    "\n",
    "print(\"추정\")\n",
    "print(f\" 점 추정량 : {x} \")\n",
    "print(f\" 구간 추정량 : {x-ME, x+ME}\")\n",
    "print(f\" 오차의 한계 : {ME}  \")\n"
   ]
  },
  {
   "cell_type": "markdown",
   "metadata": {},
   "source": [
    "모평균 추정- 모표준편차를 아는경우 : 표본 규모"
   ]
  },
  {
   "cell_type": "code",
   "execution_count": 5,
   "metadata": {},
   "outputs": [
    {
     "name": "stdout",
     "output_type": "stream",
     "text": [
      "표본 규모\n",
      "유의수준 0.050000000000000044에서 오차의 한계를 500 이하로 하려면 : 표본 규모 311.15816447622416 이상\n"
     ]
    }
   ],
   "source": [
    "# 오차의 한계에 따른 표본 규모\n",
    "# (위의 조건에 이어서 ) 오차의 한계가 500 이하일 확률이 0.95가 되도록 모집단 평균의 추정치를 원하는 경우, 표본 규모는 얼마가 되어야 하는가?\n",
    "ME = 500\n",
    "conf_a = 1-0.95 # 신뢰수준(confidence) 95%\n",
    "conf_z = norm.ppf(conf_a/2) #혹은 norm.ppf(1-conf_a/2)\n",
    "ssize = conf_z ** 2 * sigma**2 / ME**2\n",
    "print(\"표본 규모\")\n",
    "print(f\"유의수준 {conf_a}에서 오차의 한계를 {ME} 이하로 하려면 : 표본 규모 {ssize} 이상\")"
   ]
  },
  {
   "cell_type": "code",
   "execution_count": 13,
   "metadata": {},
   "outputs": [
    {
     "name": "stdout",
     "output_type": "stream",
     "text": [
      "검정\n",
      "임계값 : +/-1.959963984540054 검정통계량 1.4666666666666666\n",
      "유의수준 : 0.05, 유의확률 0.14246675482797233\n"
     ]
    }
   ],
   "source": [
    "# 모평균의 가설 검정\n",
    "# H0: mu = mu0, # H1 : mu != mu0\n",
    "x = 31100 #표본 평균\n",
    "n = 36 # 표본 크기\n",
    "sigma = 4500 # 모표본편차\n",
    "mu0 = 30000 #귀무가설의 모평균\n",
    "test_a = 0.05 # 가설검정을 위한 유의수준\n",
    "\n",
    "SE = sigma / np.sqrt(n) # Standard Error\n",
    "zstat = (x - mu0)/SE # 검정 통계량\n",
    "\n",
    "# 단측(one)/ 양측(Two) 검정에 따른 유의확률과 임계값\n",
    "ways = 'two' # 'two', 'one-right', 'one-left' #대립가설 기준\n",
    "if ways == 'two':\n",
    "    sp = (1-norm.cdf(np.abs(zstat)))*2 #significance probability\n",
    "    cv = norm.ppf(1-test_a/2) # critical value\n",
    "    cv = f\"+/-{cv}\"\n",
    "elif ways == 'one-right':\n",
    "    sp= 1-norm.cdf(zstat)\n",
    "    cv = norm.ppf(1-test_a)\n",
    "    cv = f\"cv{cv}\"\n",
    "elif ways == 'one-left':\n",
    "    sp = 1-norm.cdf(zstat)\n",
    "    cv = norm.ppf(test_a)\n",
    "    cv = f\"cv{cv}\"\n",
    "\n",
    "print(\"검정\")\n",
    "print(f\"임계값 : {cv} 검정통계량 {zstat}\")\n",
    "print(f\"유의수준 : {test_a}, 유의확률 {sp}\")"
   ]
  },
  {
   "cell_type": "code",
   "execution_count": 14,
   "metadata": {},
   "outputs": [
    {
     "name": "stdout",
     "output_type": "stream",
     "text": [
      "추정\n",
      "점추정 : 650\n",
      "구간추정 : (620.6925687485593, 679.3074312514407)\n",
      "오차의 한계 : 29.30743125144069\n"
     ]
    }
   ],
   "source": [
    "## 모표준편차를 모르는 경우\n",
    "# 모평균의 추정\n",
    "x = 650 #표본평균\n",
    "n = 16 #표본크기\n",
    "s = 55 #표본표준편차\n",
    "conf_a = 0.05 # 신뢰수준(confidence level) 95%\n",
    "df = n-1 #자유도\n",
    "\n",
    "from scipy.stats import t\n",
    "SE  = s/np.sqrt(n)\n",
    "conf_t = t.ppf(1-conf_a/2,df)\n",
    "ME = conf_t *SE\n",
    "\n",
    "print('추정')\n",
    "print(f\"점추정 : {x}\")\n",
    "print(f\"구간추정 : {x-ME,x+ME}\")\n",
    "print(f\"오차의 한계 : {ME}\")"
   ]
  },
  {
   "cell_type": "code",
   "execution_count": 23,
   "metadata": {},
   "outputs": [
    {
     "name": "stdout",
     "output_type": "stream",
     "text": [
      "표본 규모\n",
      "유의 수준 0.050000000000000044에서 오차의 한계를 20이하로 하려면 : 표본 크기 34.357021062316896이상 필요하다\n"
     ]
    }
   ],
   "source": [
    "# 오차의 한계에 따른 표본 규모\n",
    "# (위의 조건에 이어서 ) 오차의 한계가 20 이하일 확률이 0.95가 되도록 모집단 평균의 추정치를 원하는 경우, 표본 규모는 얼마가 되어야 하는가?\n",
    "ME2 = 20\n",
    "conf_a2 = 1 - 0.95 # 신뢰수준(confidence Level) 95% 기준\n",
    "conf_t2 = t.ppf(conf_a2/2,df)\n",
    "ssize = conf_t2 **2 * s**2 /ME2**2\n",
    "print(\"표본 규모\")\n",
    "print(f\"유의 수준 {conf_a2}에서 오차의 한계를 {ME2}이하로 하려면 : 표본 크기 {ssize}이상 필요하다\")"
   ]
  },
  {
   "cell_type": "code",
   "execution_count": 22,
   "metadata": {},
   "outputs": [
    {
     "name": "stdout",
     "output_type": "stream",
     "text": [
      "검정\n",
      "임계값 : 1.7530503556925547, 검정통계량 3.6363636363636362\n",
      "유의수준: 0.05, 유의확률 0.0012185096017776065\n"
     ]
    }
   ],
   "source": [
    "# 모평균의 가설검정 (=one-sample t-test)\n",
    "# H0 : mu = mu0 # H1: mu > mu0\n",
    "mu0 = 600 #귀무가설의 모평균\n",
    "test_a = 0.05 # 가설검정을 위한 유의수준\n",
    "x = 650 # 표본평균\n",
    "n = 16 # 표본크기\n",
    "s = 55 #표본표준편차\n",
    "df = n-1 #자유도\n",
    "\n",
    "SE = s/np.sqrt(n)\n",
    "tstat = (x-mu0)/SE\n",
    "\n",
    "#단측(one)/양측(two) 검정에 따른 유의확룰과 임계값\n",
    "ways = 'one-right' # 'two', 'one-right', 'one-left'\n",
    "if ways == 'two':\n",
    "    sp = (1-t.cdf(np.abs(tstat),df))* 2\n",
    "    cv = t.ppf(1-test_a/2,df)\n",
    "    cv = f\"+/- {cv}\"\n",
    "elif ways == 'one-right':\n",
    "    sp = 1-t.cdf(tstat,df)\n",
    "    cv = t.ppf(1-test_a,df)\n",
    "    cv = f'{cv}'\n",
    "elif ways == 'one-left':\n",
    "    sp = t.cdf(tstat,df)\n",
    "    cv = t.ppf(tstat,df)\n",
    "    cv = f'{cv}'\n",
    "\n",
    "print('검정')\n",
    "print(f\"임계값 : {cv}, 검정통계량 {tstat}\")\n",
    "print(f\"유의수준: {test_a}, 유의확률 {sp}\")\n"
   ]
  },
  {
   "cell_type": "code",
   "execution_count": 26,
   "metadata": {},
   "outputs": [
    {
     "name": "stdout",
     "output_type": "stream",
     "text": [
      "추정\n",
      "점추정량 : 0.44\n",
      "구간 추정량 (0.3964905653123594, 0.4835094346876406)\n",
      "오차의 한계: 0.043509434687640625\n"
     ]
    }
   ],
   "source": [
    "# 모비율 추정\n",
    "n = 500 #표본 크기\n",
    "p = 220/500 #표본비율\n",
    "conf_a = 0.05\n",
    "from scipy.stats import norm\n",
    "SE = np.sqrt(p*(1-p)/n) #표본비율로 SE계산\n",
    "conf_z = norm.ppf(1-conf_a/2)\n",
    "ME = conf_z * SE\n",
    "\n",
    "print(\"추정\")\n",
    "print(f\"점추정량 : {p}\")\n",
    "print(f\"구간 추정량 {p-ME,p+ME}\")\n",
    "print(f\"오차의 한계: {ME}\")"
   ]
  },
  {
   "cell_type": "code",
   "execution_count": null,
   "metadata": {},
   "outputs": [],
   "source": []
  }
 ],
 "metadata": {
  "kernelspec": {
   "display_name": "base",
   "language": "python",
   "name": "python3"
  },
  "language_info": {
   "codemirror_mode": {
    "name": "ipython",
    "version": 3
   },
   "file_extension": ".py",
   "mimetype": "text/x-python",
   "name": "python",
   "nbconvert_exporter": "python",
   "pygments_lexer": "ipython3",
   "version": "3.11.5"
  }
 },
 "nbformat": 4,
 "nbformat_minor": 2
}
